{
 "cells": [
  {
   "cell_type": "markdown",
   "metadata": {},
   "source": [
    "# Run REopt API located on localhost or NREL server"
   ]
  },
  {
   "cell_type": "markdown",
   "metadata": {},
   "source": [
    "## Initialization"
   ]
  },
  {
   "cell_type": "code",
   "execution_count": 1,
   "metadata": {},
   "outputs": [],
   "source": [
    "%matplotlib widget\n",
    "#%cd ..\n",
    "import pandas as pd\n",
    "import numpy as np\n",
    "import json\n",
    "import requests\n",
    "import matplotlib.pyplot as plt\n",
    "import copy\n",
    "import os\n",
    "from src.post_and_poll import get_api_results"
   ]
  },
  {
   "cell_type": "code",
   "execution_count": 2,
   "metadata": {},
   "outputs": [],
   "source": [
    "# following is not necessary but silences warnings:\n",
    "# InsecureRequestWarning: Unverified HTTPS request is being made to host 'developer.nrel.gov'. Adding certificate verification is strongly advised.\n",
    "import urllib3\n",
    "urllib3.disable_warnings()"
   ]
  },
  {
   "cell_type": "markdown",
   "metadata": {},
   "source": [
    "## Load a previously saved API response .json file instead of running REopt"
   ]
  },
  {
   "cell_type": "code",
   "execution_count": null,
   "metadata": {},
   "outputs": [],
   "source": [
    "response_json = 'response_1'\n",
    "with open('saved_responses/' + response_json + '.json', 'rb') as handle:\n",
    "    api_response = json.load(handle)"
   ]
  },
  {
   "cell_type": "markdown",
   "metadata": {},
   "source": [
    "## Scenario Inputs (Post), if wanting to do a new API call"
   ]
  },
  {
   "cell_type": "code",
   "execution_count": 4,
   "metadata": {},
   "outputs": [],
   "source": [
    "latitude =  37.78 # 33.7676338\n",
    "longitude = -122.45 # -84.5606888\n",
    "post_1 = {\n",
    "    \"latitude\": latitude,\n",
    "    \"longitude\": longitude,\n",
    "    \"borehole_depth_ft\": 400.0,\n",
    "    \"simulation_years\": 20,\n",
    "    \"solver_eft_tolerance_f\": 2.0,\n",
    "    \"ghx_model\": \"TESS\",\n",
    "    \"tess_ghx_minimum_timesteps_per_hour\": 1,\n",
    "    \"max_sizing_iterations\": 10,\n",
    "    \"init_sizing_factor_ft_per_peak_ton\": 300.0    \n",
    "}"
   ]
  },
  {
   "cell_type": "markdown",
   "metadata": {},
   "source": [
    "## Save the post to a .json file for sharing or future loading in"
   ]
  },
  {
   "cell_type": "code",
   "execution_count": null,
   "metadata": {},
   "outputs": [],
   "source": [
    "# Convert python dictionary post into json and save to a .json file\n",
    "post_save = post_1\n",
    "with open(\"posts/\" + 'post_1.json', 'w') as fp:\n",
    "    json.dump(post_save, fp)"
   ]
  },
  {
   "cell_type": "markdown",
   "metadata": {},
   "source": [
    "## Or load in a saved .json file for the post"
   ]
  },
  {
   "cell_type": "code",
   "execution_count": null,
   "metadata": {
    "scrolled": true
   },
   "outputs": [],
   "source": [
    "# Load a json into a python dictionary\n",
    "load_post = \"post_1\"\n",
    "with open(\"posts/\" + load_post + \".json\", 'r') as fp:\n",
    "    post_1 = json.load(fp)"
   ]
  },
  {
   "cell_type": "markdown",
   "metadata": {},
   "source": [
    "### Enter the root_url based on the \"location\" of the server that's hosting the API\n",
    "### and your API key from developer.nrel.gov"
   ]
  },
  {
   "cell_type": "code",
   "execution_count": null,
   "metadata": {},
   "outputs": [],
   "source": [
    "# Enter the branch name here, only used for development/TestRanch and staging servers\n",
    "branch_name = \"ghp-updates\"\n",
    "\n",
    "# Your API Key, only needed for production server\n",
    "API_KEY = \"uaz52dr5KTT5Qs5U72rS70hw3IYeHVEyAaDUFQvo\"\n",
    "\n",
    "# Local host, DO NOT use the first one if hosting API on Docker\n",
    "#root_url = \"http://localhost:8000/v1\"  # Cannot access host localhost from \"within Docker container\" as this is configured\n",
    "#root_url = \"http://host.docker.internal:8000/v1\"  # Must use this or below (gateway.docker.internal) for accessing host localhost\n",
    "root_url = \"http://gateway.docker.internal:8000/v1\"  # This one **might** work for both linux and Windows - how about WSL2?\n",
    "\n",
    "# Development/TestRanch server\n",
    "#root_url = \"https://\" + branch_name + \"-reopt-dev-api.its.nrel.gov/v1\"\n",
    "\n",
    "# Staging server\n",
    "#root_url = \"https://\" + branch_name + \"-reopt-stage-api.its.nrel.gov/v1\"\n",
    "\n",
    "# Production server\n",
    "root_url = \"https://developer.nrel.gov/api/reopt/v1\""
   ]
  },
  {
   "cell_type": "markdown",
   "metadata": {},
   "source": [
    "## POST and poll (period GET request) API to get a new result, if not loading in a previous response\n",
    "## ...This may take a while!"
   ]
  },
  {
   "cell_type": "code",
   "execution_count": null,
   "metadata": {
    "scrolled": true
   },
   "outputs": [],
   "source": [
    "api_response = get_api_results(post=post_1, \n",
    "                               API_KEY=API_KEY, \n",
    "                               api_url=root_url, \n",
    "                               results_file='outputs/my_results.json', \n",
    "                               run_id=None)"
   ]
  },
  {
   "cell_type": "markdown",
   "metadata": {},
   "source": [
    "### If you get disconnected from the polling function but you think it ran, \n",
    "### copy the run_uuid from the log above to manually GET the results:"
   ]
  },
  {
   "cell_type": "code",
   "execution_count": null,
   "metadata": {},
   "outputs": [],
   "source": [
    "run_uuid = \"301c2514-82c5-41d2-a5d6-5d2decbf6a52\"\n",
    "results_url = root_url + '/job/' + run_uuid + '/results/?api_key=' + API_KEY\n",
    "resp = requests.get(url=results_url, verify=False)\n",
    "api_response = json.loads(resp.text)"
   ]
  },
  {
   "cell_type": "code",
   "execution_count": null,
   "metadata": {},
   "outputs": [],
   "source": [
    "api_response[\"outputs\"][\"Scenario\"][\"run_uuid\"]"
   ]
  },
  {
   "cell_type": "markdown",
   "metadata": {},
   "source": [
    "## Get summary of results"
   ]
  },
  {
   "cell_type": "code",
   "execution_count": null,
   "metadata": {},
   "outputs": [],
   "source": [
    "print(\"NPV ($) = \", api_response[\"outputs\"][\"Scenario\"][\"Site\"][\"Financial\"][\"npv_us_dollars\"])\n",
    "print(\"Capital Cost, Net ($) = \", api_response[\"outputs\"][\"Scenario\"][\"Site\"][\"Financial\"][\"net_capital_costs\"])\n",
    "tech_list = [\"PV\", \"Wind\", \"Storage\", \"CHP\", \"Generator\", \"HotTES\", \"ColdTES\", \"AbsorptionChiller\", \"GHP\", \"NewBoiler\", \"SteamTurbine\"]\n",
    "for tech in tech_list:\n",
    "    if tech in post_1[\"Scenario\"][\"Site\"].keys():\n",
    "        if tech == \"GHP\":\n",
    "            print(\"GHX Number of Boreholes = \", api_response[\"outputs\"][\"Scenario\"][\"Site\"][tech][\"ghpghx_chosen_outputs\"].get(\"number_of_boreholes\"))\n",
    "            print(\"GHP Heat Pump Capacity (ton) = \", api_response[\"outputs\"][\"Scenario\"][\"Site\"][tech][\"ghpghx_chosen_outputs\"].get(\"peak_combined_heatpump_thermal_ton\"))\n",
    "        # PV and Storage are considered if the POST does not explicitly make max_[size] == 0\n",
    "        if tech == \"PV\" and post_1[\"Scenario\"][\"Site\"][\"PV\"][\"max_kw\"] == 0:\n",
    "            pass\n",
    "        elif tech == \"Storage\" and (post_1[\"Scenario\"][\"Site\"][\"Storage\"][\"max_kw\"] == 0 or post_1[\"Scenario\"][\"Site\"][\"Storage\"][\"max_kwh\"] == 0):\n",
    "            pass\n",
    "        else:\n",
    "            for size_name_value in [(key, val) for key, val in api_response[\"outputs\"][\"Scenario\"][\"Site\"][tech].items() if \"size\" in key]:\n",
    "                print(tech + \" \" + size_name_value[0], \" = \", size_name_value[1])\n",
    "    elif tech in [\"PV\", \"Storage\"]:\n",
    "        for size_name_value in [(key, val) for key, val in api_response[\"outputs\"][\"Scenario\"][\"Site\"][tech].items() if \"size\" in key]:\n",
    "                print(tech + \" \" + size_name_value[0], \" = \", size_name_value[1])                "
   ]
  },
  {
   "cell_type": "code",
   "execution_count": null,
   "metadata": {},
   "outputs": [],
   "source": [
    "elec_savings_year = api_response[\"outputs\"][\"Scenario\"][\"Site\"][\"ElectricTariff\"][\"year_one_bill_bau_us_dollars\"] - \\\n",
    "    api_response[\"outputs\"][\"Scenario\"][\"Site\"][\"ElectricTariff\"][\"year_one_bill_us_dollars\"]\n",
    "fuel_savings_year = api_response[\"outputs\"][\"Scenario\"][\"Site\"][\"FuelTariff\"][\"year_one_boiler_fuel_cost_bau_us_dollars\"] - \\\n",
    "    api_response[\"outputs\"][\"Scenario\"][\"Site\"][\"FuelTariff\"][\"year_one_boiler_fuel_cost_us_dollars\"]\n",
    "savings_year = elec_savings_year + fuel_savings_year\n",
    "payback = api_response[\"outputs\"][\"Scenario\"][\"Site\"][\"Financial\"][\"net_capital_costs\"] / savings_year\n",
    "payback"
   ]
  },
  {
   "cell_type": "markdown",
   "metadata": {},
   "source": [
    "## Do some custom response/results data processing"
   ]
  },
  {
   "cell_type": "code",
   "execution_count": null,
   "metadata": {},
   "outputs": [],
   "source": []
  },
  {
   "cell_type": "code",
   "execution_count": null,
   "metadata": {},
   "outputs": [],
   "source": []
  },
  {
   "cell_type": "markdown",
   "metadata": {},
   "source": [
    "## Save API response and scenario data into a .pickle file for later use"
   ]
  },
  {
   "cell_type": "code",
   "execution_count": null,
   "metadata": {},
   "outputs": [],
   "source": [
    "response_save = api_response\n",
    "file_name_to_save = \"response_1\"\n",
    "with open(\"saved_responses/\" + file_name_to_save + \".json\", 'w') as fp:\n",
    "    json.dump(response_save, fp)"
   ]
  },
  {
   "cell_type": "code",
   "execution_count": null,
   "metadata": {},
   "outputs": [],
   "source": []
  }
 ],
 "metadata": {
  "@webio": {
   "lastCommId": null,
   "lastKernelId": null
  },
  "kernelspec": {
   "display_name": "Python 3 (ipykernel)",
   "language": "python",
   "name": "python3"
  },
  "language_info": {
   "codemirror_mode": {
    "name": "ipython",
    "version": 3
   },
   "file_extension": ".py",
   "mimetype": "text/x-python",
   "name": "python",
   "nbconvert_exporter": "python",
   "pygments_lexer": "ipython3",
   "version": "3.9.7"
  },
  "latex_envs": {
   "LaTeX_envs_menu_present": true,
   "autoclose": false,
   "autocomplete": true,
   "bibliofile": "biblio.bib",
   "cite_by": "apalike",
   "current_citInitial": 1,
   "eqLabelWithNumbers": true,
   "eqNumInitial": 1,
   "hotkeys": {
    "equation": "Ctrl-E",
    "itemize": "Ctrl-I"
   },
   "labels_anchors": false,
   "latex_user_defs": false,
   "report_style_numbering": false,
   "user_envs_cfg": false
  }
 },
 "nbformat": 4,
 "nbformat_minor": 4
}
