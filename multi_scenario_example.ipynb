{
 "cells": [
  {
   "cell_type": "markdown",
   "id": "blocked-ozone",
   "metadata": {},
   "source": [
    "# Multi-scenario\n",
    "Multiple scenarios can be defined in a CSV file with rows for each scenrario and columns for the inputs. `all_api_inputs.csv` provides a template for all of the possible header values (input keys).\n",
    "\n",
    "Let's take a look at the example `scenarios.csv`:"
   ]
  },
  {
   "cell_type": "code",
   "execution_count": 1,
   "id": "understood-equality",
   "metadata": {},
   "outputs": [],
   "source": [
    "import json  # needed to load in our scenario\n",
    "import os  # to handle file paths across operating systems\n",
    "import pandas as pd  # only used to show the csv file\n",
    "from src.post_and_poll import get_api_results\n",
    "API_KEY = 'DEMO_KEY'  # REPLACE WITH YOUR API KEY"
   ]
  },
  {
   "cell_type": "code",
   "execution_count": 2,
   "id": "robust-appreciation",
   "metadata": {},
   "outputs": [],
   "source": [
    "# following is not necessary but silences warnings:\n",
    "# InsecureRequestWarning: Unverified HTTPS request is being made to host 'developer.nrel.gov'. Adding certificate verification is strongly advised.\n",
    "import urllib3\n",
    "urllib3.disable_warnings()"
   ]
  },
  {
   "cell_type": "code",
   "execution_count": 3,
   "id": "vertical-heritage",
   "metadata": {},
   "outputs": [
    {
     "data": {
      "text/html": [
       "<div>\n",
       "<style scoped>\n",
       "    .dataframe tbody tr th:only-of-type {\n",
       "        vertical-align: middle;\n",
       "    }\n",
       "\n",
       "    .dataframe tbody tr th {\n",
       "        vertical-align: top;\n",
       "    }\n",
       "\n",
       "    .dataframe thead th {\n",
       "        text-align: right;\n",
       "    }\n",
       "</style>\n",
       "<table border=\"1\" class=\"dataframe\">\n",
       "  <thead>\n",
       "    <tr style=\"text-align: right;\">\n",
       "      <th></th>\n",
       "      <th>site_number</th>\n",
       "      <th>description</th>\n",
       "      <th>latitude</th>\n",
       "      <th>longitude</th>\n",
       "      <th>PV|max_kw</th>\n",
       "      <th>urdb_label</th>\n",
       "      <th>load_file</th>\n",
       "      <th>Wind|max_kw</th>\n",
       "    </tr>\n",
       "  </thead>\n",
       "  <tbody>\n",
       "    <tr>\n",
       "      <th>0</th>\n",
       "      <td>1</td>\n",
       "      <td>site3-No-PV</td>\n",
       "      <td>34.1404</td>\n",
       "      <td>-118.2764</td>\n",
       "      <td>0.0</td>\n",
       "      <td>5a3821035457a32645d2dd80</td>\n",
       "      <td>site3_8760_loads_kw.csv</td>\n",
       "      <td>0</td>\n",
       "    </tr>\n",
       "    <tr>\n",
       "      <th>1</th>\n",
       "      <td>2</td>\n",
       "      <td>site3-With-PV</td>\n",
       "      <td>34.1404</td>\n",
       "      <td>-118.2764</td>\n",
       "      <td>NaN</td>\n",
       "      <td>5a3821035457a32645d2dd80</td>\n",
       "      <td>site3_8760_loads_kw.csv</td>\n",
       "      <td>0</td>\n",
       "    </tr>\n",
       "  </tbody>\n",
       "</table>\n",
       "</div>"
      ],
      "text/plain": [
       "   site_number    description  latitude  longitude  PV|max_kw  \\\n",
       "0            1    site3-No-PV   34.1404  -118.2764        0.0   \n",
       "1            2  site3-With-PV   34.1404  -118.2764        NaN   \n",
       "\n",
       "                 urdb_label                load_file  Wind|max_kw  \n",
       "0  5a3821035457a32645d2dd80  site3_8760_loads_kw.csv            0  \n",
       "1  5a3821035457a32645d2dd80  site3_8760_loads_kw.csv            0  "
      ]
     },
     "execution_count": 4,
     "metadata": {},
     "output_type": "execute_result"
    }
   ],
   "source": [
    "df = pd.read_csv(os.path.join(\"inputs\", \"scenarios.csv\"))\n",
    "\n",
    "df.head()"
   ]
  },
  {
   "cell_type": "markdown",
   "id": "disciplinary-alfred",
   "metadata": {},
   "source": [
    "We have two Scenarios:\n",
    "1. One with no PV nor Wind evaluated (by setting their `max_kw`s to zero)\n",
    "2. One with PV and no Wind evaluated\n",
    "\n",
    "Both Scenarios have the same location, the same electricity tariff (set via the `urdb_label`), and use the same custom load profile - which is passed in via another csv file."
   ]
  },
  {
   "cell_type": "code",
   "execution_count": 5,
   "id": "democratic-breed",
   "metadata": {},
   "outputs": [],
   "source": [
    "\"\"\"\n",
    "Here are some convenience definitions for using the Multi-scenario capabilities\n",
    "\"\"\"\n",
    "##############################################################################################################\n",
    "inputs_path = os.path.join(\".\", 'inputs')\n",
    "outputs_path = os.path.join(\".\", 'outputs')\n",
    "output_template = os.path.join(outputs_path, 'results_template.csv')\n",
    "output_file = os.path.join(outputs_path, 'results_summary.csv')\n",
    "output_file_spreadsheet_template = os.path.join('src', 'template.xlsx')\n",
    "output_file_spreadsheet = os.path.join(outputs_path, 'results_summary.xlsx')\n",
    "##############################################################################################################"
   ]
  },
  {
   "cell_type": "markdown",
   "id": "suspended-windsor",
   "metadata": {},
   "source": [
    "Let's start by converting the `scenarios.csv` into a list of POST's that we can send to the API:"
   ]
  },
  {
   "cell_type": "code",
   "execution_count": 6,
   "id": "empirical-composer",
   "metadata": {},
   "outputs": [],
   "source": [
    "from src.multi_site_inputs_parser import multi_site_csv_parser\n",
    "\n",
    "path_to_inputs = os.path.join(inputs_path, 'scenarios.csv')\n",
    "\n",
    "list_of_posts = multi_site_csv_parser(\n",
    "    path_to_inputs, \n",
    "    api_url='https://developer.nrel.gov/api/reopt/v2', \n",
    "    API_KEY=API_KEY\n",
    ")"
   ]
  },
  {
   "cell_type": "markdown",
   "id": "identified-first",
   "metadata": {},
   "source": [
    "Now we can collect all of the results using the `get_api_results` function from the Single Scenario example:"
   ]
  },
  {
   "cell_type": "code",
   "execution_count": 7,
   "id": "flexible-sellers",
   "metadata": {},
   "outputs": [
    {
     "name": "stderr",
     "output_type": "stream",
     "text": [
      "main         INFO     Response OK from https://developer.nrel.gov/api/reopt/v1/job/?api_key=DEMO_KEY.\n",
      "main         INFO     Polling https://developer.nrel.gov/api/reopt/v1/job/7272e113-ccb6-4faa-9ed1-49336dec7570/results/?api_key=DEMO_KEY for results with interval of 5s...\n",
      "main         INFO     Saved results to ./outputs/site3-No-PV.json\n",
      "main         INFO     Response OK from https://developer.nrel.gov/api/reopt/v1/job/?api_key=DEMO_KEY.\n",
      "main         INFO     Polling https://developer.nrel.gov/api/reopt/v1/job/0de8db16-bb21-49b3-935f-cc25841cc771/results/?api_key=DEMO_KEY for results with interval of 5s...\n",
      "main         INFO     Saved results to ./outputs/site3-With-PV.json\n"
     ]
    }
   ],
   "source": [
    "responses = []\n",
    "\n",
    "for post in list_of_posts:\n",
    "    responses.append(\n",
    "        get_api_results(\n",
    "            post, \n",
    "            results_file=os.path.join(outputs_path, post['Scenario']['description'] + '.json'),\n",
    "            api_url=\"https://developer.nrel.gov/api/reopt/v2\", \n",
    "            API_KEY=API_KEY\n",
    "        )\n",
    "    )"
   ]
  },
  {
   "cell_type": "markdown",
   "id": "moved-midnight",
   "metadata": {},
   "source": [
    "Note that we used the `Scenario.description` to define the results file name. The `Scenario.description` was defined in the `scenarios.csv`."
   ]
  },
  {
   "cell_type": "markdown",
   "id": "realistic-removal",
   "metadata": {},
   "source": [
    "### Summarizing multiple scenario results\n",
    "\n",
    "There are two options for making a summary of multiple scenarios' resutls:\n",
    "1. Write to a csv using a template with column headers for desired summary keys (scalar values only)\n",
    "2. Write all inputs, outputs, and dispatch to an Excel spreadsheet\n"
   ]
  },
  {
   "cell_type": "markdown",
   "id": "italian-history",
   "metadata": {},
   "source": [
    "#### Option 1: Use a template CSV to collect certain results"
   ]
  },
  {
   "cell_type": "code",
   "execution_count": 8,
   "id": "saved-relaxation",
   "metadata": {},
   "outputs": [],
   "source": [
    "from src.parse_api_responses_to_csv import parse_responses_to_csv_with_template\n",
    "\n",
    "parse_responses_to_csv_with_template(\n",
    "    csv_template=output_template, \n",
    "    responses=responses, \n",
    "    output_csv=output_file, \n",
    "    input_csv=path_to_inputs,\n",
    "    n_custom_columns=2\n",
    ")"
   ]
  },
  {
   "cell_type": "markdown",
   "id": "mobile-space",
   "metadata": {},
   "source": [
    "#### Option 2: Write all results out to an Excel file"
   ]
  },
  {
   "cell_type": "code",
   "execution_count": 9,
   "id": "nervous-grass",
   "metadata": {},
   "outputs": [
    {
     "name": "stderr",
     "output_type": "stream",
     "text": [
      "/Users/nlaws/.virtualenv/py36/lib/python3.6/site-packages/openpyxl/workbook/child.py:99: UserWarning: Title is more than 31 characters. Some applications may not be able to read the file\n",
      "  warnings.warn(\"Title is more than 31 characters. Some applications may not be able to read the file\")\n"
     ]
    }
   ],
   "source": [
    "from src.parse_api_responses_to_excel import parse_api_responses_to_excel\n",
    "\n",
    "parse_api_responses_to_excel(responses, template=output_file_spreadsheet_template, spreadsheet=output_file_spreadsheet)"
   ]
  }
 ],
 "metadata": {
  "kernelspec": {
   "display_name": "py36",
   "language": "python",
   "name": "py36"
  },
  "language_info": {
   "codemirror_mode": {
    "name": "ipython",
    "version": 3
   },
   "file_extension": ".py",
   "mimetype": "text/x-python",
   "name": "python",
   "nbconvert_exporter": "python",
   "pygments_lexer": "ipython3",
   "version": "3.6.8"
  }
 },
 "nbformat": 4,
 "nbformat_minor": 5
}
