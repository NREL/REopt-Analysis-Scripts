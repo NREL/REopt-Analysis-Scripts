{
 "cells": [
  {
   "cell_type": "markdown",
   "metadata": {},
   "source": [
    "# Run a REopt API evaluation"
   ]
  },
  {
   "cell_type": "markdown",
   "metadata": {},
   "source": [
    "## Initialization"
   ]
  },
  {
   "cell_type": "code",
   "execution_count": 1,
   "metadata": {},
   "outputs": [],
   "source": [
    "import pandas as pd\n",
    "import numpy as np\n",
    "import json\n",
    "import requests\n",
    "import copy\n",
    "import os\n",
    "from src.post_and_poll import get_api_results\n",
    "API_KEY = 'uiMp56xYMT983T2OikI0RrEKAyAAEDpZHzuC8nTC'  # REPLACE WITH YOUR API KEY"
   ]
  },
  {
   "cell_type": "code",
   "execution_count": 2,
   "metadata": {},
   "outputs": [],
   "source": [
    "# following is not necessary but silences warnings:\n",
    "# InsecureRequestWarning: Unverified HTTPS request is being made to host 'developer.nrel.gov'. Adding certificate verification is strongly advised.\n",
    "import urllib3\n",
    "urllib3.disable_warnings()"
   ]
  },
  {
   "cell_type": "code",
   "execution_count": 3,
   "metadata": {},
   "outputs": [],
   "source": [
    "\"\"\"\n",
    "Here are some convenience definitions for using the Multi-scenario capabilities\n",
    "\"\"\"\n",
    "##############################################################################################################\n",
    "inputs_path = os.path.join(\".\", 'inputs')\n",
    "outputs_path = os.path.join(\".\", 'outputs')\n",
    "loads_path = os.path.join(\".\", 'load_profiles')\n",
    "rates_path = os.path.join(\".\", 'electric_rates')\n",
    "##############################################################################################################"
   ]
  },
  {
   "cell_type": "markdown",
   "metadata": {},
   "source": [
    "## Load a previously saved API response .json file instead of running REopt"
   ]
  },
  {
   "cell_type": "code",
   "execution_count": 4,
   "metadata": {},
   "outputs": [],
   "source": [
    "response_json = 'results'\n",
    "with open(os.path.join(outputs_path, response_json + '.json'), 'rb') as handle:\n",
    "    api_response = json.load(handle)"
   ]
  },
  {
   "cell_type": "markdown",
   "metadata": {},
   "source": [
    "## Scenario Inputs (POST), if wanting to do a new API call"
   ]
  },
  {
   "cell_type": "code",
   "execution_count": 53,
   "metadata": {},
   "outputs": [],
   "source": [
    "post_1 = {\"Scenario\": {\n",
    "    \"optimality_tolerance_techs\": 0.01,\n",
    "    \"Site\": {\n",
    "        \"longitude\": -106.5527591,\n",
    "        \"latitude\": 35.0488506,\n",
    "        \"land_acres\": 1.0e6,\n",
    "        \"roof_squarefeet\": 1.0e9,\n",
    "        # \"renewable_electricity_min_pct\": 0.0,\n",
    "        # \"renewable_electricity_max_pct\": 0.0,\n",
    "        # \"co2_emissions_reduction_min_pct\": None,\n",
    "        # \"co2_emissions_reduction_max_pct\": None, # even if None or 1.0, this will trigger emissions constraints\n",
    "        \"off_grid_flag\": False,\n",
    "        \"include_climate_in_objective\": False,\n",
    "        \"LoadProfile\": {\n",
    "            \"loads_kw\": [],  # Populated below\n",
    "            \"critical_load_pct\": 0.999,  # Modeling all load = critical load\n",
    "            \"critical_loads_kw\": [],  # Not needed, using loads_kw and critical_load_pct = 1.0\n",
    "            \"outage_start_time_step\": 4565, #1540,  # just to make sure generator is sized >0\n",
    "            \"outage_end_time_step\": 4565 + 2*168,  # defined below\n",
    "            \"outage_is_major_event\": True,  # Not used in the optimization, only for value of lost load\n",
    "            \"year\": 2017,  # Consistent with using CRB's which we pre-process and combine into an aggregated load below\n",
    "        },\n",
    "        \"ElectricTariff\": {\n",
    "            \"blended_annual_rates_us_dollars_per_kwh\": 0.04,\n",
    "            \"blended_annual_demand_charges_us_dollars_per_kw\": 0.0,\n",
    "            \"wholesale_rate_us_dollars_per_kwh\": 0.04\n",
    "        },\n",
    "        \"Generator\": {\n",
    "            \"min_kw\": 3000.0,        \n",
    "            \"max_kw\": 3000.0,\n",
    "            \"diesel_fuel_cost_us_dollars_per_gallon\": 3.0,        \n",
    "            \"installed_cost_us_dollars_per_kw\": 800.0,  # From Jimmy\n",
    "            \"om_cost_us_dollars_per_kw\": 20.0,\n",
    "            \"om_cost_us_dollars_per_kwh\": 0.0,        \n",
    "            \"fuel_slope_gal_per_kwh\": 0.08217,  # 30% HHV efficiency \n",
    "            \"fuel_intercept_gal_per_hr\": 0.0,\n",
    "            \"fuel_avail_gal\": 2500.0,\n",
    "            \"min_turn_down_pct\": 0.0,\n",
    "            \"existing_kw\": 0.0,\n",
    "            \"generator_only_runs_during_grid_outage\": True,\n",
    "            \"generator_sells_energy_back_to_grid\": False,\n",
    "            \"macrs_option_years\": 0,\n",
    "            \"macrs_bonus_pct\": 0.0,\n",
    "        },      \n",
    "        \"PV\": {\n",
    "            \"installed_cost_us_dollars_per_kw\": 1256.0,  # From Dan's analysis, NOT From Jimmy, ATB 2021\n",
    "            \"om_cost_us_dollars_per_kw\": 22.0,  # From Dan's analysis, NOT REopt default, ATB 2020\n",
    "            \"array_type\": 2,\n",
    "            \"federal_itc_pct\": 0.0,\n",
    "            \"macrs_option_years\": 0,\n",
    "            \"macrs_bonus_pct\": 0.0,\n",
    "            \"macrs_itc_reduction\": 0.0\n",
    "        },\n",
    "        \"Storage\": {\n",
    "            \"soc_init_pct\": 0.0,\n",
    "            \"soc_min_pct\": 0.0,\n",
    "            \"installed_cost_us_dollars_per_kw\": 220.0,  # From Dan's analysis, NOT From Jimmy, ATB 2021 UTILITY SCALE SEEMS WAY LOW\n",
    "            \"installed_cost_us_dollars_per_kwh\": 424.0,  # From Dan's analysis, NOT From Jimmy, ATB 2021 UTILITY SCALE\n",
    "            \"replace_cost_us_dollars_per_kw\": 220.0/2.0,  # Assume half cost for inverter replacement\n",
    "            \"replace_cost_us_dollars_per_kwh\": 424.0/2.0,  # Assume half cost for battery pack replacement\n",
    "            \"inverter_replacement_year\": 12,\n",
    "            \"battery_replacement_year\": 12,\n",
    "            \"can_grid_charge\": True,\n",
    "            \"macrs_option_years\": 0,\n",
    "            \"macrs_bonus_pct\": 0.0,\n",
    "            \"macrs_itc_reduction\": 0.0,\n",
    "            \"total_itc_pct\": 0,\n",
    "        },\n",
    "        \"Financial\": {\n",
    "            \"om_cost_escalation_pct\": 0.0,\n",
    "            \"escalation_pct\": 0.0,\n",
    "            \"generator_fuel_escalation_pct\": 0.0,\n",
    "            \"offtaker_tax_pct\": 0.0,\n",
    "            \"offtaker_discount_pct\": 0.03,\n",
    "            \"analysis_years\": 25,\n",
    "            \"co2_cost_us_dollars_per_tonne\": 0.0  # Only used if Site.include_climate_in_objective = True\n",
    "        }\n",
    "}}}"
   ]
  },
  {
   "cell_type": "markdown",
   "metadata": {},
   "source": [
    "### Load in EACI (cricital) load data for Kirtland microgrid"
   ]
  },
  {
   "cell_type": "code",
   "execution_count": 75,
   "metadata": {},
   "outputs": [],
   "source": [
    "load_data_monthly = pd.read_excel('./load_profiles/INCOMPLETE_MG5_LoadMonthlyEnergyData_ProfileTypes_2019_JEQ_02222022.xlsx', index_col=0)"
   ]
  },
  {
   "cell_type": "code",
   "execution_count": 76,
   "metadata": {},
   "outputs": [
    {
     "data": {
      "text/html": [
       "<div>\n",
       "<style scoped>\n",
       "    .dataframe tbody tr th:only-of-type {\n",
       "        vertical-align: middle;\n",
       "    }\n",
       "\n",
       "    .dataframe tbody tr th {\n",
       "        vertical-align: top;\n",
       "    }\n",
       "\n",
       "    .dataframe thead th {\n",
       "        text-align: right;\n",
       "    }\n",
       "</style>\n",
       "<table border=\"1\" class=\"dataframe\">\n",
       "  <thead>\n",
       "    <tr style=\"text-align: right;\">\n",
       "      <th></th>\n",
       "      <th>20245</th>\n",
       "      <th>20202</th>\n",
       "      <th>20332</th>\n",
       "      <th>20201</th>\n",
       "      <th>20210</th>\n",
       "      <th>21002</th>\n",
       "      <th>20130</th>\n",
       "      <th>20203</th>\n",
       "      <th>20200</th>\n",
       "      <th>20325</th>\n",
       "      <th>20129</th>\n",
       "      <th>20107</th>\n",
       "      <th>20206</th>\n",
       "    </tr>\n",
       "  </thead>\n",
       "  <tbody>\n",
       "    <tr>\n",
       "      <th>Type</th>\n",
       "      <td>MediumOffice</td>\n",
       "      <td>FlatLoad_16_7</td>\n",
       "      <td>FlatLoad_16_7</td>\n",
       "      <td>SmallOffice</td>\n",
       "      <td>FlatLoad</td>\n",
       "      <td>FlatLoad</td>\n",
       "      <td>MediumOffice</td>\n",
       "      <td>MediumOffice</td>\n",
       "      <td>SmallOffice</td>\n",
       "      <td>FlatLoad</td>\n",
       "      <td>FlatLoad_8_5</td>\n",
       "      <td>FlatLoad_8_7</td>\n",
       "      <td>RetailStore</td>\n",
       "    </tr>\n",
       "    <tr>\n",
       "      <th>1</th>\n",
       "      <td>56340</td>\n",
       "      <td>70280</td>\n",
       "      <td>92400</td>\n",
       "      <td>0</td>\n",
       "      <td>16880</td>\n",
       "      <td>7289</td>\n",
       "      <td>64440</td>\n",
       "      <td>34440</td>\n",
       "      <td>40080</td>\n",
       "      <td>40360</td>\n",
       "      <td>62880</td>\n",
       "      <td>6180</td>\n",
       "      <td>2600</td>\n",
       "    </tr>\n",
       "    <tr>\n",
       "      <th>2</th>\n",
       "      <td>53640</td>\n",
       "      <td>50920</td>\n",
       "      <td>86400</td>\n",
       "      <td>0</td>\n",
       "      <td>13720</td>\n",
       "      <td>5188</td>\n",
       "      <td>58640</td>\n",
       "      <td>33400</td>\n",
       "      <td>33760</td>\n",
       "      <td>35400</td>\n",
       "      <td>56160</td>\n",
       "      <td>5280</td>\n",
       "      <td>2200</td>\n",
       "    </tr>\n",
       "  </tbody>\n",
       "</table>\n",
       "</div>"
      ],
      "text/plain": [
       "             20245          20202          20332        20201     20210  \\\n",
       "Type  MediumOffice  FlatLoad_16_7  FlatLoad_16_7  SmallOffice  FlatLoad   \n",
       "1            56340          70280          92400            0     16880   \n",
       "2            53640          50920          86400            0     13720   \n",
       "\n",
       "         21002         20130         20203        20200     20325  \\\n",
       "Type  FlatLoad  MediumOffice  MediumOffice  SmallOffice  FlatLoad   \n",
       "1         7289         64440         34440        40080     40360   \n",
       "2         5188         58640         33400        33760     35400   \n",
       "\n",
       "             20129         20107        20206  \n",
       "Type  FlatLoad_8_5  FlatLoad_8_7  RetailStore  \n",
       "1            62880          6180         2600  \n",
       "2            56160          5280         2200  "
      ]
     },
     "execution_count": 76,
     "metadata": {},
     "output_type": "execute_result"
    }
   ],
   "source": [
    "load_data_monthly.head(3)"
   ]
  },
  {
   "cell_type": "code",
   "execution_count": 18,
   "metadata": {},
   "outputs": [
    {
     "data": {
      "text/plain": [
       "'MediumOffice'"
      ]
     },
     "execution_count": 18,
     "metadata": {},
     "output_type": "execute_result"
    }
   ],
   "source": [
    "load_data_monthly[\"20245\"][\"Type\"]"
   ]
  },
  {
   "cell_type": "code",
   "execution_count": 75,
   "metadata": {},
   "outputs": [],
   "source": [
    "root_url = \"https://developer.nrel.gov/api/reopt/v1/\"\n",
    "endpoint = \"simulated_load\"\n",
    "api_url = root_url + endpoint + '/?api_key=' + API_KEY\n",
    "building_load_profiles = {}\n",
    "for building in load_data_monthly.columns:\n",
    "    data = load_data_monthly[building]\n",
    "    resp = requests.get(url=api_url, verify=False, params={\n",
    "            'load_type': \"electric\",\n",
    "            'doe_reference_name': data[\"Type\"],\n",
    "            'monthly_totals_kwh[0]': data[1],\n",
    "            'monthly_totals_kwh[1]': data[2],\n",
    "            'monthly_totals_kwh[2]': data[3],\n",
    "            'monthly_totals_kwh[3]': data[4],\n",
    "            'monthly_totals_kwh[4]': data[5],\n",
    "            'monthly_totals_kwh[5]': data[6],\n",
    "            'monthly_totals_kwh[6]': data[7],\n",
    "            'monthly_totals_kwh[7]': data[8],\n",
    "            'monthly_totals_kwh[8]': data[9],\n",
    "            'monthly_totals_kwh[9]': data[10],\n",
    "            'monthly_totals_kwh[10]': data[11],\n",
    "            'monthly_totals_kwh[11]': data[12],\n",
    "            # 'doe_reference_name[0]': bldg[0],\n",
    "            # 'doe_reference_name[1]': bldg[1],\n",
    "            # 'percent_share[0]': percent_share[0],\n",
    "            # 'percent_share[1]': percent_share[1],\n",
    "            'latitude': post_1[\"Scenario\"][\"Site\"][\"latitude\"],\n",
    "            'longitude': post_1[\"Scenario\"][\"Site\"][\"longitude\"]\n",
    "        })\n",
    "    building_load_data = json.loads(resp.text)\n",
    "    building_load_profiles[building] = building_load_data[\"loads_kw\"]"
   ]
  },
  {
   "cell_type": "code",
   "execution_count": 76,
   "metadata": {},
   "outputs": [],
   "source": [
    "building_load_profiles[\"all\"] = np.zeros(8760)\n",
    "for building in load_data_monthly.columns:\n",
    "    building_load_profiles[\"all\"] = building_load_profiles[\"all\"] + np.array(building_load_profiles[building])\n",
    "building_load_profiles[\"all\"] = list(building_load_profiles[\"all\"])\n",
    "building_load_profiles_df = pd.DataFrame.from_dict(building_load_profiles)"
   ]
  },
  {
   "cell_type": "code",
   "execution_count": null,
   "metadata": {},
   "outputs": [],
   "source": [
    "# Add timestamp for 2017 calendar from which the CRB loads are synced with\n",
    "from datetime import datetime, timedelta\n",
    "# Function below INCLUDES the end_date/last datetime\n",
    "def daterange(start_date, end_date):\n",
    "    delta = timedelta(hours=1)\n",
    "    while start_date <= end_date:\n",
    "        yield start_date\n",
    "        start_date += delta\n",
    "start_date = datetime(2017, 1, 1, 0, 00)\n",
    "end_date = datetime(2017, 12, 31, 23, 00)\n",
    "building_load_profiles_df.index = daterange(start_date, end_date)\n",
    "building_load_profiles_df.to_csv(\"./load_profiles/building_load_profiles.csv\")"
   ]
  },
  {
   "cell_type": "code",
   "execution_count": 54,
   "metadata": {},
   "outputs": [],
   "source": [
    "# OVERRIDING PROCESSED LOAD PROFILES WITH THE ONE JIMMY SENT WITH THE MISSING BUILDING, FOR NOW\n",
    "building_load_profiles_df = pd.read_csv('./load_profiles/building_load_profiles_03082022_JEQ.csv', index_col=0)"
   ]
  },
  {
   "cell_type": "code",
   "execution_count": 45,
   "metadata": {},
   "outputs": [],
   "source": [
    "import matplotlib.pyplot as plt\n",
    "import random"
   ]
  },
  {
   "cell_type": "code",
   "execution_count": 46,
   "metadata": {},
   "outputs": [
    {
     "data": {
      "text/plain": [
       "Text(0.5, 1.0, 'Microgrid Load')"
      ]
     },
     "execution_count": 46,
     "metadata": {},
     "output_type": "execute_result"
    },
    {
     "data": {
      "application/vnd.jupyter.widget-view+json": {
       "model_id": "767b1a99de614d4a84619405bcce34e0",
       "version_major": 2,
       "version_minor": 0
      },
      "text/html": [
       "\n",
       "            <div style=\"display: inline-block;\">\n",
       "                <div class=\"jupyter-widgets widget-label\" style=\"text-align: center;\">\n",
       "                    Figure\n",
       "                </div>\n",
       "                <img src='data:image/png;base64,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' width=640.0/>\n",
       "            </div>\n",
       "        "
      ],
      "text/plain": [
       "Canvas(toolbar=Toolbar(toolitems=[('Home', 'Reset original view', 'home', 'home'), ('Back', 'Back to previous …"
      ]
     },
     "metadata": {},
     "output_type": "display_data"
    }
   ],
   "source": [
    "%matplotlib widget\n",
    "plt.plot(building_load_profiles_df[\"All\"].values)\n",
    "plt.grid()\n",
    "# plt.legend()\n",
    "plt.ylabel(\"Microgrid Load (kW)\")\n",
    "plt.xlabel(\"Hour of the year (hour)\")\n",
    "plt.title(\"Microgrid Load\")"
   ]
  },
  {
   "cell_type": "code",
   "execution_count": 55,
   "metadata": {},
   "outputs": [],
   "source": [
    "# Determine which load will be used for the electric load profile and critical load\n",
    "post_1[\"Scenario\"][\"Site\"][\"LoadProfile\"][\"loads_kw\"] = list(building_load_profiles_df[\"All\"].values)\n",
    "# From post_1 definition above, critical_load_pct = 1 which is what we want"
   ]
  },
  {
   "cell_type": "markdown",
   "metadata": {},
   "source": [
    "### Load in a custom electric rate generated from https://reopt.nrel.gov/tool/custom_tariffs"
   ]
  },
  {
   "cell_type": "code",
   "execution_count": 6,
   "metadata": {},
   "outputs": [],
   "source": [
    "load_electric_rate = \"PGE_E20\"\n",
    "with open(os.path.join(rates_path, load_electric_rate + \".json\"), 'r') as fp:\n",
    "    rate_1 = json.load(fp)\n",
    "post_1[\"Scenario\"][\"Site\"][\"ElectricTariff\"][\"urdb_response\"] = rate_1"
   ]
  },
  {
   "cell_type": "markdown",
   "metadata": {},
   "source": [
    "## Save the POST to a .json file for sharing or future loading in"
   ]
  },
  {
   "cell_type": "code",
   "execution_count": 7,
   "metadata": {},
   "outputs": [],
   "source": [
    "# Convert python dictionary post into json and save to a .json file\n",
    "post_save = post_1\n",
    "post_name = \"post_1\"\n",
    "with open(os.path.join(inputs_path, post_name + \".json\"), 'w') as fp:\n",
    "    json.dump(post_save, fp)"
   ]
  },
  {
   "cell_type": "markdown",
   "metadata": {},
   "source": [
    "## Or load in a saved .json file for the inputs/POST"
   ]
  },
  {
   "cell_type": "code",
   "execution_count": 8,
   "metadata": {
    "scrolled": true
   },
   "outputs": [],
   "source": [
    "# Load a json into a python dictionary\n",
    "load_post = \"post_1\"\n",
    "with open(os.path.join(inputs_path, load_post + \".json\"), 'r') as fp:\n",
    "    post_1 = json.load(fp)"
   ]
  },
  {
   "cell_type": "markdown",
   "metadata": {},
   "source": [
    "## POST and poll (periodic GET request) the API to GET a new result, if not loading in a previous response. This may take a while!"
   ]
  },
  {
   "cell_type": "markdown",
   "metadata": {},
   "source": [
    "### Note, the `api_url` in the `get_api_results` function below calls the **production server** hosted API (master/main branch/version, publicly accessible)\n",
    "\n",
    "#### For calling a locally-hosted (localhost) API, see:\n",
    "- https://github.com/NREL/REopt_Lite_API/wiki/localhost-URLs-for-calling-locally-hosted-API\n",
    "\n",
    "#### For calling an API hosted on an NREL-internal server (only NREL users can access this), see:\n",
    "- https://github.nrel.gov/REopt/API_scripts/wiki/API-URLs-for-NREL-internal-servers"
   ]
  },
  {
   "cell_type": "markdown",
   "metadata": {},
   "source": [
    "`get_api_results` POST's your inputs to the API `job` endpoint, which provides a `run_uuid` if the input is valid, and then polls the `results` endpoint using the `run_uuid` until the results come back with a status other than `Optimizing...`.\n",
    "\n",
    "`get_api_results` also saves the results (full API response, including inputs) to the `results_file`.\n",
    "\n",
    "A log file is also created in the current working directory."
   ]
  },
  {
   "cell_type": "code",
   "execution_count": null,
   "metadata": {},
   "outputs": [],
   "source": [
    "# For randomly selecting outage start time\n",
    "# outage_start = random.randint(1, 8760)\n",
    "# post_1[\"Scenario\"][\"Site\"][\"LoadProfile\"][\"outage_start_time_step\"] = outage_start\n",
    "# post_1[\"Scenario\"][\"Site\"][\"LoadProfile\"][\"outage_end_time_step\"] = outage_start + 168*2"
   ]
  },
  {
   "cell_type": "code",
   "execution_count": 67,
   "metadata": {},
   "outputs": [],
   "source": [
    "def assign_sizes(post, PV_KW, B_KW, B_KWH, G_KW):\n",
    "    post[\"Scenario\"][\"Site\"][\"PV\"][\"min_kw\"] = PV_KW\n",
    "    post[\"Scenario\"][\"Site\"][\"PV\"][\"max_kw\"] = PV_KW\n",
    "    post[\"Scenario\"][\"Site\"][\"Storage\"][\"min_kw\"] = B_KW\n",
    "    post[\"Scenario\"][\"Site\"][\"Storage\"][\"max_kw\"] = B_KW\n",
    "    post[\"Scenario\"][\"Site\"][\"Storage\"][\"min_kwh\"] = B_KWH\n",
    "    post[\"Scenario\"][\"Site\"][\"Storage\"][\"max_kwh\"] = B_KWH\n",
    "    post[\"Scenario\"][\"Site\"][\"Generator\"][\"min_kw\"] = G_KW\n",
    "    post[\"Scenario\"][\"Site\"][\"Generator\"][\"max_kw\"] = G_KW\n",
    "    return post"
   ]
  },
  {
   "cell_type": "code",
   "execution_count": 167,
   "metadata": {},
   "outputs": [
    {
     "name": "stderr",
     "output_type": "stream",
     "text": [
      "main         INFO     Response OK from https://developer.nrel.gov/api/reopt/v1/job/?api_key=uiMp56xYMT983T2OikI0RrEKAyAAEDpZHzuC8nTC.\n",
      "main         INFO     Polling https://developer.nrel.gov/api/reopt/v1/job/396d2a3a-ca29-48c1-8058-23147c2021ad/results/?api_key=uiMp56xYMT983T2OikI0RrEKAyAAEDpZHzuC8nTC for results with interval of 5s...\n",
      "main         INFO     Saved results to ./outputs/MDT sizes/PV_2pctEsc_1000.json\n"
     ]
    }
   ],
   "source": [
    "root_url = \"https://developer.nrel.gov/api/reopt/v1\"\n",
    "outputs_path = './outputs/MDT sizes'\n",
    "name = \"PV_2pctEsc\"\n",
    "sweep = [1000]\n",
    "for size in sweep:\n",
    "    post_1 = assign_sizes(post_1, size, 0, 0, 0)\n",
    "    if name == \"Generator\" and size != 0:\n",
    "        # This forces Generator to dispatch during the 1 hour outage so that it sizes Generator properly\n",
    "        post_1[\"Scenario\"][\"Site\"][\"Storage\"][\"soc_init_pct\"]=0.0\n",
    "    else:\n",
    "        post_1[\"Scenario\"][\"Site\"][\"Storage\"][\"soc_init_pct\"]=0.5\n",
    "    outputs_file_name = name + \"_\" + str(size)\n",
    "    api_response = get_api_results(post=post_1,\n",
    "                                   API_KEY=API_KEY,\n",
    "                                   api_url=root_url,\n",
    "                                   results_file=os.path.join(outputs_path, outputs_file_name + \".json\"), \n",
    "                                   run_id=None)"
   ]
  },
  {
   "cell_type": "code",
   "execution_count": 57,
   "metadata": {},
   "outputs": [
    {
     "name": "stderr",
     "output_type": "stream",
     "text": [
      "main         INFO     Response OK from https://developer.nrel.gov/api/reopt/v1/job/?api_key=uiMp56xYMT983T2OikI0RrEKAyAAEDpZHzuC8nTC.\n",
      "main         INFO     Polling https://developer.nrel.gov/api/reopt/v1/job/0f46447f-328b-4720-a543-6f019e555d27/results/?api_key=uiMp56xYMT983T2OikI0RrEKAyAAEDpZHzuC8nTC for results with interval of 5s...\n",
      "main         INFO     Saved results to ./outputs/Selected outage start time/Peak load 100 kW Diesel.json\n",
      "main         INFO     Response OK from https://developer.nrel.gov/api/reopt/v1/job/?api_key=uiMp56xYMT983T2OikI0RrEKAyAAEDpZHzuC8nTC.\n",
      "main         INFO     Polling https://developer.nrel.gov/api/reopt/v1/job/35e4e086-49c7-45b9-98b8-61476a86a275/results/?api_key=uiMp56xYMT983T2OikI0RrEKAyAAEDpZHzuC8nTC for results with interval of 5s...\n",
      "main         INFO     Saved results to ./outputs/Selected outage start time/Peak load 200 kW Diesel.json\n",
      "main         INFO     Response OK from https://developer.nrel.gov/api/reopt/v1/job/?api_key=uiMp56xYMT983T2OikI0RrEKAyAAEDpZHzuC8nTC.\n",
      "main         INFO     Polling https://developer.nrel.gov/api/reopt/v1/job/4b21f250-1ba0-4459-bb3b-3a1de94472ce/results/?api_key=uiMp56xYMT983T2OikI0RrEKAyAAEDpZHzuC8nTC for results with interval of 5s...\n",
      "main         INFO     Saved results to ./outputs/Selected outage start time/Peak load 300 kW Diesel.json\n",
      "main         INFO     Response OK from https://developer.nrel.gov/api/reopt/v1/job/?api_key=uiMp56xYMT983T2OikI0RrEKAyAAEDpZHzuC8nTC.\n",
      "main         INFO     Polling https://developer.nrel.gov/api/reopt/v1/job/fe801567-5b6d-439d-aee6-9b30add7c1e7/results/?api_key=uiMp56xYMT983T2OikI0RrEKAyAAEDpZHzuC8nTC for results with interval of 5s...\n",
      "main         INFO     Saved results to ./outputs/Selected outage start time/Peak load 400 kW Diesel.json\n",
      "main         INFO     Response OK from https://developer.nrel.gov/api/reopt/v1/job/?api_key=uiMp56xYMT983T2OikI0RrEKAyAAEDpZHzuC8nTC.\n",
      "main         INFO     Polling https://developer.nrel.gov/api/reopt/v1/job/76b92d77-9417-4829-9211-6ac183eee085/results/?api_key=uiMp56xYMT983T2OikI0RrEKAyAAEDpZHzuC8nTC for results with interval of 5s...\n",
      "main         INFO     Saved results to ./outputs/Selected outage start time/Peak load 500 kW Diesel.json\n"
     ]
    }
   ],
   "source": [
    "import copy\n",
    "post = copy.deepcopy(post_1)\n",
    "for diesel_kw in range(100,501,100):\n",
    "    post[\"Scenario\"][\"Site\"][\"Generator\"][\"min_kw\"] = 0\n",
    "    post[\"Scenario\"][\"Site\"][\"Generator\"][\"max_kw\"] = diesel_kw\n",
    "    root_url = \"https://developer.nrel.gov/api/reopt/v1\"\n",
    "    outputs_path = './outputs/Selected outage start time'\n",
    "    # outputs_file_name = \"Peak load Optimal\"\n",
    "    outputs_file_name = \"Peak load \" + str(diesel_kw) + \" kW Diesel\"\n",
    "    api_response = get_api_results(post=post,\n",
    "                                   API_KEY=API_KEY,\n",
    "                                   api_url=root_url,\n",
    "                                   results_file=os.path.join(outputs_path, outputs_file_name + \".json\"), \n",
    "                                   run_id=None)"
   ]
  },
  {
   "cell_type": "markdown",
   "metadata": {},
   "source": [
    "### If you get disconnected from the polling function but you think it ran, copy the run_uuid from the log above to manually GET the results:"
   ]
  },
  {
   "cell_type": "code",
   "execution_count": 12,
   "metadata": {},
   "outputs": [
    {
     "name": "stdout",
     "output_type": "stream",
     "text": [
      "run_uuid =  a8b6bca7-8fc7-4f90-9c38-43143c685608\n"
     ]
    }
   ],
   "source": [
    "run_uuid = api_response[\"outputs\"][\"Scenario\"][\"run_uuid\"]\n",
    "print(\"run_uuid = \", api_response[\"outputs\"][\"Scenario\"][\"run_uuid\"])\n",
    "results_url = root_url + '/job/' + run_uuid + '/results/?api_key=' + API_KEY\n",
    "resp = requests.get(url=results_url, verify=False)\n",
    "api_response = json.loads(resp.text)"
   ]
  },
  {
   "cell_type": "markdown",
   "metadata": {},
   "source": [
    "## Get summary of results"
   ]
  },
  {
   "cell_type": "code",
   "execution_count": 31,
   "metadata": {},
   "outputs": [
    {
     "name": "stdout",
     "output_type": "stream",
     "text": [
      "NPV ($) =  None\n",
      "Capital Cost, Net ($) =  None\n",
      "PV size_kw  =  None\n",
      "Storage size_kw  =  None\n",
      "Storage size_kwh  =  None\n",
      "Generator size_kw  =  None\n"
     ]
    }
   ],
   "source": [
    "print(\"NPV ($) = \", api_response[\"outputs\"][\"Scenario\"][\"Site\"][\"Financial\"][\"npv_us_dollars\"])\n",
    "print(\"Capital Cost, Net ($) = \", api_response[\"outputs\"][\"Scenario\"][\"Site\"][\"Financial\"][\"net_capital_costs\"])\n",
    "tech_list = [\"PV\", \"Wind\", \"Storage\", \"CHP\", \"Generator\", \"HotTES\", \"ColdTES\", \"AbsorptionChiller\", \"GHP\", \"NewBoiler\", \"SteamTurbine\"]\n",
    "for tech in tech_list:\n",
    "    if tech in post[\"Scenario\"][\"Site\"].keys():\n",
    "        if tech == \"GHP\":\n",
    "            print(\"GHX Number of Boreholes = \", api_response[\"outputs\"][\"Scenario\"][\"Site\"][tech][\"ghpghx_chosen_outputs\"].get(\"number_of_boreholes\"))\n",
    "            print(\"GHP Heat Pump Capacity (ton) = \", api_response[\"outputs\"][\"Scenario\"][\"Site\"][tech][\"ghpghx_chosen_outputs\"].get(\"peak_combined_heatpump_thermal_ton\"))\n",
    "        # PV and Storage are considered if the POST does not explicitly make max_[size] == 0\n",
    "        for size_name_value in [(key, val) for key, val in api_response[\"outputs\"][\"Scenario\"][\"Site\"][tech].items() if \"size\" in key]:\n",
    "                print(tech + \" \" + size_name_value[0], \" = \", size_name_value[1])\n",
    "    elif tech in [\"PV\", \"Storage\"]:\n",
    "        for size_name_value in [(key, val) for key, val in api_response[\"outputs\"][\"Scenario\"][\"Site\"][tech].items() if \"size\" in key]:\n",
    "                print(tech + \" \" + size_name_value[0], \" = \", size_name_value[1])                "
   ]
  },
  {
   "cell_type": "code",
   "execution_count": 35,
   "metadata": {},
   "outputs": [],
   "source": [
    "# Create a dictionary with all of the outage start time responses\n",
    "directory = './outputs/Selected outage start time'\n",
    "responses = {}\n",
    "name_override = 'Peak load'\n",
    "for filename in os.listdir(directory):\n",
    "    f = os.path.join(directory, filename)\n",
    "    # checking if it is a file\n",
    "    if os.path.isfile(f):\n",
    "        if name_override in filename:\n",
    "            dict_data = json.load(open(f, 'rb'))\n",
    "        #     outage_start = dict_data[\"inputs\"][\"Scenario\"][\"Site\"][\"LoadProfile\"][\"outage_start_time_step\"]\n",
    "            responses[filename[10:-5]] = json.load(open(f, 'rb'))\n",
    "        #responses[filename] = json.load(open(f, 'rb'))   "
   ]
  },
  {
   "cell_type": "code",
   "execution_count": 36,
   "metadata": {},
   "outputs": [
    {
     "data": {
      "text/plain": [
       "dict_keys(['Optimal', '100 kW Diesel', '500 kW Diesel', '300 kW Diesel', '200 kW Diesel', '400 kW Diesel', '0 kW Diesel'])"
      ]
     },
     "execution_count": 36,
     "metadata": {},
     "output_type": "execute_result"
    }
   ],
   "source": [
    "responses.keys()"
   ]
  },
  {
   "cell_type": "code",
   "execution_count": 37,
   "metadata": {},
   "outputs": [],
   "source": [
    "pv_kw = []\n",
    "battery_kw = []\n",
    "battery_kwh = []\n",
    "wind_kw = []\n",
    "gen_kw = []\n",
    "npv = []\n",
    "for start, data in responses.items():\n",
    "    pv_kw.append(data[\"outputs\"][\"Scenario\"][\"Site\"][\"PV\"][\"size_kw\"])\n",
    "    battery_kw.append(data[\"outputs\"][\"Scenario\"][\"Site\"][\"Storage\"][\"size_kw\"])\n",
    "    battery_kwh.append(data[\"outputs\"][\"Scenario\"][\"Site\"][\"Storage\"][\"size_kwh\"])\n",
    "    wind_kw.append(data[\"outputs\"][\"Scenario\"][\"Site\"][\"Wind\"][\"size_kw\"])\n",
    "    gen_kw.append(data[\"outputs\"][\"Scenario\"][\"Site\"][\"Generator\"][\"size_kw\"]) \n",
    "    npv.append(data[\"outputs\"][\"Scenario\"][\"Site\"][\"Financial\"][\"npv_us_dollars\"])"
   ]
  },
  {
   "cell_type": "code",
   "execution_count": 38,
   "metadata": {},
   "outputs": [
    {
     "data": {
      "text/plain": [
       "[233.36801643497859,\n",
       " None,\n",
       " None,\n",
       " None,\n",
       " None,\n",
       " 4823.250454222898,\n",
       " 9823.217776735872]"
      ]
     },
     "execution_count": 38,
     "metadata": {},
     "output_type": "execute_result"
    }
   ],
   "source": [
    "battery_kwh"
   ]
  },
  {
   "cell_type": "code",
   "execution_count": 161,
   "metadata": {},
   "outputs": [
    {
     "name": "stdout",
     "output_type": "stream",
     "text": [
      "NPC $/kW =  572.0\n"
     ]
    }
   ],
   "source": [
    "sizes = battery_kwh\n",
    "npc = [-1*npv[i] for i in range(len(npv))]\n",
    "m, b = np.polyfit(sizes, npc, 1)\n",
    "print(\"NPC $/kW = \", round(m,1))"
   ]
  },
  {
   "cell_type": "code",
   "execution_count": 42,
   "metadata": {},
   "outputs": [
    {
     "data": {
      "text/plain": [
       "Text(0.5, 1.0, 'REopt sizing results for different outage start times')"
      ]
     },
     "execution_count": 42,
     "metadata": {},
     "output_type": "execute_result"
    },
    {
     "data": {
      "application/vnd.jupyter.widget-view+json": {
       "model_id": "959dee83e29045dcbfb19f1ab236735a",
       "version_major": 2,
       "version_minor": 0
      },
      "text/html": [
       "\n",
       "            <div style=\"display: inline-block;\">\n",
       "                <div class=\"jupyter-widgets widget-label\" style=\"text-align: center;\">\n",
       "                    Figure\n",
       "                </div>\n",
       "                <img src='data:image/png;base64,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' width=640.0/>\n",
       "            </div>\n",
       "        "
      ],
      "text/plain": [
       "Canvas(toolbar=Toolbar(toolitems=[('Home', 'Reset original view', 'home', 'home'), ('Back', 'Back to previous …"
      ]
     },
     "metadata": {},
     "output_type": "display_data"
    }
   ],
   "source": [
    "%matplotlib widget\n",
    "plt.scatter(responses.keys(), [pv_kw[i] or 0 for i in range(len(pv_kw))], label=\"pv_kw\")\n",
    "plt.scatter(responses.keys(), [battery_kw[i] or 0 for i in range(len(battery_kw))], label=\"battery_kw\")\n",
    "plt.scatter(responses.keys(), [battery_kwh[i] or 0 for i in range(len(battery_kwh))], label=\"battery_kwh\")\n",
    "plt.scatter(responses.keys(), [gen_kw[i] or 0 for i in range(len(gen_kw))], label=\"gen_kw\")\n",
    "plt.scatter(responses.keys(), [(npv[i] or 0)*-1/1E3 for i in range(len(npv))], label=\"NPC ($K)\")\n",
    "# m,b = np.polyfit(pv_kw, npv, 1)\n",
    "# npc = [-1*npv[i] for i in range(len(npv))]\n",
    "# coef = np.polyfit(sizes, npc, 1)\n",
    "# poly1d_fn = np.poly1d(coef) \n",
    "# poly1d_fn is now a function which takes in x and returns an estimate for y\n",
    "# plt.plot(pv_kw, y, 'yo', x, poly1d_fn(x), '--k')\n",
    "# plt.plot(sizes, npc, 'ro', sizes, poly1d_fn(sizes), '--k') #,  label=[\"NPC ($K)\", \"fit\"])\n",
    "plt.yticks(np.arange(0, 12000, 1000))\n",
    "\n",
    "plt.grid()\n",
    "plt.legend()\n",
    "plt.ylabel(\"Tech size (kW or kWh) and NPC ($K)\")\n",
    "# plt.xlabel(\"outage start time scenarios (hour)\")\n",
    "plt.xlabel(\"Size (kW/kWh)\")\n",
    "plt.title(\"REopt sizing results for different outage start times\")"
   ]
  },
  {
   "cell_type": "markdown",
   "metadata": {},
   "source": [
    "### Here are some results keys examples:"
   ]
  },
  {
   "cell_type": "code",
   "execution_count": 12,
   "metadata": {},
   "outputs": [
    {
     "data": {
      "text/plain": [
       "dict_keys(['outputs', 'inputs', 'messages'])"
      ]
     },
     "execution_count": 13,
     "metadata": {},
     "output_type": "execute_result"
    }
   ],
   "source": [
    "api_response.keys()"
   ]
  },
  {
   "cell_type": "code",
   "execution_count": 14,
   "metadata": {},
   "outputs": [
    {
     "data": {
      "text/plain": [
       "'optimal'"
      ]
     },
     "execution_count": 15,
     "metadata": {},
     "output_type": "execute_result"
    }
   ],
   "source": [
    "api_response[\"outputs\"][\"Scenario\"][\"status\"]"
   ]
  },
  {
   "cell_type": "code",
   "execution_count": 16,
   "metadata": {},
   "outputs": [
    {
     "name": "stdout",
     "output_type": "stream",
     "text": [
      "year_one_emissions_lb_C02\n",
      "year_one_emissions_bau_lb_C02\n",
      "outdoor_air_temp_degF\n",
      "renewable_electricity_energy_pct\n",
      "Financial\n",
      "LoadProfile\n",
      "LoadProfileBoilerFuel\n",
      "LoadProfileChillerThermal\n",
      "ElectricTariff\n",
      "FuelTariff\n",
      "Storage\n",
      "Generator\n",
      "Wind\n",
      "CHP\n",
      "Boiler\n",
      "ElectricChiller\n",
      "AbsorptionChiller\n",
      "HotTES\n",
      "ColdTES\n",
      "NewBoiler\n",
      "SteamTurbine\n",
      "GHP\n",
      "PV\n"
     ]
    }
   ],
   "source": [
    "for k in api_response[\"outputs\"][\"Scenario\"][\"Site\"].keys():\n",
    "    print(k)"
   ]
  },
  {
   "cell_type": "markdown",
   "metadata": {},
   "source": [
    "## Save API response into a JSON file for later use"
   ]
  },
  {
   "cell_type": "code",
   "execution_count": 17,
   "metadata": {},
   "outputs": [],
   "source": [
    "response_save = api_response\n",
    "file_name_to_save = \"response_1\"\n",
    "with open(os.path.join(outputs_path, file_name_to_save + \".json\"), 'w') as fp:\n",
    "    json.dump(response_save, fp)"
   ]
  }
 ],
 "metadata": {
  "@webio": {
   "lastCommId": null,
   "lastKernelId": null
  },
  "kernelspec": {
   "display_name": "Python 3 (ipykernel)",
   "language": "python",
   "name": "python3"
  },
  "language_info": {
   "codemirror_mode": {
    "name": "ipython",
    "version": 3
   },
   "file_extension": ".py",
   "mimetype": "text/x-python",
   "name": "python",
   "nbconvert_exporter": "python",
   "pygments_lexer": "ipython3",
   "version": "3.9.7"
  },
  "latex_envs": {
   "LaTeX_envs_menu_present": true,
   "autoclose": false,
   "autocomplete": true,
   "bibliofile": "biblio.bib",
   "cite_by": "apalike",
   "current_citInitial": 1,
   "eqLabelWithNumbers": true,
   "eqNumInitial": 1,
   "hotkeys": {
    "equation": "Ctrl-E",
    "itemize": "Ctrl-I"
   },
   "labels_anchors": false,
   "latex_user_defs": false,
   "report_style_numbering": false,
   "user_envs_cfg": false
  }
 },
 "nbformat": 4,
 "nbformat_minor": 4
}
