{
 "cells": [
  {
   "cell_type": "markdown",
   "metadata": {},
   "source": [
    "# Run a REopt API evaluation"
   ]
  },
  {
   "cell_type": "markdown",
   "metadata": {},
   "source": [
    "## Initialization"
   ]
  },
  {
   "cell_type": "code",
   "execution_count": 48,
   "metadata": {},
   "outputs": [],
   "source": [
    "import pandas as pd\n",
    "import numpy as np\n",
    "import json\n",
    "import requests\n",
    "import copy\n",
    "import os\n",
    "from src.post_and_poll import get_api_results\n",
    "API_KEY = 'uiMp56xYMT983T2OikI0RrEKAyAAEDpZHzuC8nTC'  # REPLACE WITH YOUR API KEY"
   ]
  },
  {
   "cell_type": "code",
   "execution_count": 49,
   "metadata": {},
   "outputs": [],
   "source": [
    "# following is not necessary but silences warnings:\n",
    "# InsecureRequestWarning: Unverified HTTPS request is being made to host 'developer.nrel.gov'. Adding certificate verification is strongly advised.\n",
    "import urllib3\n",
    "urllib3.disable_warnings()"
   ]
  },
  {
   "cell_type": "code",
   "execution_count": 50,
   "metadata": {},
   "outputs": [],
   "source": [
    "\"\"\"\n",
    "Here are some convenience definitions for using the Multi-scenario capabilities\n",
    "\"\"\"\n",
    "##############################################################################################################\n",
    "inputs_path = os.path.join(\".\", 'inputs')\n",
    "outputs_path = os.path.join(\".\", 'outputs')\n",
    "loads_path = os.path.join(\".\", 'load_profiles')\n",
    "rates_path = os.path.join(\".\", 'electric_rates')\n",
    "##############################################################################################################"
   ]
  },
  {
   "cell_type": "markdown",
   "metadata": {},
   "source": [
    "## Load a previously saved API response .json file instead of running REopt"
   ]
  },
  {
   "cell_type": "code",
   "execution_count": null,
   "metadata": {},
   "outputs": [],
   "source": [
    "response_json = 'results'\n",
    "with open(os.path.join(outputs_path, response_json + '.json'), 'rb') as handle:\n",
    "    api_response = json.load(handle)"
   ]
  },
  {
   "cell_type": "markdown",
   "metadata": {},
   "source": [
    "## Scenario Inputs (POST), if wanting to do a new API call"
   ]
  },
  {
   "cell_type": "code",
   "execution_count": null,
   "metadata": {},
   "outputs": [],
   "source": [
    "post_1 = {\n",
    "    \"Site\": {\n",
    "        \"latitude\": 37.78,\n",
    "        \"longitude\": -122.45\n",
    "    },\n",
    "    \"ElectricLoad\": {\n",
    "        \"doe_reference_name\": \"Hospital\"\n",
    "    },    \n",
    "    \"CoolingLoad\": {\n",
    "        \"doe_reference_name\": \"LargeOffice\"\n",
    "    },    \n",
    "    \"ElectricTariff\": {\n",
    "        \"blended_annual_energy_rate\": 0.1,\n",
    "        \"blended_annual_demand_rate\": 10\n",
    "    },\n",
    "    \"ExistingChiller\": {\n",
    "    },\n",
    "    \"PV\": {\n",
    "        \"max_kw\": 0\n",
    "    },    \n",
    "    \"ElectricStorage\": {\n",
    "        \"max_kwh\": 0,\n",
    "        \"max_kw\": 0\n",
    "    }    \n",
    "}"
   ]
  },
  {
   "cell_type": "markdown",
   "metadata": {},
   "source": [
    "### Load in a custom electric rate generated from https://reopt.nrel.gov/tool/custom_tariffs"
   ]
  },
  {
   "cell_type": "code",
   "execution_count": null,
   "metadata": {},
   "outputs": [],
   "source": [
    "load_electric_rate = \"PGE_E20\"\n",
    "with open(os.path.join(rates_path, load_electric_rate + \".json\"), 'r') as fp:\n",
    "    rate_1 = json.load(fp)\n",
    "post_1[\"Scenario\"][\"Site\"][\"ElectricTariff\"][\"urdb_response\"] = rate_1"
   ]
  },
  {
   "cell_type": "markdown",
   "metadata": {},
   "source": [
    "## Save the POST to a .json file for sharing or future loading in"
   ]
  },
  {
   "cell_type": "code",
   "execution_count": null,
   "metadata": {},
   "outputs": [],
   "source": [
    "# Convert python dictionary post into json and save to a .json file\n",
    "post_save = post_1\n",
    "post_name = \"post_1\"\n",
    "with open(os.path.join(inputs_path, post_name + \".json\"), 'w') as fp:\n",
    "    json.dump(post_save, fp)"
   ]
  },
  {
   "cell_type": "markdown",
   "metadata": {},
   "source": [
    "## Or load in a saved .json file for the inputs/POST"
   ]
  },
  {
   "cell_type": "code",
   "execution_count": 51,
   "metadata": {
    "scrolled": true
   },
   "outputs": [],
   "source": [
    "# Load a json into a python dictionary\n",
    "load_post = \"dev_web_sample_site_resilience_with_generator_inputs\"\n",
    "with open(os.path.join(inputs_path, load_post + \".json\"), 'r') as fp:\n",
    "    post_1 = json.load(fp)"
   ]
  },
  {
   "cell_type": "markdown",
   "metadata": {},
   "source": [
    "## POST and poll (periodic GET request) the API to GET a new result, if not loading in a previous response. This may take a while!"
   ]
  },
  {
   "cell_type": "markdown",
   "metadata": {},
   "source": [
    "### Note, the `api_url` in the `get_api_results` function below calls the **production server** hosted API (master/main branch/version, publicly accessible)\n",
    "\n",
    "#### For calling a locally-hosted (localhost) API, see:\n",
    "- https://github.com/NREL/REopt_Lite_API/wiki/localhost-URLs-for-calling-locally-hosted-API\n",
    "\n",
    "#### For calling an API hosted on an NREL-internal server (only NREL users can access this), see:\n",
    "- https://github.nrel.gov/REopt/API_scripts/wiki/API-URLs-for-NREL-internal-servers"
   ]
  },
  {
   "cell_type": "markdown",
   "metadata": {},
   "source": [
    "`get_api_results` POST's your inputs to the API `job` endpoint, which provides a `run_uuid` if the input is valid, and then polls the `results` endpoint using the `run_uuid` until the results come back with a status other than `Optimizing...`.\n",
    "\n",
    "`get_api_results` also saves the results (full API response, including inputs) to the `results_file`.\n",
    "\n",
    "A log file is also created in the current working directory."
   ]
  },
  {
   "cell_type": "code",
   "execution_count": 54,
   "metadata": {},
   "outputs": [
    {
     "name": "stderr",
     "output_type": "stream",
     "text": [
      "main         INFO     Response OK from http://host.docker.internal:8000/dev/job/?api_key=uiMp56xYMT983T2OikI0RrEKAyAAEDpZHzuC8nTC.\n",
      "main         INFO     Polling http://host.docker.internal:8000/dev/job/c925c365-e507-415f-a665-e54ae010dfbd/results/?api_key=uiMp56xYMT983T2OikI0RrEKAyAAEDpZHzuC8nTC for results with interval of 5s...\n",
      "main         INFO     Saved results to ./outputs/dev_web_sample_results.json\n"
     ]
    }
   ],
   "source": [
    "outputs_file_name = \"dev_web_sample_results\"\n",
    "#root_url = \"https://developer.nrel.gov/api/reopt/stable\"\n",
    "root_url = \"http://host.docker.internal:8000/dev\"\n",
    "api_response = get_api_results(post=post_1, \n",
    "                               API_KEY=API_KEY, \n",
    "                               api_url=root_url, \n",
    "                               results_file=os.path.join(outputs_path, outputs_file_name + \".json\"), \n",
    "                               run_id=None)"
   ]
  },
  {
   "cell_type": "markdown",
   "metadata": {},
   "source": [
    "### If you get disconnected from the polling function but you think it ran, copy the run_uuid from the log above to manually GET the results:"
   ]
  },
  {
   "cell_type": "code",
   "execution_count": null,
   "metadata": {},
   "outputs": [],
   "source": [
    "run_uuid = api_response[\"run_uuid\"]\n",
    "results_url = root_url + '/job/' + run_uuid + '/results/?api_key=' + API_KEY\n",
    "resp = requests.get(url=results_url, verify=False)\n",
    "api_response = json.loads(resp.text)"
   ]
  },
  {
   "cell_type": "markdown",
   "metadata": {},
   "source": [
    "## Get summary of results"
   ]
  },
  {
   "cell_type": "code",
   "execution_count": 55,
   "metadata": {},
   "outputs": [
    {
     "name": "stdout",
     "output_type": "stream",
     "text": [
      "NPV ($) =  3235050.79\n",
      "Capital Cost, Net ($) =  4137078.5662\n",
      "PV size_kw  =  2863.679\n",
      "ElectricStorage size_kw  =  538.92\n",
      "ElectricStorage size_kwh  =  3095.8\n",
      "Generator size_kw  =  0.0\n"
     ]
    }
   ],
   "source": [
    "print(\"NPV ($) = \", api_response[\"outputs\"][\"Financial\"][\"npv\"])\n",
    "print(\"Capital Cost, Net ($) = \", api_response[\"outputs\"][\"Financial\"][\"lifecycle_capital_costs\"])\n",
    "tech_list = [\"PV\", \"Wind\", \"ElectricStorage\", \"CHP\", \"Generator\", \"HotThermalStorage\", \"ColdThermalStorage\", \"AbsorptionChiller\", \"GHP\", \"NewBoiler\", \"SteamTurbine\"]\n",
    "for tech in tech_list:\n",
    "    if tech in post_1.keys():# and post_1[tech][\"max_kw\"]>0.0:\n",
    "        if tech == \"GHP\":\n",
    "            print(\"GHX Number of Boreholes = \", api_response[\"outputs\"][tech][\"ghpghx_chosen_outputs\"].get(\"number_of_boreholes\"))\n",
    "            print(\"GHP Heat Pump Capacity (ton) = \", api_response[\"outputs\"][tech][\"ghpghx_chosen_outputs\"].get(\"peak_combined_heatpump_thermal_ton\"))\n",
    "        # PV and Storage are considered if the POST does not explicitly make max_[size] == 0\n",
    "        for size_name_value in [(key, val) for key, val in api_response[\"outputs\"][tech].items() if \"size\" in key]:\n",
    "                print(tech + \" \" + size_name_value[0], \" = \", size_name_value[1])\n",
    "    elif tech in [\"PV\", \"ElectricStorage\"]:# and (post_1[tech][\"max_kw\"]>0.0):\n",
    "        for size_name_value in [(key, val) for key, val in api_response[\"outputs\"][tech].items() if \"size\" in key]:\n",
    "                print(tech + \" \" + size_name_value[0], \" = \", size_name_value[1])                     "
   ]
  },
  {
   "cell_type": "code",
   "execution_count": 56,
   "metadata": {},
   "outputs": [],
   "source": [
    "pv_total_kw_series = [api_response[\"outputs\"][\"PV\"][\"year_one_to_load_series_kw\"][i] + \n",
    "                    api_response[\"outputs\"][\"PV\"][\"year_one_to_battery_series_kw\"][i] + \n",
    "                    api_response[\"outputs\"][\"PV\"][\"year_one_to_grid_series_kw\"][i] + \n",
    "                    api_response[\"outputs\"][\"PV\"][\"year_one_curtailed_production_series_kw\"][i] for i in range(len(api_response[\"outputs\"][\"PV\"][\"year_one_to_load_series_kw\"]))]\n",
    "pv_production_factor = [prod_kw / api_response[\"outputs\"][\"PV\"][\"size_kw\"] for prod_kw in pv_total_kw_series]\n"
   ]
  },
  {
   "cell_type": "markdown",
   "metadata": {},
   "source": [
    "### Run the ERP tool with REopt results and inputs"
   ]
  },
  {
   "cell_type": "code",
   "execution_count": 57,
   "metadata": {},
   "outputs": [
    {
     "data": {
      "text/plain": [
       "500"
      ]
     },
     "execution_count": 57,
     "metadata": {},
     "output_type": "execute_result"
    }
   ],
   "source": [
    "0 or 500"
   ]
  },
  {
   "cell_type": "code",
   "execution_count": 58,
   "metadata": {},
   "outputs": [],
   "source": [
    "post_erp = {\n",
    "        \"reopt_run_uuid\": api_response[\"run_uuid\"],\n",
    "        \"generator_operational_availability\": 0.9998, \n",
    "        \"generator_failure_to_start\" : 0.0066, \n",
    "        \"generator_failure_to_run\" : 0.00157,\n",
    "        \"num_generators\" : 1,\n",
    "        \"generator_size_kw\" : api_response[\"outputs\"][\"Generator\"][\"size_kw\"] or 100.0,\n",
    "        \"num_battery_bins\" : 101,\n",
    "        \"max_outage_duration\" : post_1[\"ElectricLoad\"][\"outage_end_time_step\"] - post_1[\"ElectricLoad\"][\"outage_start_time_step\"],\n",
    "        \"battery_size_kw\" : api_response[\"outputs\"][\"ElectricStorage\"][\"size_kw\"],\n",
    "        \"battery_size_kwh\" : api_response[\"outputs\"][\"ElectricStorage\"][\"size_kwh\"],\n",
    "        \"pv_size_kw\" : api_response[\"outputs\"][\"PV\"][\"size_kw\"],\n",
    "        \"pv_production_factor_series\": pv_production_factor,\n",
    "        \"critical_loads_kw\": api_response[\"outputs\"][\"ElectricLoad\"][\"critical_load_series_kw\"]\n",
    "    \n",
    "}"
   ]
  },
  {
   "cell_type": "code",
   "execution_count": null,
   "metadata": {},
   "outputs": [],
   "source": [
    "# Load a json into a python dictionary\n",
    "#load_post = \"ERP_only_sim_post\"\n",
    "load_post = \"ERP_REopt_sim_post\"\n",
    "with open(os.path.join(inputs_path, load_post + \".json\"), 'r') as fp:\n",
    "    post_erp = json.load(fp)\n",
    "post_erp[\"reopt_run_uuid\"] = api_response[\"run_uuid\"]"
   ]
  },
  {
   "cell_type": "markdown",
   "metadata": {},
   "source": [
    "#### POST to the ERP tool to run"
   ]
  },
  {
   "cell_type": "code",
   "execution_count": 60,
   "metadata": {},
   "outputs": [],
   "source": [
    "erp_url_post = root_url + '/erp/' \n",
    "resp = requests.post(url=erp_url_post, json=post_erp, verify=False)"
   ]
  },
  {
   "cell_type": "markdown",
   "metadata": {},
   "source": [
    "#### GET the ERP results"
   ]
  },
  {
   "cell_type": "code",
   "execution_count": 61,
   "metadata": {},
   "outputs": [],
   "source": [
    "erp_uuid = json.loads(resp.text)[\"run_uuid\"]\n",
    "erp_url_get = erp_url_post + erp_uuid + '/results/?api_key=' + API_KEY\n",
    "resp = requests.get(url=erp_url_get, verify=False)\n",
    "erp_response = json.loads(resp.text)"
   ]
  },
  {
   "cell_type": "markdown",
   "metadata": {},
   "source": [
    "#### ERP Plots"
   ]
  },
  {
   "cell_type": "code",
   "execution_count": 63,
   "metadata": {},
   "outputs": [
    {
     "data": {
      "text/plain": [
       "dict_keys(['mean_marginal_survival_by_duration', 'min_marginal_survival_by_duration', 'mean_cumulative_survival_by_duration', 'min_cumulative_survival_by_duration', 'cumulative_outage_survival_final_time_step', 'mean_cumulative_outage_survival_final_time_step'])"
      ]
     },
     "execution_count": 63,
     "metadata": {},
     "output_type": "execute_result"
    }
   ],
   "source": [
    "erp_response.keys()"
   ]
  },
  {
   "cell_type": "code",
   "execution_count": 73,
   "metadata": {},
   "outputs": [
    {
     "data": {
      "image/png": "[encoded data removed]",
      "text/plain": [
       "<Figure size 432x288 with 1 Axes>"
      ]
     },
     "metadata": {
      "needs_background": "light"
     },
     "output_type": "display_data"
    }
   ],
   "source": [
    "import matplotlib.pyplot as plt\n",
    "import matplotlib.ticker as mtick\n",
    "cum_survival = erp_response[\"mean_cumulative_survival_by_duration\"]\n",
    "mar_survival = erp_response[\"mean_marginal_survival_by_duration\"]\n",
    "max_duration = len(cum_survival)\n",
    "outage_durations = range(1, max_duration + 1)\n",
    "\n",
    "#Creates line plots. As set up is plotting marginal and cumulative survival on same plot. \n",
    "plt.plot(outage_durations, mar_survival, linestyle='-', label = \"Marginal survival\", color = \"black\")\n",
    "plt.plot(outage_durations, cum_survival, linestyle='-', label = \"Cumulative survival\", color = \"red\")\n",
    "plt.xlabel(\"Outage duration\")\n",
    "plt.ylabel(\"Survival probability\")\n",
    "plt.gca().yaxis.set_major_formatter(mtick.PercentFormatter(xmax=1.0))\n",
    "plt.ylim([0,1])\n",
    "plt.xlim([1,max_duration])\n",
    "time_list =   [120, 48, 24,  12, 8]\n",
    "time_ticks = [12,   6,  3,   2, 1]\n",
    "\n",
    "tick_mark_step = 24\n",
    "for i in range(len(time_list)):\n",
    "    if max_duration < time_list[i]:\n",
    "        tick_mark_step = time_ticks[i]\n",
    "\n",
    "plt.xticks(range(0, max_duration+1, tick_mark_step))\n",
    "plt.legend()\n",
    "plt.show()"
   ]
  },
  {
   "cell_type": "code",
   "execution_count": null,
   "metadata": {},
   "outputs": [],
   "source": []
  },
  {
   "cell_type": "markdown",
   "metadata": {},
   "source": [
    "## Save API response into a JSON file for later use"
   ]
  },
  {
   "cell_type": "code",
   "execution_count": null,
   "metadata": {},
   "outputs": [],
   "source": [
    "response_save = api_response\n",
    "file_name_to_save = \"response_1\"\n",
    "with open(os.path.join(outputs_path, file_name_to_save + \".json\"), 'w') as fp:\n",
    "    json.dump(response_save, fp)"
   ]
  }
 ],
 "metadata": {
  "@webio": {
   "lastCommId": null,
   "lastKernelId": null
  },
  "kernelspec": {
   "display_name": "Python 3 (ipykernel)",
   "language": "python",
   "name": "python3"
  },
  "language_info": {
   "codemirror_mode": {
    "name": "ipython",
    "version": 3
   },
   "file_extension": ".py",
   "mimetype": "text/x-python",
   "name": "python",
   "nbconvert_exporter": "python",
   "pygments_lexer": "ipython3",
   "version": "3.10.5"
  },
  "latex_envs": {
   "LaTeX_envs_menu_present": true,
   "autoclose": false,
   "autocomplete": true,
   "bibliofile": "biblio.bib",
   "cite_by": "apalike",
   "current_citInitial": 1,
   "eqLabelWithNumbers": true,
   "eqNumInitial": 1,
   "hotkeys": {
    "equation": "Ctrl-E",
    "itemize": "Ctrl-I"
   },
   "labels_anchors": false,
   "latex_user_defs": false,
   "report_style_numbering": false,
   "user_envs_cfg": false
  }
 },
 "nbformat": 4,
 "nbformat_minor": 4
}
