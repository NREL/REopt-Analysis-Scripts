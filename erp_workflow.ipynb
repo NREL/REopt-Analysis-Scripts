{
 "cells": [
  {
   "cell_type": "markdown",
   "metadata": {},
   "source": [
    "# Run a REopt API evaluation"
   ]
  },
  {
   "cell_type": "markdown",
   "metadata": {},
   "source": [
    "## Initialization"
   ]
  },
  {
   "cell_type": "code",
   "execution_count": 1,
   "metadata": {},
   "outputs": [],
   "source": [
    "import pandas as pd\n",
    "import numpy as np\n",
    "import json\n",
    "import requests\n",
    "import copy\n",
    "import os\n",
    "from src.post_and_poll import get_api_results\n",
    "API_KEY = 'uiMp56xYMT983T2OikI0RrEKAyAAEDpZHzuC8nTC'  # REPLACE WITH YOUR API KEY"
   ]
  },
  {
   "cell_type": "code",
   "execution_count": 2,
   "metadata": {},
   "outputs": [],
   "source": [
    "# following is not necessary but silences warnings:\n",
    "# InsecureRequestWarning: Unverified HTTPS request is being made to host 'developer.nrel.gov'. Adding certificate verification is strongly advised.\n",
    "import urllib3\n",
    "urllib3.disable_warnings()"
   ]
  },
  {
   "cell_type": "code",
   "execution_count": 3,
   "metadata": {},
   "outputs": [],
   "source": [
    "\"\"\"\n",
    "Here are some convenience definitions for using the Multi-scenario capabilities\n",
    "\"\"\"\n",
    "##############################################################################################################\n",
    "inputs_path = os.path.join(\".\", 'inputs')\n",
    "outputs_path = os.path.join(\".\", 'outputs')\n",
    "loads_path = os.path.join(\".\", 'load_profiles')\n",
    "rates_path = os.path.join(\".\", 'electric_rates')\n",
    "##############################################################################################################"
   ]
  },
  {
   "cell_type": "markdown",
   "metadata": {},
   "source": [
    "## Load a previously saved API response .json file instead of running REopt"
   ]
  },
  {
   "cell_type": "code",
   "execution_count": 5,
   "metadata": {},
   "outputs": [],
   "source": [
    "response_json = 'results'\n",
    "with open(os.path.join(outputs_path, response_json + '.json'), 'rb') as handle:\n",
    "    api_response = json.load(handle)"
   ]
  },
  {
   "cell_type": "markdown",
   "metadata": {},
   "source": [
    "## Scenario Inputs (POST), if wanting to do a new API call"
   ]
  },
  {
   "cell_type": "code",
   "execution_count": 6,
   "metadata": {},
   "outputs": [],
   "source": [
    "post_1 = {\n",
    "            \"Settings\": {\"run_bau\": False},\n",
    "            \"Site\": {\"longitude\": -118.1164613, \"latitude\": 34.5794343},\n",
    "            \"ElectricTariff\": {\"urdb_label\": \"5ed6c1a15457a3367add15ae\"},\n",
    "            \"PV\": {\"max_kw\": 0.0},\n",
    "            \"ElectricStorage\":{\"max_kw\": 0.0, \"max_kwh\": 0.0},\n",
    "            \"ElectricLoad\": {\n",
    "                \"blended_doe_reference_names\": [\"Hospital\", \"LargeOffice\"],\n",
    "                \"blended_doe_reference_percents\": [0.75, 0.25],              \n",
    "                \"annual_kwh\": 876000.0\n",
    "            },\n",
    "            \"CoolingLoad\": {\n",
    "                \"doe_reference_name\": \"Hospital\",\n",
    "                \"annual_tonhour\": 5000.0\n",
    "            },\n",
    "            \"SpaceHeatingLoad\": {\n",
    "                \"doe_reference_name\": \"Hospital\",\n",
    "                \"annual_mmbtu\": 500.0\n",
    "            },\n",
    "            \"ExistingBoiler\": {\n",
    "                \"efficiency\": 0.72,\n",
    "                \"production_type\": \"steam\",\n",
    "                \"fuel_cost_per_mmbtu\": 10\n",
    "            },\n",
    "            \"ExistingChiller\": {\n",
    "                \"cop\": 3.4,\n",
    "                \"max_thermal_factor_on_peak_load\": 1.25\n",
    "            },\n",
    "            \"CHP\": {\n",
    "                \"prime_mover\": \"recip_engine\",\n",
    "                \"fuel_cost_per_mmbtu\": 10,\n",
    "                \"min_kw\": 100,\n",
    "                \"max_kw\": 100,\n",
    "                \"electric_efficiency_full_load\": 0.35,\n",
    "                \"electric_efficiency_half_load\": 0.35,\n",
    "                \"min_turn_down_fraction\": 0.1,\n",
    "                \"thermal_efficiency_full_load\": 0.45,\n",
    "                \"thermal_efficiency_half_load\": 0.45\n",
    "            }\n",
    "        }"
   ]
  },
  {
   "cell_type": "markdown",
   "metadata": {},
   "source": [
    "### Load in a custom electric rate generated from https://reopt.nrel.gov/tool/custom_tariffs"
   ]
  },
  {
   "cell_type": "code",
   "execution_count": null,
   "metadata": {},
   "outputs": [],
   "source": [
    "load_electric_rate = \"PGE_E20\"\n",
    "with open(os.path.join(rates_path, load_electric_rate + \".json\"), 'r') as fp:\n",
    "    rate_1 = json.load(fp)\n",
    "post_1[\"Scenario\"][\"Site\"][\"ElectricTariff\"][\"urdb_response\"] = rate_1"
   ]
  },
  {
   "cell_type": "markdown",
   "metadata": {},
   "source": [
    "## Save the POST to a .json file for sharing or future loading in"
   ]
  },
  {
   "cell_type": "code",
   "execution_count": null,
   "metadata": {},
   "outputs": [],
   "source": [
    "# Convert python dictionary post into json and save to a .json file\n",
    "post_save = post_1\n",
    "post_name = \"post_1\"\n",
    "with open(os.path.join(inputs_path, post_name + \".json\"), 'w') as fp:\n",
    "    json.dump(post_save, fp)"
   ]
  },
  {
   "cell_type": "markdown",
   "metadata": {},
   "source": [
    "## Or load in a saved .json file for the inputs/POST"
   ]
  },
  {
   "cell_type": "code",
   "execution_count": 16,
   "metadata": {
    "scrolled": true
   },
   "outputs": [],
   "source": [
    "# Load a json into a python dictionary\n",
    "load_post = \"dev_web_sample_site_resilience_with_generator_inputs\"\n",
    "with open(os.path.join(inputs_path, load_post + \".json\"), 'r') as fp:\n",
    "    post_1 = json.load(fp)"
   ]
  },
  {
   "cell_type": "markdown",
   "metadata": {},
   "source": [
    "## POST and poll (periodic GET request) the API to GET a new result, if not loading in a previous response. This may take a while!"
   ]
  },
  {
   "cell_type": "markdown",
   "metadata": {},
   "source": [
    "### Note, the `api_url` in the `get_api_results` function below calls the **production server** hosted API (master/main branch/version, publicly accessible)\n",
    "\n",
    "#### For calling a locally-hosted (localhost) API, see:\n",
    "- https://github.com/NREL/REopt_Lite_API/wiki/localhost-URLs-for-calling-locally-hosted-API\n",
    "\n",
    "#### For calling an API hosted on an NREL-internal server (only NREL users can access this), see:\n",
    "- https://github.nrel.gov/REopt/API_scripts/wiki/API-URLs-for-NREL-internal-servers"
   ]
  },
  {
   "cell_type": "markdown",
   "metadata": {},
   "source": [
    "`get_api_results` POST's your inputs to the API `job` endpoint, which provides a `run_uuid` if the input is valid, and then polls the `results` endpoint using the `run_uuid` until the results come back with a status other than `Optimizing...`.\n",
    "\n",
    "`get_api_results` also saves the results (full API response, including inputs) to the `results_file`.\n",
    "\n",
    "A log file is also created in the current working directory."
   ]
  },
  {
   "cell_type": "code",
   "execution_count": 7,
   "metadata": {},
   "outputs": [
    {
     "name": "stderr",
     "output_type": "stream",
     "text": [
      "main         INFO     Response OK from http://host.docker.internal:8000/dev/job/?api_key=uiMp56xYMT983T2OikI0RrEKAyAAEDpZHzuC8nTC.\n",
      "main         INFO     Polling http://host.docker.internal:8000/dev/job/82154a38-4f7e-49f0-b193-e2421b4864c7/results/?api_key=uiMp56xYMT983T2OikI0RrEKAyAAEDpZHzuC8nTC for results with interval of 5s...\n",
      "main         INFO     Saved results to ./outputs/cooling_load_outputs.json\n"
     ]
    }
   ],
   "source": [
    "## For development/TestRanch and staging servers, `branch_name` is the branch/version of the API to be inserted into the URL\n",
    "branch_name = \"erp\"\n",
    "### Development/TestRanch server\n",
    "#root_url= \"https://\" + branch_name + \"-reopt-dev-api.its.nrel.gov/dev\"\n",
    "# \"https://erp-reopt-dev-api.its.nrel.gov/dev\"\n",
    "#root_url= \"https://reopt-dev-api.its.nrel.gov/dev\"\n",
    "\n",
    "#root_url = \"https://developer.nrel.gov/api/reopt/stable\"\n",
    "root_url = \"http://host.docker.internal:8000/dev\"\n",
    "\n",
    "outputs_file_name = \"cooling_load_outputs\"\n",
    "api_response = get_api_results(post=post_1, \n",
    "                               API_KEY=API_KEY, \n",
    "                               api_url=root_url, \n",
    "                               results_file=os.path.join(outputs_path, outputs_file_name + \".json\"), \n",
    "                               run_id=None)"
   ]
  },
  {
   "cell_type": "markdown",
   "metadata": {},
   "source": [
    "### If you get disconnected from the polling function but you think it ran, copy the run_uuid from the log above to manually GET the results:"
   ]
  },
  {
   "cell_type": "code",
   "execution_count": 6,
   "metadata": {},
   "outputs": [
    {
     "data": {
      "text/plain": [
       "'3f6d408a-67ba-4346-afbb-922de485151f'"
      ]
     },
     "execution_count": 6,
     "metadata": {},
     "output_type": "execute_result"
    }
   ],
   "source": [
    "api_response[\"run_uuid\"]"
   ]
  },
  {
   "cell_type": "code",
   "execution_count": 4,
   "metadata": {},
   "outputs": [],
   "source": [
    "## For development/TestRanch and staging servers, `branch_name` is the branch/version of the API to be inserted into the URL\n",
    "branch_name = \"erp\"\n",
    "### Staging server\n",
    "root_url= \"https://\" + branch_name + \"-reopt-stage-api.its.nrel.gov/dev\"\n",
    "# run_uuid = api_response[\"run_uuid\"]\n",
    "run_uuid = \"3f6d408a-67ba-4346-afbb-922de485151f\"\n",
    "results_url = root_url + '/job/' + run_uuid + '/results/?api_key=' + API_KEY\n",
    "resp = requests.get(url=results_url, verify=False)\n",
    "api_response = json.loads(resp.text)"
   ]
  },
  {
   "cell_type": "markdown",
   "metadata": {},
   "source": [
    "## Get summary of results"
   ]
  },
  {
   "cell_type": "code",
   "execution_count": 5,
   "metadata": {},
   "outputs": [
    {
     "data": {
      "text/plain": [
       "{'info': 'When using doe_reference_name or blended_doe_reference_names for ElectricLoad the year is set to 2017 because the DoE load profiles start on a Sunday.'}"
      ]
     },
     "execution_count": 5,
     "metadata": {},
     "output_type": "execute_result"
    }
   ],
   "source": [
    "api_response[\"messages\"]"
   ]
  },
  {
   "cell_type": "code",
   "execution_count": 6,
   "metadata": {},
   "outputs": [
    {
     "name": "stdout",
     "output_type": "stream",
     "text": [
      "NPV ($) =  -950615.65\n",
      "Capital Cost, Net ($) =  4833402.2325\n"
     ]
    },
    {
     "ename": "NameError",
     "evalue": "name 'post_1' is not defined",
     "output_type": "error",
     "traceback": [
      "\u001b[0;31m---------------------------------------------------------------------------\u001b[0m",
      "\u001b[0;31mNameError\u001b[0m                                 Traceback (most recent call last)",
      "Input \u001b[0;32mIn [6]\u001b[0m, in \u001b[0;36m<cell line: 4>\u001b[0;34m()\u001b[0m\n\u001b[1;32m      3\u001b[0m tech_list \u001b[38;5;241m=\u001b[39m [\u001b[38;5;124m\"\u001b[39m\u001b[38;5;124mPV\u001b[39m\u001b[38;5;124m\"\u001b[39m, \u001b[38;5;124m\"\u001b[39m\u001b[38;5;124mWind\u001b[39m\u001b[38;5;124m\"\u001b[39m, \u001b[38;5;124m\"\u001b[39m\u001b[38;5;124mElectricStorage\u001b[39m\u001b[38;5;124m\"\u001b[39m, \u001b[38;5;124m\"\u001b[39m\u001b[38;5;124mCHP\u001b[39m\u001b[38;5;124m\"\u001b[39m, \u001b[38;5;124m\"\u001b[39m\u001b[38;5;124mGenerator\u001b[39m\u001b[38;5;124m\"\u001b[39m, \u001b[38;5;124m\"\u001b[39m\u001b[38;5;124mHotThermalStorage\u001b[39m\u001b[38;5;124m\"\u001b[39m, \u001b[38;5;124m\"\u001b[39m\u001b[38;5;124mColdThermalStorage\u001b[39m\u001b[38;5;124m\"\u001b[39m, \u001b[38;5;124m\"\u001b[39m\u001b[38;5;124mAbsorptionChiller\u001b[39m\u001b[38;5;124m\"\u001b[39m, \u001b[38;5;124m\"\u001b[39m\u001b[38;5;124mGHP\u001b[39m\u001b[38;5;124m\"\u001b[39m, \u001b[38;5;124m\"\u001b[39m\u001b[38;5;124mNewBoiler\u001b[39m\u001b[38;5;124m\"\u001b[39m, \u001b[38;5;124m\"\u001b[39m\u001b[38;5;124mSteamTurbine\u001b[39m\u001b[38;5;124m\"\u001b[39m]\n\u001b[1;32m      4\u001b[0m \u001b[38;5;28;01mfor\u001b[39;00m tech \u001b[38;5;129;01min\u001b[39;00m tech_list:\n\u001b[0;32m----> 5\u001b[0m     \u001b[38;5;28;01mif\u001b[39;00m tech \u001b[38;5;129;01min\u001b[39;00m \u001b[43mpost_1\u001b[49m\u001b[38;5;241m.\u001b[39mkeys():\u001b[38;5;66;03m# and post_1[tech][\"max_kw\"]>0.0:\u001b[39;00m\n\u001b[1;32m      6\u001b[0m         \u001b[38;5;28;01mif\u001b[39;00m tech \u001b[38;5;129;01min\u001b[39;00m [\u001b[38;5;124m\"\u001b[39m\u001b[38;5;124mPV\u001b[39m\u001b[38;5;124m\"\u001b[39m, \u001b[38;5;124m\"\u001b[39m\u001b[38;5;124mElectricStorage\u001b[39m\u001b[38;5;124m\"\u001b[39m]:\n\u001b[1;32m      7\u001b[0m             \u001b[38;5;28;01mif\u001b[39;00m post_1[tech][\u001b[38;5;124m\"\u001b[39m\u001b[38;5;124mmax_kw\u001b[39m\u001b[38;5;124m\"\u001b[39m] \u001b[38;5;241m>\u001b[39m \u001b[38;5;241m0.0\u001b[39m:\n",
      "\u001b[0;31mNameError\u001b[0m: name 'post_1' is not defined"
     ]
    }
   ],
   "source": [
    "print(\"NPV ($) = \", api_response[\"outputs\"][\"Financial\"][\"npv\"])\n",
    "print(\"Capital Cost, Net ($) = \", api_response[\"outputs\"][\"Financial\"][\"lifecycle_capital_costs\"])\n",
    "tech_list = [\"PV\", \"Wind\", \"ElectricStorage\", \"CHP\", \"Generator\", \"HotThermalStorage\", \"ColdThermalStorage\", \"AbsorptionChiller\", \"GHP\", \"NewBoiler\", \"SteamTurbine\"]\n",
    "for tech in tech_list:\n",
    "    if tech in post_1.keys():# and post_1[tech][\"max_kw\"]>0.0:\n",
    "        if tech in [\"PV\", \"ElectricStorage\"]:\n",
    "            if post_1[tech][\"max_kw\"] > 0.0:\n",
    "                for size_name_value in [(key, val) for key, val in api_response[\"outputs\"][tech].items() if \"size\" in key]:\n",
    "                        print(tech + \" \" + size_name_value[0], \" = \", size_name_value[1])           \n",
    "        elif tech == \"GHP\":\n",
    "            print(\"GHX Number of Boreholes = \", api_response[\"outputs\"][tech][\"ghpghx_chosen_outputs\"].get(\"number_of_boreholes\"))\n",
    "            print(\"GHP Heat Pump Capacity (ton) = \", api_response[\"outputs\"][tech][\"ghpghx_chosen_outputs\"].get(\"peak_combined_heatpump_thermal_ton\"))\n",
    "        # PV and Storage are considered if the POST does not explicitly make max_[size] == 0\n",
    "        else:\n",
    "            for size_name_value in [(key, val) for key, val in api_response[\"outputs\"][tech].items() if \"size\" in key]:\n",
    "                print(tech + \" \" + size_name_value[0], \" = \", size_name_value[1])                  "
   ]
  },
  {
   "cell_type": "code",
   "execution_count": 7,
   "metadata": {},
   "outputs": [
    {
     "data": {
      "text/plain": [
       "dict_keys(['Financial', 'ElectricTariff', 'ElectricUtility', 'ElectricLoad', 'Site', 'PV', 'ElectricStorage', 'Generator'])"
      ]
     },
     "execution_count": 7,
     "metadata": {},
     "output_type": "execute_result"
    }
   ],
   "source": [
    "api_response[\"outputs\"].keys()"
   ]
  },
  {
   "cell_type": "code",
   "execution_count": 8,
   "metadata": {},
   "outputs": [],
   "source": [
    "pv_total_kw_series = [api_response[\"outputs\"][\"PV\"][\"year_one_to_load_series_kw\"][i] + \n",
    "                    api_response[\"outputs\"][\"PV\"][\"year_one_to_battery_series_kw\"][i] + \n",
    "                    api_response[\"outputs\"][\"PV\"][\"year_one_to_grid_series_kw\"][i] + \n",
    "                    api_response[\"outputs\"][\"PV\"][\"year_one_curtailed_production_series_kw\"][i] for i in range(len(api_response[\"outputs\"][\"PV\"][\"year_one_to_load_series_kw\"]))]\n",
    "pv_production_factor = [prod_kw / api_response[\"outputs\"][\"PV\"][\"size_kw\"] for prod_kw in pv_total_kw_series]\n"
   ]
  },
  {
   "cell_type": "markdown",
   "metadata": {},
   "source": [
    "### Run the ERP tool with REopt results and inputs"
   ]
  },
  {
   "cell_type": "code",
   "execution_count": 19,
   "metadata": {},
   "outputs": [
    {
     "data": {
      "text/plain": [
       "'3f6d408a-67ba-4346-afbb-922de485151f'"
      ]
     },
     "execution_count": 19,
     "metadata": {},
     "output_type": "execute_result"
    }
   ],
   "source": [
    "run_uuid"
   ]
  },
  {
   "cell_type": "code",
   "execution_count": 15,
   "metadata": {},
   "outputs": [],
   "source": [
    "post_erp = {\n",
    "        \"reopt_run_uuid\": run_uuid, #api_response[\"run_uuid\"],\n",
    "        # \"generator_operational_availability\": 0.9998, \n",
    "        # \"generator_failure_to_start\" : 0.0066, \n",
    "        # \"generator_failure_to_run\" : 0.00157,\n",
    "        # \"num_generators\" : 1,\n",
    "        \"generator_size_kw\" : api_response[\"outputs\"][\"Generator\"][\"size_kw\"] or 100.0,\n",
    "        # \"num_battery_bins\" : 101,\n",
    "        # \"max_outage_duration\" : post_1[\"ElectricLoad\"][\"outage_end_time_step\"] - post_1[\"ElectricLoad\"][\"outage_start_time_step\"],\n",
    "        # \"battery_size_kw\" : api_response[\"outputs\"][\"ElectricStorage\"][\"size_kw\"],\n",
    "        # \"battery_size_kwh\" : api_response[\"outputs\"][\"ElectricStorage\"][\"size_kwh\"],\n",
    "        # \"pv_size_kw\" : api_response[\"outputs\"][\"PV\"][\"size_kw\"],\n",
    "        # \"pv_production_factor_series\": pv_production_factor,\n",
    "        # \"critical_loads_kw\": api_response[\"outputs\"][\"ElectricLoad\"][\"critical_load_series_kw\"]\n",
    "    \n",
    "}"
   ]
  },
  {
   "cell_type": "code",
   "execution_count": 16,
   "metadata": {},
   "outputs": [],
   "source": [
    "# Load a json into a python dictionary\n",
    "#load_post = \"ERP_only_sim_post\"\n",
    "load_post = \"ERP_REopt_sim_post\"\n",
    "with open(os.path.join(inputs_path, load_post + \".json\"), 'r') as fp:\n",
    "    post_erp = json.load(fp)\n",
    "post_erp[\"reopt_run_uuid\"] = api_response[\"run_uuid\"]"
   ]
  },
  {
   "cell_type": "markdown",
   "metadata": {},
   "source": [
    "#### POST to the ERP tool to run"
   ]
  },
  {
   "cell_type": "code",
   "execution_count": 17,
   "metadata": {},
   "outputs": [],
   "source": [
    "erp_url_post = root_url + '/erp/' \n",
    "resp = requests.post(url=erp_url_post, json=post_erp, verify=False)"
   ]
  },
  {
   "cell_type": "code",
   "execution_count": 18,
   "metadata": {},
   "outputs": [
    {
     "data": {
      "text/plain": [
       "<Response [500]>"
      ]
     },
     "execution_count": 18,
     "metadata": {},
     "output_type": "execute_result"
    }
   ],
   "source": [
    "resp"
   ]
  },
  {
   "cell_type": "markdown",
   "metadata": {},
   "source": [
    "#### GET the ERP results"
   ]
  },
  {
   "cell_type": "code",
   "execution_count": 13,
   "metadata": {},
   "outputs": [
    {
     "ename": "KeyError",
     "evalue": "'run_uuid'",
     "output_type": "error",
     "traceback": [
      "\u001b[0;31m---------------------------------------------------------------------------\u001b[0m",
      "\u001b[0;31mKeyError\u001b[0m                                  Traceback (most recent call last)",
      "Input \u001b[0;32mIn [13]\u001b[0m, in \u001b[0;36m<cell line: 1>\u001b[0;34m()\u001b[0m\n\u001b[0;32m----> 1\u001b[0m erp_uuid \u001b[38;5;241m=\u001b[39m \u001b[43mjson\u001b[49m\u001b[38;5;241;43m.\u001b[39;49m\u001b[43mloads\u001b[49m\u001b[43m(\u001b[49m\u001b[43mresp\u001b[49m\u001b[38;5;241;43m.\u001b[39;49m\u001b[43mtext\u001b[49m\u001b[43m)\u001b[49m\u001b[43m[\u001b[49m\u001b[38;5;124;43m\"\u001b[39;49m\u001b[38;5;124;43mrun_uuid\u001b[39;49m\u001b[38;5;124;43m\"\u001b[39;49m\u001b[43m]\u001b[49m\n\u001b[1;32m      2\u001b[0m erp_url_get \u001b[38;5;241m=\u001b[39m erp_url_post \u001b[38;5;241m+\u001b[39m erp_uuid \u001b[38;5;241m+\u001b[39m \u001b[38;5;124m'\u001b[39m\u001b[38;5;124m/results/\u001b[39m\u001b[38;5;124m'\u001b[39m \u001b[38;5;66;03m#?api_key=' + API_KEY\u001b[39;00m\n\u001b[1;32m      3\u001b[0m resp \u001b[38;5;241m=\u001b[39m requests\u001b[38;5;241m.\u001b[39mget(url\u001b[38;5;241m=\u001b[39merp_url_get, verify\u001b[38;5;241m=\u001b[39m\u001b[38;5;28;01mFalse\u001b[39;00m)\n",
      "\u001b[0;31mKeyError\u001b[0m: 'run_uuid'"
     ]
    }
   ],
   "source": [
    "erp_uuid = json.loads(resp.text)[\"run_uuid\"]\n",
    "erp_url_get = erp_url_post + erp_uuid + '/results/' #?api_key=' + API_KEY\n",
    "resp = requests.get(url=erp_url_get, verify=False)\n",
    "erp_response = json.loads(resp.text)\n",
    "erp_response"
   ]
  },
  {
   "cell_type": "markdown",
   "metadata": {},
   "source": [
    "#### ERP Plots"
   ]
  },
  {
   "cell_type": "code",
   "execution_count": 35,
   "metadata": {},
   "outputs": [
    {
     "data": {
      "text/plain": [
       "'https://erp-reopt-stage-api.its.nrel.gov/dev/erp/b6361ce0-5cf2-4e16-8bfe-d9d7f5eda6ce/results/'"
      ]
     },
     "execution_count": 35,
     "metadata": {},
     "output_type": "execute_result"
    }
   ],
   "source": [
    "erp_url_get"
   ]
  },
  {
   "cell_type": "code",
   "execution_count": 36,
   "metadata": {},
   "outputs": [
    {
     "ename": "KeyError",
     "evalue": "'mean_cumulative_survival_by_duration'",
     "output_type": "error",
     "traceback": [
      "\u001b[0;31m---------------------------------------------------------------------------\u001b[0m",
      "\u001b[0;31mKeyError\u001b[0m                                  Traceback (most recent call last)",
      "Input \u001b[0;32mIn [36]\u001b[0m, in \u001b[0;36m<cell line: 3>\u001b[0;34m()\u001b[0m\n\u001b[1;32m      1\u001b[0m \u001b[38;5;28;01mimport\u001b[39;00m \u001b[38;5;21;01mmatplotlib\u001b[39;00m\u001b[38;5;21;01m.\u001b[39;00m\u001b[38;5;21;01mpyplot\u001b[39;00m \u001b[38;5;28;01mas\u001b[39;00m \u001b[38;5;21;01mplt\u001b[39;00m\n\u001b[1;32m      2\u001b[0m \u001b[38;5;28;01mimport\u001b[39;00m \u001b[38;5;21;01mmatplotlib\u001b[39;00m\u001b[38;5;21;01m.\u001b[39;00m\u001b[38;5;21;01mticker\u001b[39;00m \u001b[38;5;28;01mas\u001b[39;00m \u001b[38;5;21;01mmtick\u001b[39;00m\n\u001b[0;32m----> 3\u001b[0m cum_survival \u001b[38;5;241m=\u001b[39m \u001b[43merp_response\u001b[49m\u001b[43m[\u001b[49m\u001b[38;5;124;43m\"\u001b[39;49m\u001b[38;5;124;43mmean_cumulative_survival_by_duration\u001b[39;49m\u001b[38;5;124;43m\"\u001b[39;49m\u001b[43m]\u001b[49m\n\u001b[1;32m      4\u001b[0m mar_survival \u001b[38;5;241m=\u001b[39m erp_response[\u001b[38;5;124m\"\u001b[39m\u001b[38;5;124mmean_marginal_survival_by_duration\u001b[39m\u001b[38;5;124m\"\u001b[39m]\n\u001b[1;32m      5\u001b[0m max_duration \u001b[38;5;241m=\u001b[39m \u001b[38;5;28mlen\u001b[39m(cum_survival)\n",
      "\u001b[0;31mKeyError\u001b[0m: 'mean_cumulative_survival_by_duration'"
     ]
    }
   ],
   "source": [
    "import matplotlib.pyplot as plt\n",
    "import matplotlib.ticker as mtick\n",
    "cum_survival = erp_response[\"mean_cumulative_survival_by_duration\"]\n",
    "mar_survival = erp_response[\"mean_marginal_survival_by_duration\"]\n",
    "max_duration = len(cum_survival)\n",
    "outage_durations = range(1, max_duration + 1)\n",
    "\n",
    "#Creates line plots. As set up is plotting marginal and cumulative survival on same plot. \n",
    "plt.plot(outage_durations, mar_survival, linestyle='-', label = \"Marginal survival\", color = \"black\")\n",
    "plt.plot(outage_durations, cum_survival, linestyle='-', label = \"Cumulative survival\", color = \"red\")\n",
    "plt.xlabel(\"Outage duration\")\n",
    "plt.ylabel(\"Survival probability\")\n",
    "plt.gca().yaxis.set_major_formatter(mtick.PercentFormatter(xmax=1.0))\n",
    "plt.ylim([0,1])\n",
    "plt.xlim([1,max_duration])\n",
    "time_list =   [120, 48, 24,  12, 8]\n",
    "time_ticks = [12,   6,  3,   2, 1]\n",
    "\n",
    "tick_mark_step = 24\n",
    "for i in range(len(time_list)):\n",
    "    if max_duration < time_list[i]:\n",
    "        tick_mark_step = time_ticks[i]\n",
    "\n",
    "plt.xticks(range(0, max_duration+1, tick_mark_step))\n",
    "plt.legend()\n",
    "plt.show()"
   ]
  },
  {
   "cell_type": "code",
   "execution_count": null,
   "metadata": {},
   "outputs": [],
   "source": []
  },
  {
   "cell_type": "markdown",
   "metadata": {},
   "source": [
    "## Save API response into a JSON file for later use"
   ]
  },
  {
   "cell_type": "code",
   "execution_count": null,
   "metadata": {},
   "outputs": [],
   "source": [
    "response_save = api_response\n",
    "file_name_to_save = \"response_1\"\n",
    "with open(os.path.join(outputs_path, file_name_to_save + \".json\"), 'w') as fp:\n",
    "    json.dump(response_save, fp)"
   ]
  }
 ],
 "metadata": {
  "@webio": {
   "lastCommId": null,
   "lastKernelId": null
  },
  "kernelspec": {
   "display_name": "Python 3 (ipykernel)",
   "language": "python",
   "name": "python3"
  },
  "language_info": {
   "codemirror_mode": {
    "name": "ipython",
    "version": 3
   },
   "file_extension": ".py",
   "mimetype": "text/x-python",
   "name": "python",
   "nbconvert_exporter": "python",
   "pygments_lexer": "ipython3",
   "version": "3.8.3"
  },
  "latex_envs": {
   "LaTeX_envs_menu_present": true,
   "autoclose": false,
   "autocomplete": true,
   "bibliofile": "biblio.bib",
   "cite_by": "apalike",
   "current_citInitial": 1,
   "eqLabelWithNumbers": true,
   "eqNumInitial": 1,
   "hotkeys": {
    "equation": "Ctrl-E",
    "itemize": "Ctrl-I"
   },
   "labels_anchors": false,
   "latex_user_defs": false,
   "report_style_numbering": false,
   "user_envs_cfg": false
  }
 },
 "nbformat": 4,
 "nbformat_minor": 4
}
