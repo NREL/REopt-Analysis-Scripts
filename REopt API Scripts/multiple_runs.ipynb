{
 "cells": [
  {
   "cell_type": "markdown",
   "id": "dced6536",
   "metadata": {},
   "source": [
    "# TODO: \n",
    "- determine a good example of inputs to use in the example Excel\n",
    "- improve the instructions in the Excel\n",
    "- consider moving some functions to src file\n",
    "- Improve error checking\n",
    "- Add resilience inputs and outage time selection\n",
    "- Could add scenario description and save the site + description\n",
    "- Check inputs against"
   ]
  },
  {
   "cell_type": "code",
   "execution_count": null,
   "id": "b43b54b7",
   "metadata": {},
   "outputs": [],
   "source": [
    "import pandas as pd\n",
    "import numpy as np\n",
    "import json\n",
    "import requests\n",
    "import copy\n",
    "import os\n",
    "from src.post_and_poll import get_api_results\n",
    "\n",
    "root_url = \"https://developer.nrel.gov/api/reopt/stable\"\n",
    "\n",
    "API_KEY = 'DEMO_KEY'  # REPLACE WITH YOUR API KEY"
   ]
  },
  {
   "cell_type": "code",
   "execution_count": null,
   "id": "e4269b73",
   "metadata": {},
   "outputs": [],
   "source": [
    "# following is not necessary but silences warnings:\n",
    "# InsecureRequestWarning: Unverified HTTPS request is being made to host 'developer.nrel.gov'. Adding certificate verification is strongly advised.\n",
    "import urllib3\n",
    "urllib3.disable_warnings()"
   ]
  },
  {
   "cell_type": "code",
   "execution_count": null,
   "id": "8c07f411",
   "metadata": {},
   "outputs": [],
   "source": [
    "# Specify file name: \n",
    "data_file = \"multi_site_inputs.xlsx\"\n",
    "\n",
    "##############################################################################################################\n",
    "site_data =  os.path.join(\".\", 'multi_site_inputs', data_file)\n",
    "posts_path = os.path.join(\".\", 'inputs') # To save posts\n",
    "outputs_path = os.path.join(\".\", 'outputs')\n",
    "rates_path = os.path.join(\".\", 'electric_rates')\n",
    "results_summary_path = os.path.join(\".\", 'results_summary')\n",
    "##############################################################################################################"
   ]
  },
  {
   "cell_type": "code",
   "execution_count": null,
   "id": "82eb329c",
   "metadata": {},
   "outputs": [],
   "source": [
    "# Get Data\n",
    "df_site = pd.read_excel(site_data, sheet_name=\"reopt_inputs\", index_col=0) \n",
    "df_loads = pd.read_excel(site_data, sheet_name=\"interval_load\", index_col=0)  \n",
    "df_monthly_loads = pd.read_excel(site_data, sheet_name=\"monthly_loads\", index_col=0)  "
   ]
  },
  {
   "cell_type": "markdown",
   "id": "d5093ffc",
   "metadata": {},
   "source": [
    "## The code below is draft and needs a lot of improvement"
   ]
  },
  {
   "cell_type": "code",
   "execution_count": null,
   "id": "e619f318",
   "metadata": {},
   "outputs": [],
   "source": [
    "# Create posts Dict by site then scenario\n",
    "# e.g., posts[site_name]\n",
    "\n",
    "posts = dict() # Dictionary for all posts by site name\n",
    "for site in df_site: # iterate over sites\n",
    "    post = dict()\n",
    "    # Populate all site-specific inputs from Excel\n",
    "    for label in df_site[site].keys():\n",
    "        val = df_site[site][label]\n",
    "        if not pd.isna(val): # ignore empty entries\n",
    "            key, subkey = label.split(\" | \")\n",
    "            if key not in post:\n",
    "                post[key] = {}\n",
    "            # Check if custom utility rate json is provided\n",
    "            if subkey == \"urdb_response\":\n",
    "                with open(os.path.join(rates_path, val), 'r') as fp:\n",
    "                    post[key][subkey] = json.load(fp)\n",
    "            else:\n",
    "                post[key][subkey] = val\n",
    "\n",
    "    ## Add load and correct timesteps per hour ## \n",
    "    if sum(df_loads[site]) > 0:\n",
    "        load_profile = df_loads[site].to_list()\n",
    "        load_profile = [float(v) for v in load_profile] \n",
    "        post[\"ElectricLoad\"][\"loads_kw\"] = load_profile\n",
    "\n",
    "\n",
    "    # Add post to dict\n",
    "    posts[site] = copy.deepcopy(post)\n",
    "\n",
    "    with open(os.path.join(posts_path, site + \".json\"), 'w') as fp:\n",
    "        json.dump(posts[site], fp)"
   ]
  },
  {
   "cell_type": "code",
   "execution_count": null,
   "id": "f8da992f",
   "metadata": {},
   "outputs": [],
   "source": [
    "responses = []\n",
    "\n",
    "for site in df_site:\n",
    "    responses.append(\n",
    "        get_api_results(\n",
    "            posts[site], \n",
    "            results_file=os.path.join(outputs_path, site + '.json'),\n",
    "            api_url=root_url, \n",
    "            API_KEY=API_KEY\n",
    "        )\n",
    "    )"
   ]
  },
  {
   "cell_type": "markdown",
   "id": "f710931f",
   "metadata": {},
   "source": [
    "### Optionally load saved responses"
   ]
  },
  {
   "cell_type": "code",
   "execution_count": null,
   "id": "b1d98850",
   "metadata": {},
   "outputs": [],
   "source": [
    "responses = []\n",
    "\n",
    "for site in df_site:\n",
    "    with open(os.path.join(outputs_path, site + \".json\"), 'r') as fp:\n",
    "        responses.append(json.load(fp))"
   ]
  },
  {
   "cell_type": "markdown",
   "id": "57f63ebb",
   "metadata": {},
   "source": [
    "### Summarizing multiple scenario results\n",
    "\n",
    "There are two options for making a summary of multiple scenarios' resutls:\n",
    "1. Write to a csv using a template with column headers for desired summary keys (scalar values only)\n",
    "2. Write all inputs, outputs, and dispatch to an Excel spreadsheet\n",
    "^^TBD\n",
    "3. Use the `generation_results_table` endpoint to create a summary Excel\n"
   ]
  },
  {
   "cell_type": "markdown",
   "id": "e7cd3a5c",
   "metadata": {},
   "source": [
    "#### Option 1: Use a template CSV to collect certain results"
   ]
  },
  {
   "cell_type": "raw",
   "id": "f78b226d",
   "metadata": {},
   "source": [
    "from src.parse_api_responses_to_csv import parse_responses_to_csv_with_template\n",
    "\n",
    "parse_responses_to_csv_with_template(\n",
    "    csv_template=output_template, \n",
    "    responses=responses, \n",
    "    output_csv=output_file, \n",
    "    input_csv=path_to_inputs,\n",
    "    n_custom_columns=2\n",
    ")"
   ]
  },
  {
   "cell_type": "raw",
   "id": "1c77162f",
   "metadata": {},
   "source": [
    "#### Option 2: Write all results out to an Excel file"
   ]
  },
  {
   "cell_type": "raw",
   "id": "3b11e792",
   "metadata": {},
   "source": [
    "from src.parse_api_responses_to_excel import parse_api_responses_to_excel\n",
    "\n",
    "parse_api_responses_to_excel(responses, template=output_file_spreadsheet_template, spreadsheet=output_file_spreadsheet)"
   ]
  },
  {
   "cell_type": "markdown",
   "id": "c321502f",
   "metadata": {},
   "source": [
    "#### Option 3: Use Results Spreadsheet API endpoint\n",
    "/job/generate_results_table - takes a list of run_uuid's and creates a results table spreadsheet to download in response"
   ]
  },
  {
   "cell_type": "code",
   "execution_count": null,
   "id": "6c451d7a",
   "metadata": {},
   "outputs": [],
   "source": [
    "run_uuids = []\n",
    "for response in responses:\n",
    "    run_uuids.append(response[\"run_uuid\"])"
   ]
  },
  {
   "cell_type": "code",
   "execution_count": null,
   "id": "c6f3fa78",
   "metadata": {},
   "outputs": [],
   "source": [
    "# Construct the URL with run_uuid[] as query parameters\n",
    "results_url = f\"{root_url}/job/generate_results_table/?api_key={API_KEY}&table_config_name=custom_table_webtool\"\n",
    "\n",
    "for i, uuid in enumerate(run_uuids):\n",
    "    results_url += f\"&run_uuid%5B{i}%5D={uuid}\"\n",
    "\n",
    "print(f\"Requesting custom comparison table from: {results_url}\")\n",
    "\n",
    "try:\n",
    "    # Make the GET request to retrieve the final comparison table\n",
    "    response = requests.get(results_url)\n",
    "    response.raise_for_status()  # Raise an exception for HTTP errors\n",
    "\n",
    "    # Check the response and save the Excel file\n",
    "    if response.status_code == 200:\n",
    "        os.makedirs(results_summary_path, exist_ok=True)\n",
    "        output_path = os.path.join(results_summary_path, f'{uuid}-results-table.xlsx')\n",
    "        \n",
    "        with open(output_path, \"wb\") as o:\n",
    "            o.write(response.content)\n",
    "        print(f\"File saved to {output_path}\")\n",
    "    else:\n",
    "        print(f\"Request failed with status code {response.status_code}: {response.text}\")\n",
    "except requests.exceptions.RequestException as e:\n",
    "    print(f\"Request failed: {e}\")"
   ]
  },
  {
   "cell_type": "code",
   "execution_count": null,
   "id": "5a6e3fc0",
   "metadata": {},
   "outputs": [],
   "source": []
  }
 ],
 "metadata": {
  "@webio": {
   "lastCommId": null,
   "lastKernelId": null
  },
  "kernelspec": {
   "display_name": "Python 3",
   "language": "python",
   "name": "python3"
  },
  "language_info": {
   "codemirror_mode": {
    "name": "ipython",
    "version": 3
   },
   "file_extension": ".py",
   "mimetype": "text/x-python",
   "name": "python",
   "nbconvert_exporter": "python",
   "pygments_lexer": "ipython3",
   "version": "3.8.8"
  }
 },
 "nbformat": 4,
 "nbformat_minor": 5
}
