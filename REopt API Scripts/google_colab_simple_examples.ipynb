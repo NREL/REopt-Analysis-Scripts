{
  "cells": [
    {
      "cell_type": "markdown",
      "metadata": {
        "id": "dFDOz76wrdAN"
      },
      "source": [
        "# Running a REopt API evaluation"
      ]
    },
    {
      "cell_type": "markdown",
      "source": [
        "## Steps to Get Set Up\n",
        "1. Go to https://colab.research.google.com/\n",
        "2. Open a new Colab notebook by linking to this GitHub repository with the URL: https://github.com/NREL/REopt-Analysis-Scripts.git\n",
        "3. Choose this file \"google_colab_simple_examples.ipynb\" from the list of options"
      ],
      "metadata": {
        "id": "nim-ucBnMoCW"
      }
    },
    {
      "cell_type": "markdown",
      "metadata": {
        "id": "rd_rseJCrdAO"
      },
      "source": [
        "## Initialization"
      ]
    },
    {
      "cell_type": "code",
      "source": [
        "# Clone the REopt-Analysis-Scripts GitHub Repository to this Google Colab Notebook\n",
        "!git clone -l -s https://github.com/NREL/REopt-Analysis-Scripts.git cloned-repo\n",
        "%cd cloned-repo\n",
        "\n",
        "# Change directory to \"REopt API Scripts\" folder\n",
        "%cd \"REopt API Scripts\"\n",
        "\n",
        "# Print contents\n",
        "!ls"
      ],
      "metadata": {
        "colab": {
          "base_uri": "https://localhost:8080/"
        },
        "id": "3PJcqvC1se5t",
        "outputId": "b62f59ad-b035-446d-e83e-7bf4a57b5228"
      },
      "execution_count": 1,
      "outputs": [
        {
          "output_type": "stream",
          "name": "stdout",
          "text": [
            "Cloning into 'cloned-repo'...\n",
            "warning: --local is ignored\n",
            "remote: Enumerating objects: 1160, done.\u001b[K\n",
            "remote: Counting objects: 100% (396/396), done.\u001b[K\n",
            "remote: Compressing objects: 100% (204/204), done.\u001b[K\n",
            "remote: Total 1160 (delta 264), reused 250 (delta 192), pack-reused 764 (from 1)\u001b[K\n",
            "Receiving objects: 100% (1160/1160), 19.89 MiB | 5.59 MiB/s, done.\n",
            "Resolving deltas: 100% (717/717), done.\n",
            "/content/cloned-repo\n",
            "/content/cloned-repo/REopt API Scripts\n",
            "archived_v2_scripts  inputs\t    outputs\t\t\t   src\n",
            "electric_rates\t     load_profiles  single_scenario_example.ipynb\n"
          ]
        }
      ]
    },
    {
      "cell_type": "code",
      "execution_count": 2,
      "metadata": {
        "id": "HrXkdl__rdAO"
      },
      "outputs": [],
      "source": [
        "import pandas as pd\n",
        "import numpy as np\n",
        "import json\n",
        "import requests\n",
        "import copy\n",
        "import os\n",
        "from src.post_and_poll import get_api_results\n",
        "import matplotlib.pyplot as plt\n",
        "API_KEY = '7vZ12k2wwtIzYdR4nHAHrLvdwv3NmMMkumcfnjyQ'  # REPLACE WITH YOUR API KEY"
      ]
    },
    {
      "cell_type": "code",
      "execution_count": 3,
      "metadata": {
        "id": "t_CbFMdLrdAP"
      },
      "outputs": [],
      "source": [
        "# following is not necessary but silences warnings:\n",
        "# InsecureRequestWarning: Unverified HTTPS request is being made to host 'developer.nrel.gov'. Adding certificate verification is strongly advised.\n",
        "import urllib3\n",
        "urllib3.disable_warnings()"
      ]
    },
    {
      "cell_type": "code",
      "execution_count": 4,
      "metadata": {
        "id": "AKoSD1qNrdAP"
      },
      "outputs": [],
      "source": [
        "\"\"\"\n",
        "File paths\n",
        "\"\"\"\n",
        "##############################################################################################################\n",
        "inputs_path = os.path.join(\".\", 'inputs')\n",
        "outputs_path = os.path.join(\".\", 'outputs')\n",
        "loads_path = os.path.join(\".\", 'load_profiles')\n",
        "rates_path = os.path.join(\".\", 'electric_rates')\n",
        "##############################################################################################################"
      ]
    },
    {
      "cell_type": "markdown",
      "metadata": {
        "id": "5fJZDAFbrdAQ"
      },
      "source": [
        "## Scenario Inputs (POST), if wanting to do a new API call\n",
        "\n",
        "- View all possible inputs, default values, and explanations, here: https://nrel.github.io/REopt.jl/dev/reopt/inputs/\n",
        "- Defaults will be used for any input not supplied\n"
      ]
    },
    {
      "cell_type": "code",
      "execution_count": null,
      "metadata": {
        "id": "2zReIBGNrdAQ"
      },
      "outputs": [],
      "source": [
        "post = {\n",
        "    \"Site\": {\n",
        "        # Location of site\n",
        "        \"latitude\": 50.44534458236023,\n",
        "        \"longitude\": 30.529943967917802,\n",
        "        # Area available\n",
        "        \"land_acres\": 1,\n",
        "        \"roof_squarefeet\": 5000\n",
        "    },\n",
        "    \"PV\": {\n",
        "        # Modify PV cost (fully-installed cost)\n",
        "        \"installed_cost_per_kw\": 800.0\n",
        "    },\n",
        "    # Supply a blank dictionary to evaluate the technology without chaning any defaults\n",
        "    \"ElectricStorage\" : {},\n",
        "    \"ElectricLoad\": {\n",
        "        # Define building type and annual load - to use modeled loads from DOE Commercial Reference Buildings\n",
        "        \"doe_reference_name\": \"RetailStore\",\n",
        "        \"annual_kwh\": 100000.0\n",
        "    },\n",
        "    \"ElectricTariff\": {\n",
        "        # Average energy and demand charges, applied monthly\n",
        "        \"blended_annual_energy_rate\": 0.20,\n",
        "        \"blended_annual_demand_rate\": 5\n",
        "    },\n",
        "    \"ElectricUtility\" : {\n",
        "        # Specify grid emissions factor\n",
        "        \"emissions_factor_series_lb_CO2_per_kwh\": 1.04\n",
        "    },\n",
        "    \"Financial\": {\n",
        "        # Define financial parameters\n",
        "        \"elec_cost_escalation_rate_fraction\": 0.05,\n",
        "        \"offtaker_discount_rate_fraction\": 0.13,\n",
        "        \"analysis_years\": 20,\n",
        "        \"offtaker_tax_rate_fraction\": 0.18,\n",
        "        \"om_cost_escalation_rate_fraction\": 0.025\n",
        "    }\n",
        "}"
      ]
    },
    {
      "cell_type": "markdown",
      "source": [
        "## POST and poll (periodic GET request) the API to GET the REopt results. This can take a while!"
      ],
      "metadata": {
        "id": "U3ZkbzJLLCqO"
      }
    },
    {
      "cell_type": "markdown",
      "source": [
        "`get_api_results` POST's your inputs to the API `job` endpoint, which provides a `run_uuid` if the input is valid, and then polls the `results` endpoint using the `run_uuid` until the results come back with a status other than `Optimizing...`.\n",
        "\n",
        "`get_api_results` also saves the results (full API response, including inputs) to the `results_file`."
      ],
      "metadata": {
        "id": "_qPv0tdMLP7l"
      }
    },
    {
      "cell_type": "code",
      "source": [
        "outputs_file_name = \"my_results_file\"\n",
        "root_url = \"https://developer.nrel.gov/api/reopt/stable\" # /stable == /v3\n",
        "\n",
        "api_response = get_api_results(post=post,\n",
        "                               API_KEY=API_KEY,\n",
        "                               api_url=root_url,\n",
        "                               results_file=os.path.join(outputs_path, outputs_file_name + \".json\"),\n",
        "                               run_id=None)"
      ],
      "metadata": {
        "colab": {
          "base_uri": "https://localhost:8080/"
        },
        "id": "X_IHh0C7K7UE",
        "outputId": "b8c49d02-ba64-4c47-84bc-7c5cfff42d0c"
      },
      "execution_count": null,
      "outputs": [
        {
          "output_type": "stream",
          "name": "stderr",
          "text": [
            "main         INFO     Response OK from https://developer.nrel.gov/api/reopt/stable/job/?api_key=7vZ12k2wwtIzYdR4nHAHrLvdwv3NmMMkumcfnjyQ.\n",
            "INFO:main:Response OK from https://developer.nrel.gov/api/reopt/stable/job/?api_key=7vZ12k2wwtIzYdR4nHAHrLvdwv3NmMMkumcfnjyQ.\n",
            "main         INFO     Polling https://developer.nrel.gov/api/reopt/stable/job/53c12de0-37db-487b-bee2-635314801e8a/results/?api_key=7vZ12k2wwtIzYdR4nHAHrLvdwv3NmMMkumcfnjyQ for results with interval of 5s...\n",
            "INFO:main:Polling https://developer.nrel.gov/api/reopt/stable/job/53c12de0-37db-487b-bee2-635314801e8a/results/?api_key=7vZ12k2wwtIzYdR4nHAHrLvdwv3NmMMkumcfnjyQ for results with interval of 5s...\n",
            "main         INFO     Saved results to ./outputs/my_results_file.json\n",
            "INFO:main:Saved results to ./outputs/my_results_file.json\n"
          ]
        }
      ]
    },
    {
      "cell_type": "markdown",
      "source": [
        "## Explore API Response\n",
        "- View all results fields here: https://nrel.github.io/REopt.jl/dev/reopt/outputs/"
      ],
      "metadata": {
        "id": "zdHErwBxLci0"
      }
    },
    {
      "cell_type": "code",
      "source": [
        "# Keys within full response JSON\n",
        "api_response.keys()"
      ],
      "metadata": {
        "colab": {
          "base_uri": "https://localhost:8080/"
        },
        "id": "jTHsRPoULbv-",
        "outputId": "4ff45bad-2b98-46a3-b7ce-ddb603522396"
      },
      "execution_count": null,
      "outputs": [
        {
          "output_type": "execute_result",
          "data": {
            "text/plain": [
              "dict_keys(['run_uuid', 'api_version', 'user_uuid', 'webtool_uuid', 'job_type', 'status', 'created', 'reopt_version', 'api_key', 'portfolio_uuid', 'inputs', 'outputs', 'messages'])"
            ]
          },
          "metadata": {},
          "execution_count": 7
        }
      ]
    },
    {
      "cell_type": "code",
      "source": [
        "# Full inputs dictionary\n",
        "api_response[\"inputs\"];\n",
        "\n",
        "# View just \"Financial\" inputs\n",
        "api_response[\"inputs\"][\"Financial\"]"
      ],
      "metadata": {
        "colab": {
          "base_uri": "https://localhost:8080/"
        },
        "id": "wCEzB--FLqKF",
        "outputId": "5f9b704e-44f8-4a51-8f2a-bf8c909a625c"
      },
      "execution_count": null,
      "outputs": [
        {
          "output_type": "execute_result",
          "data": {
            "text/plain": [
              "{'analysis_years': 20,\n",
              " 'elec_cost_escalation_rate_fraction': 0.05,\n",
              " 'offtaker_discount_rate_fraction': 0.13,\n",
              " 'offtaker_tax_rate_fraction': 0.18,\n",
              " 'om_cost_escalation_rate_fraction': 0.025,\n",
              " 'owner_discount_rate_fraction': 0.13,\n",
              " 'owner_tax_rate_fraction': 0.18,\n",
              " 'third_party_ownership': False,\n",
              " 'value_of_lost_load_per_kwh': 0.0,\n",
              " 'microgrid_upgrade_cost_fraction': 0.0,\n",
              " 'offgrid_other_capital_costs': 0.0,\n",
              " 'offgrid_other_annual_costs': 0.0,\n",
              " 'CO2_cost_per_tonne': 51.0,\n",
              " 'CO2_cost_escalation_rate_fraction': 0.042173,\n",
              " 'NOx_grid_cost_per_tonne': 0.0,\n",
              " 'SO2_grid_cost_per_tonne': 0.0,\n",
              " 'PM25_grid_cost_per_tonne': 0.0,\n",
              " 'NOx_onsite_fuelburn_cost_per_tonne': 0.0,\n",
              " 'SO2_onsite_fuelburn_cost_per_tonne': 0.0,\n",
              " 'PM25_onsite_fuelburn_cost_per_tonne': 0.0,\n",
              " 'NOx_cost_escalation_rate_fraction': 0.0,\n",
              " 'SO2_cost_escalation_rate_fraction': 0.0,\n",
              " 'PM25_cost_escalation_rate_fraction': 0.0,\n",
              " 'generator_fuel_cost_escalation_rate_fraction': 0.012,\n",
              " 'existing_boiler_fuel_cost_escalation_rate_fraction': 0.015,\n",
              " 'boiler_fuel_cost_escalation_rate_fraction': 0.015,\n",
              " 'chp_fuel_cost_escalation_rate_fraction': 0.015}"
            ]
          },
          "metadata": {},
          "execution_count": 8
        }
      ]
    },
    {
      "cell_type": "code",
      "source": [
        "# Output keys\n",
        "print(\"Output Keys: \", list(api_response[\"outputs\"].keys()))"
      ],
      "metadata": {
        "colab": {
          "base_uri": "https://localhost:8080/"
        },
        "id": "dVgtq8YKLqXP",
        "outputId": "05c50f2a-a18c-42fd-96e6-659fe5b59f56"
      },
      "execution_count": null,
      "outputs": [
        {
          "output_type": "stream",
          "name": "stdout",
          "text": [
            "Output Keys:  ['Financial', 'ElectricTariff', 'ElectricUtility', 'ElectricLoad', 'Site', 'PV', 'ElectricStorage']\n"
          ]
        }
      ]
    },
    {
      "cell_type": "code",
      "source": [
        "# Example: Calculate year one bill savings\n",
        "year1_bill_optimized = api_response[\"outputs\"][\"ElectricTariff\"][\"year_one_bill_before_tax\"] - api_response[\"outputs\"][\"ElectricTariff\"][\"year_one_export_benefit_before_tax\"]\n",
        "year1_bill_bau = api_response[\"outputs\"][\"ElectricTariff\"][\"year_one_bill_before_tax_bau\"] - api_response[\"outputs\"][\"ElectricTariff\"][\"year_one_export_benefit_before_tax_bau\"]\n",
        "print(\"Year 1 Bill Savings ($): \", round(year1_bill_bau - year1_bill_optimized))"
      ],
      "metadata": {
        "colab": {
          "base_uri": "https://localhost:8080/"
        },
        "id": "l5TOnWxpGir-",
        "outputId": "0ecbcfb4-2c61-4579-d0cb-100fb1c6c8ed"
      },
      "execution_count": null,
      "outputs": [
        {
          "output_type": "stream",
          "name": "stdout",
          "text": [
            "Year 1 Bill Savings ($):  8026\n"
          ]
        }
      ]
    },
    {
      "cell_type": "code",
      "source": [
        "# Good idea to view info messages and warnings.\n",
        "api_response[\"messages\"]"
      ],
      "metadata": {
        "colab": {
          "base_uri": "https://localhost:8080/"
        },
        "id": "nm1qZs0EL1Fc",
        "outputId": "85a7693a-ced3-42fe-a08e-8e842968c080"
      },
      "execution_count": null,
      "outputs": [
        {
          "output_type": "execute_result",
          "data": {
            "text/plain": [
              "{'info': 'When using doe_reference_name or blended_doe_reference_names for ElectricLoad the year is set to 2017 because the DoE load profiles start on a Sunday.',\n",
              " 'errors': {},\n",
              " 'warnings': {'core_financial.jl_275': [' Could not look up EASIUR health cost escalation rates from point (50.44534458236023',\n",
              "   '30.529943967917802). Location is likely invalid or outside the CAMx grid'],\n",
              "  'core_electric_utility.jl_427': [' Your site location (50.44534458236023',\n",
              "   ' 30.529943967917802) is more than 5 miles from the nearest AVERT region. Cannot calculate emissions.'],\n",
              "  'core_financial.jl_245': [' Could not look up EASIUR health costs from point (50.44534458236023',\n",
              "   '30.529943967917802). Location is likely invalid or outside the CAMx grid.',\n",
              "   ' Could not look up EASIUR health costs from point (50.44534458236023',\n",
              "   '30.529943967917802). Location is likely invalid or outside the CAMx grid.'],\n",
              "  'core_doe_commercial_reference_building_loads.jl_57': [' Could not find latitudelongitude in U.S. Using geometrically nearest city.'],\n",
              "  'core_electric_utility.jl_394': [' Could not find AVERT region containing site latitudelongitude. Checking site proximity to AVERT regions.']},\n",
              " 'has_stacktrace': False}"
            ]
          },
          "metadata": {},
          "execution_count": 13
        }
      ]
    },
    {
      "cell_type": "code",
      "source": [
        "# Summary of results\n",
        "print(\"NPV ($) = \", api_response[\"outputs\"][\"Financial\"][\"npv\"])\n",
        "print(\"Capital Cost, Net ($) = \", api_response[\"outputs\"][\"Financial\"][\"lifecycle_capital_costs\"])\n",
        "tech_list = [\"PV\", \"Wind\", \"ElectricStorage\", \"CHP\", \"Generator\", \"HotThermalStorage\", \"ColdThermalStorage\", \"AbsorptionChiller\", \"GHP\", \"Boiler\", \"SteamTurbine\"]\n",
        "for tech in tech_list:\n",
        "    if tech in post.keys():\n",
        "        if tech == \"GHP\":\n",
        "            print(\"GHX Number of Boreholes = \", api_response[\"outputs\"][tech][\"ghpghx_chosen_outputs\"].get(\"number_of_boreholes\"))\n",
        "            print(\"GHP Heat Pump Capacity (ton) = \", api_response[\"outputs\"][tech][\"ghpghx_chosen_outputs\"].get(\"peak_combined_heatpump_thermal_ton\"))\n",
        "        for size_name_value in [(key, val) for key, val in api_response[\"outputs\"][tech].items() if \"size\" in key]:\n",
        "                print(tech + \" \" + size_name_value[0], \" = \", size_name_value[1])"
      ],
      "metadata": {
        "colab": {
          "base_uri": "https://localhost:8080/"
        },
        "id": "oOfUxmZLL_5G",
        "outputId": "1ecf1ee3-7709-4be4-e99f-e7fe7b276307"
      },
      "execution_count": null,
      "outputs": [
        {
          "output_type": "stream",
          "name": "stdout",
          "text": [
            "NPV ($) =  36538.55\n",
            "Capital Cost, Net ($) =  23894.2041\n",
            "PV size_kw  =  49.0344\n",
            "ElectricStorage size_kw  =  0.0\n",
            "ElectricStorage size_kwh  =  0.0\n"
          ]
        }
      ]
    },
    {
      "cell_type": "code",
      "source": [
        "# Choose some timeseries results to visualize\n",
        "loads_kw = api_response[\"outputs\"][\"ElectricUtility\"][\"electric_to_load_series_kw_bau\"]\n",
        "electric_to_load_series_kw = api_response[\"outputs\"][\"ElectricUtility\"][\"electric_to_load_series_kw\"]\n",
        "\n",
        "plt.plot(loads_kw, label=\"Before\")\n",
        "plt.plot(electric_to_load_series_kw, label=\"After\")\n",
        "\n",
        "plt.xlabel(\"Time\")\n",
        "plt.ylabel(\"Power (kW)\")\n",
        "plt.title(\"Grid Purchases Before and After Investments\")\n",
        "plt.legend()\n",
        "plt.show()"
      ],
      "metadata": {
        "colab": {
          "base_uri": "https://localhost:8080/",
          "height": 472
        },
        "id": "jHMNyjhYh00R",
        "outputId": "8a8e279c-e0b5-4047-bcba-047d4e5a480b"
      },
      "execution_count": null,
      "outputs": [
        {
          "output_type": "display_data",
          "data": {
            "text/plain": [
              "<Figure size 640x480 with 1 Axes>"
            ],
            "image/png": "[encoded data removed]"
          },
          "metadata": {}
        }
      ]
    },
    {
      "cell_type": "markdown",
      "source": [
        "# Practice Exercises"
      ],
      "metadata": {
        "id": "D_yqh4bJMOPm"
      }
    },
    {
      "cell_type": "markdown",
      "source": [
        "## 1. Run a resilience evaluation"
      ],
      "metadata": {
        "id": "5luyHn5vY6K5"
      }
    },
    {
      "cell_type": "code",
      "source": [
        "### Modify the values below for your test case before moving on ###\n",
        "\n",
        "## Set the duration of the outage you wish to evaluate\n",
        "outage_hours = 12\n",
        "\n",
        "## Define your critical loads\n",
        "# Option 1: Specify a percentage of the typical loads as critical\n",
        "critical_load_fraction = 0.8 # 80%\n",
        "\n",
        "# Option 2: Create a critical load profile and upload it to the \"load_profiles\" folder under the \"Files\" in this Colab space\n",
        "# Uncomment if you wish to use this approach:\n",
        "# critical_load_file_name = \"my_file.csv\"\n",
        "# filepath = os.path.join(loads_path, critical_load_file_name)\n",
        "# critical_loads_kw = pd.read_csv(filepath, header=None).iloc[:, 0].tolist()\n",
        "\n",
        "## Specify the lat long\n",
        "latitude = 50\n",
        "longitude = 30\n",
        "\n",
        "## Specify the building type and annual load\n",
        "doe_reference_name = \"Hospital\" # See options here: https://nrel.github.io/REopt.jl/dev/reopt/inputs/#ElectricLoad\n",
        "annual_kwh = 100000\n"
      ],
      "metadata": {
        "id": "kpozWfr0Y41c"
      },
      "execution_count": 10,
      "outputs": []
    },
    {
      "cell_type": "code",
      "source": [
        "# Just run this cell -- no modifications needed.\n",
        "root_url = \"https://developer.nrel.gov/api/reopt/stable\"\n",
        "\n",
        "# Get load profile\n",
        "inputs = {\"load_type\": \"electric\",\n",
        "        \"doe_reference_name\": doe_reference_name,\n",
        "        \"latitude\": latitude,\n",
        "        \"longitude\": longitude,\n",
        "        \"annual_kwh\": annual_kwh\n",
        "}\n",
        "load_url = root_url + '/simulated_load/?api_key=' + API_KEY\n",
        "response = requests.get(url=load_url, params=inputs, verify=False)\n",
        "loads_kw = json.loads(response.content)[\"loads_kw\"]\n",
        "\n",
        "# Get outage start times. Assume outages occur during peak load times\n",
        "inputs = {\"seasonal_peaks\": True,\n",
        "          \"outage_duration\": outage_hours,\n",
        "          \"critical_load\": loads_kw,\n",
        "          \"start_not_center_on_peaks\": False\n",
        "        }\n",
        "times_url = root_url + '/peak_load_outage_times/?api_key=' + API_KEY\n",
        "response = requests.post(url=times_url, json=inputs)\n",
        "outage_times = json.loads(response.content)[\"outage_start_time_steps\"]"
      ],
      "metadata": {
        "id": "diOEtdl8AsDQ"
      },
      "execution_count": 11,
      "outputs": []
    },
    {
      "cell_type": "code",
      "source": [
        "### Modify any values below that are not already variables ###\n",
        "### Check all possible inputs here: https://nrel.github.io/REopt.jl/dev/reopt/inputs/ ###\n",
        "\n",
        "post = {\n",
        "    \"Site\": {\n",
        "        # Location of site\n",
        "        \"latitude\": latitude,\n",
        "        \"longitude\": longitude,\n",
        "        # Area available\n",
        "        \"land_acres\": 1,\n",
        "        \"roof_squarefeet\": 5000\n",
        "    },\n",
        "    \"PV\": {\n",
        "        # Modify PV cost (fully-installed cost)\n",
        "        \"installed_cost_per_kw\": 800.0\n",
        "    },\n",
        "    # Supply a blank dictionary to evaluate the technology without chaning any defaults\n",
        "    \"ElectricStorage\" : {},\n",
        "    \"ElectricLoad\": {\n",
        "        # Define building type and annual load - to use modeled loads from DOE Commercial Reference Buildings\n",
        "        \"doe_reference_name\": doe_reference_name,\n",
        "        \"annual_kwh\": annual_kwh\n",
        "        # If using a custom load, you can specify loads_kw\n",
        "    },\n",
        "    \"ElectricTariff\": {\n",
        "        # Average energy and demand charges, applied monthly\n",
        "        \"blended_annual_energy_rate\": 0.20,\n",
        "        \"blended_annual_demand_rate\": 5\n",
        "    },\n",
        "    \"ElectricUtility\" : {\n",
        "        # Specify grid emissions factor\n",
        "        \"emissions_factor_series_lb_CO2_per_kwh\": 1.04,\n",
        "        # Resilience Inputs\n",
        "        \"outage_durations\": [outage_hours],\n",
        "        \"outage_start_time_steps\": outage_times,\n",
        "        # If using Option 2 above: \"critical_loads_kw\": critical_loads\n",
        "    },\n",
        "    \"Financial\": {\n",
        "        # Define financial parameters\n",
        "        \"elec_cost_escalation_rate_fraction\": 0.05,\n",
        "        \"offtaker_discount_rate_fraction\": 0.13,\n",
        "        \"analysis_years\": 20,\n",
        "        \"offtaker_tax_rate_fraction\": 0.18,\n",
        "        \"om_cost_escalation_rate_fraction\": 0.025\n",
        "    }\n",
        "}"
      ],
      "metadata": {
        "id": "3A7ADI4Xf6sm"
      },
      "execution_count": 12,
      "outputs": []
    },
    {
      "cell_type": "code",
      "source": [
        "# Call the REopt API\n",
        "outputs_file_name = f\"resilience_run_{outage_hours}hours\"\n",
        "root_url = \"https://developer.nrel.gov/api/reopt/stable\" # /stable == /v3\n",
        "\n",
        "api_response = get_api_results(post=post,\n",
        "                               API_KEY=API_KEY,\n",
        "                               api_url=root_url,\n",
        "                               results_file=os.path.join(outputs_path, outputs_file_name + \".json\"),\n",
        "                               run_id=None)"
      ],
      "metadata": {
        "id": "1lgpxIRUE4jX",
        "colab": {
          "base_uri": "https://localhost:8080/"
        },
        "outputId": "b9d7aed5-54a0-4c3d-c50c-f3c0d5b9cd4c"
      },
      "execution_count": null,
      "outputs": [
        {
          "output_type": "stream",
          "name": "stderr",
          "text": [
            "main         INFO     Response OK from https://developer.nrel.gov/api/reopt/stable/job/?api_key=7vZ12k2wwtIzYdR4nHAHrLvdwv3NmMMkumcfnjyQ.\n",
            "INFO:main:Response OK from https://developer.nrel.gov/api/reopt/stable/job/?api_key=7vZ12k2wwtIzYdR4nHAHrLvdwv3NmMMkumcfnjyQ.\n",
            "main         INFO     Polling https://developer.nrel.gov/api/reopt/stable/job/69680b30-8eeb-4461-b070-e8a84a7d0e53/results/?api_key=7vZ12k2wwtIzYdR4nHAHrLvdwv3NmMMkumcfnjyQ for results with interval of 5s...\n",
            "INFO:main:Polling https://developer.nrel.gov/api/reopt/stable/job/69680b30-8eeb-4461-b070-e8a84a7d0e53/results/?api_key=7vZ12k2wwtIzYdR4nHAHrLvdwv3NmMMkumcfnjyQ for results with interval of 5s...\n",
            "main         INFO     Saved results to ./outputs/resilience_run.json\n",
            "INFO:main:Saved results to ./outputs/resilience_run.json\n"
          ]
        }
      ]
    },
    {
      "cell_type": "code",
      "source": [
        "# Summary of results\n",
        "print(f\"Results for Outage Duration of {outage_hours} hours\")\n",
        "print(\"NPV ($) = \", api_response[\"outputs\"][\"Financial\"][\"npv\"])\n",
        "print(\"Capital Cost, Net ($) = \", api_response[\"outputs\"][\"Financial\"][\"lifecycle_capital_costs\"])\n",
        "tech_list = [\"PV\", \"Wind\", \"ElectricStorage\", \"CHP\", \"Generator\", \"HotThermalStorage\", \"ColdThermalStorage\", \"AbsorptionChiller\", \"GHP\", \"Boiler\", \"SteamTurbine\"]\n",
        "for tech in tech_list:\n",
        "    if tech in post.keys():\n",
        "        if tech == \"GHP\":\n",
        "            print(\"GHX Number of Boreholes = \", api_response[\"outputs\"][tech][\"ghpghx_chosen_outputs\"].get(\"number_of_boreholes\"))\n",
        "            print(\"GHP Heat Pump Capacity (ton) = \", api_response[\"outputs\"][tech][\"ghpghx_chosen_outputs\"].get(\"peak_combined_heatpump_thermal_ton\"))\n",
        "        for size_name_value in [(key, val) for key, val in api_response[\"outputs\"][tech].items() if \"size\" in key]:\n",
        "                print(tech + \" \" + size_name_value[0], \" = \", size_name_value[1])"
      ],
      "metadata": {
        "id": "SDyJHWgQFDD_",
        "colab": {
          "base_uri": "https://localhost:8080/"
        },
        "outputId": "e6ec8e9f-6bef-401a-82f0-f96c4e43f399"
      },
      "execution_count": null,
      "outputs": [
        {
          "output_type": "stream",
          "name": "stdout",
          "text": [
            "Results for Outage Duration of 12 hours\n",
            "NPV ($) =  14561.78\n",
            "Capital Cost, Net ($) =  50497.0546\n",
            "PV size_kw  =  53.3769\n",
            "ElectricStorage size_kw  =  8.37\n",
            "ElectricStorage size_kwh  =  51.67\n"
          ]
        }
      ]
    },
    {
      "cell_type": "markdown",
      "source": [
        "## 2. Change the outage duration and compare results"
      ],
      "metadata": {
        "id": "l9Do0ACKQjc2"
      }
    },
    {
      "cell_type": "code",
      "source": [
        "## Specify a new outage duration and run REopt\n",
        "outage_hours = 48 # Modify this value"
      ],
      "metadata": {
        "id": "Q8As4_61HPPH"
      },
      "execution_count": 13,
      "outputs": []
    },
    {
      "cell_type": "code",
      "source": [
        "# Get new outage start times. Assume outages occur during peak load times\n",
        "inputs = {\"seasonal_peaks\": True,\n",
        "          \"outage_duration\": outage_hours,\n",
        "          \"critical_load\": loads_kw,\n",
        "          \"start_not_center_on_peaks\": False\n",
        "        }\n",
        "times_url = root_url + '/peak_load_outage_times/?api_key=' + API_KEY\n",
        "response = requests.post(url=times_url, json=inputs)\n",
        "outage_times = json.loads(response.content)[\"outage_start_time_steps\"]\n",
        "\n",
        "# Update the post\n",
        "post[\"ElectricUtility\"][\"outage_durations\"] = [outage_hours]\n",
        "post[\"ElectricUtility\"][\"outage_start_time_steps\"] = outage_times\n",
        "\n",
        "# Run REopt\n",
        "outputs_file_name = f\"resilience_run_{outage_hours}hours\"\n",
        "root_url = \"https://developer.nrel.gov/api/reopt/stable\" # /stable == /v3\n",
        "\n",
        "api_response = get_api_results(post=post,\n",
        "                               API_KEY=API_KEY,\n",
        "                               api_url=root_url,\n",
        "                               results_file=os.path.join(outputs_path, outputs_file_name + \".json\"),\n",
        "                               run_id=None)"
      ],
      "metadata": {
        "colab": {
          "base_uri": "https://localhost:8080/"
        },
        "id": "sFm1oIk8Qv28",
        "outputId": "dea1189a-64f3-4894-dd84-dce6b680dfd2"
      },
      "execution_count": 14,
      "outputs": [
        {
          "output_type": "stream",
          "name": "stderr",
          "text": [
            "main         INFO     Response OK from https://developer.nrel.gov/api/reopt/stable/job/?api_key=7vZ12k2wwtIzYdR4nHAHrLvdwv3NmMMkumcfnjyQ.\n",
            "INFO:main:Response OK from https://developer.nrel.gov/api/reopt/stable/job/?api_key=7vZ12k2wwtIzYdR4nHAHrLvdwv3NmMMkumcfnjyQ.\n",
            "main         INFO     Polling https://developer.nrel.gov/api/reopt/stable/job/177f7ffd-41a7-4266-901d-2fd9eae020ec/results/?api_key=7vZ12k2wwtIzYdR4nHAHrLvdwv3NmMMkumcfnjyQ for results with interval of 5s...\n",
            "INFO:main:Polling https://developer.nrel.gov/api/reopt/stable/job/177f7ffd-41a7-4266-901d-2fd9eae020ec/results/?api_key=7vZ12k2wwtIzYdR4nHAHrLvdwv3NmMMkumcfnjyQ for results with interval of 5s...\n",
            "main         INFO     Saved results to ./outputs/resilience_run_48hours.json\n",
            "INFO:main:Saved results to ./outputs/resilience_run_48hours.json\n"
          ]
        }
      ]
    },
    {
      "cell_type": "code",
      "source": [
        "# Summary of results\n",
        "print(f\"Results for Outage Duration of {outage_hours} hours\")\n",
        "print(\"NPV ($) = \", api_response[\"outputs\"][\"Financial\"][\"npv\"])\n",
        "print(\"Capital Cost, Net ($) = \", api_response[\"outputs\"][\"Financial\"][\"lifecycle_capital_costs\"])\n",
        "tech_list = [\"PV\", \"Wind\", \"ElectricStorage\", \"CHP\", \"Generator\", \"HotThermalStorage\", \"ColdThermalStorage\", \"AbsorptionChiller\", \"GHP\", \"Boiler\", \"SteamTurbine\"]\n",
        "for tech in tech_list:\n",
        "    if tech in post.keys():\n",
        "        if tech == \"GHP\":\n",
        "            print(\"GHX Number of Boreholes = \", api_response[\"outputs\"][tech][\"ghpghx_chosen_outputs\"].get(\"number_of_boreholes\"))\n",
        "            print(\"GHP Heat Pump Capacity (ton) = \", api_response[\"outputs\"][tech][\"ghpghx_chosen_outputs\"].get(\"peak_combined_heatpump_thermal_ton\"))\n",
        "        for size_name_value in [(key, val) for key, val in api_response[\"outputs\"][tech].items() if \"size\" in key]:\n",
        "                print(tech + \" \" + size_name_value[0], \" = \", size_name_value[1])"
      ],
      "metadata": {
        "colab": {
          "base_uri": "https://localhost:8080/"
        },
        "id": "MUxYYRG2HPXz",
        "outputId": "1d9aa1c1-237e-41ab-d652-de96c8c45f39"
      },
      "execution_count": 15,
      "outputs": [
        {
          "output_type": "stream",
          "name": "stdout",
          "text": [
            "Results for Outage Duration of 48 hours\n",
            "NPV ($) =  -25937.56\n",
            "Capital Cost, Net ($) =  123167.8662\n",
            "PV size_kw  =  97.1641\n",
            "ElectricStorage size_kw  =  17.26\n",
            "ElectricStorage size_kwh  =  177.75\n"
          ]
        }
      ]
    },
    {
      "cell_type": "code",
      "source": [],
      "metadata": {
        "id": "diMyMB1GRUSO"
      },
      "execution_count": null,
      "outputs": []
    }
  ],
  "metadata": {
    "@webio": {
      "lastCommId": null,
      "lastKernelId": null
    },
    "kernelspec": {
      "display_name": "Python 3",
      "language": "python",
      "name": "python3"
    },
    "language_info": {
      "codemirror_mode": {
        "name": "ipython",
        "version": 3
      },
      "file_extension": ".py",
      "mimetype": "text/x-python",
      "name": "python",
      "nbconvert_exporter": "python",
      "pygments_lexer": "ipython3",
      "version": "3.8.8"
    },
    "latex_envs": {
      "LaTeX_envs_menu_present": true,
      "autoclose": false,
      "autocomplete": true,
      "bibliofile": "biblio.bib",
      "cite_by": "apalike",
      "current_citInitial": 1,
      "eqLabelWithNumbers": true,
      "eqNumInitial": 1,
      "hotkeys": {
        "equation": "Ctrl-E",
        "itemize": "Ctrl-I"
      },
      "labels_anchors": false,
      "latex_user_defs": false,
      "report_style_numbering": false,
      "user_envs_cfg": false
    },
    "colab": {
      "provenance": []
    }
  },
  "nbformat": 4,
  "nbformat_minor": 0
}