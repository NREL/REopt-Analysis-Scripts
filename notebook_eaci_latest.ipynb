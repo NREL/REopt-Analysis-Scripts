{
 "cells": [
  {
   "cell_type": "markdown",
   "metadata": {},
   "source": [
    "# Run a REopt API evaluation"
   ]
  },
  {
   "cell_type": "markdown",
   "metadata": {},
   "source": [
    "## Initialization"
   ]
  },
  {
   "cell_type": "code",
   "execution_count": 1,
   "metadata": {},
   "outputs": [],
   "source": [
    "import pandas as pd\n",
    "import numpy as np\n",
    "import json\n",
    "import requests\n",
    "import copy\n",
    "import os\n",
    "from src.post_and_poll import get_api_results\n",
    "API_KEY = 'uiMp56xYMT983T2OikI0RrEKAyAAEDpZHzuC8nTC'  # REPLACE WITH YOUR API KEY"
   ]
  },
  {
   "cell_type": "code",
   "execution_count": 2,
   "metadata": {},
   "outputs": [],
   "source": [
    "# following is not necessary but silences warnings:\n",
    "# InsecureRequestWarning: Unverified HTTPS request is being made to host 'developer.nrel.gov'. Adding certificate verification is strongly advised.\n",
    "import urllib3\n",
    "urllib3.disable_warnings()"
   ]
  },
  {
   "cell_type": "code",
   "execution_count": 3,
   "metadata": {},
   "outputs": [],
   "source": [
    "\"\"\"\n",
    "Here are some convenience definitions for using the Multi-scenario capabilities\n",
    "\"\"\"\n",
    "##############################################################################################################\n",
    "inputs_path = os.path.join(\".\", 'inputs')\n",
    "outputs_path = os.path.join(\".\", 'outputs')\n",
    "loads_path = os.path.join(\".\", 'load_profiles')\n",
    "rates_path = os.path.join(\".\", 'electric_rates')\n",
    "##############################################################################################################"
   ]
  },
  {
   "cell_type": "markdown",
   "metadata": {},
   "source": [
    "## Load a previously saved API response .json file instead of running REopt"
   ]
  },
  {
   "cell_type": "code",
   "execution_count": 44,
   "metadata": {},
   "outputs": [],
   "source": [
    "response_json = '4_kgal_limit_fixed_pv_2.85MW'\n",
    "with open(os.path.join(outputs_path, response_json + '.json'), 'rb') as handle:\n",
    "    api_response = json.load(handle)"
   ]
  },
  {
   "cell_type": "markdown",
   "metadata": {},
   "source": [
    "## Scenario Inputs (POST), if wanting to do a new API call"
   ]
  },
  {
   "cell_type": "code",
   "execution_count": 49,
   "metadata": {},
   "outputs": [],
   "source": [
    "post_1 = {\"Scenario\": {\n",
    "    \"optimality_tolerance_techs\": 0.001,\n",
    "    \"Site\": {\n",
    "        \"longitude\": -106.5527591,\n",
    "        \"latitude\": 35.0488506,\n",
    "        \"land_acres\": 1.0e6,\n",
    "        \"roof_squarefeet\": 1.0e9,\n",
    "        # \"renewable_electricity_min_pct\": 0.0,\n",
    "        # \"renewable_electricity_max_pct\": 0.0,\n",
    "        # \"co2_emissions_reduction_min_pct\": None,\n",
    "        # \"co2_emissions_reduction_max_pct\": None, # even if None or 1.0, this will trigger emissions constraints\n",
    "        \"off_grid_flag\": False,\n",
    "        \"include_climate_in_objective\": False,\n",
    "        \"LoadProfile\": {\n",
    "            \"loads_kw\": [],  # Populated below\n",
    "            \"critical_load_pct\": 0.999,  # Modeling all load = critical load\n",
    "            \"critical_loads_kw\": [],  # Not needed, using loads_kw and critical_load_pct = 1.0\n",
    "            \"outage_start_time_step\": 4565, #1540,  # just to make sure generator is sized >0\n",
    "            \"outage_end_time_step\": 4565 + 2*168,  # defined below\n",
    "            \"outage_is_major_event\": True,  # Not used in the optimization, only for value of lost load\n",
    "            \"year\": 2017,  # Consistent with using CRB's which we pre-process and combine into an aggregated load below\n",
    "        },\n",
    "        \"ElectricTariff\": {\n",
    "            \"blended_annual_rates_us_dollars_per_kwh\": 0.04,\n",
    "            \"blended_annual_demand_charges_us_dollars_per_kw\": 0.0,\n",
    "            \"wholesale_rate_us_dollars_per_kwh\": 0.04\n",
    "        },\n",
    "        \"Generator\": {\n",
    "            \"min_kw\": 3000.0,        \n",
    "            \"max_kw\": 3000.0,\n",
    "            \"diesel_fuel_cost_us_dollars_per_gallon\": 3.0,        \n",
    "            \"installed_cost_us_dollars_per_kw\": 800.0,  # From Jimmy\n",
    "            \"om_cost_us_dollars_per_kw\": 20.0,\n",
    "            \"om_cost_us_dollars_per_kwh\": 0.0,        \n",
    "            \"fuel_slope_gal_per_kwh\": 0.08217,  # 30% HHV efficiency \n",
    "            \"fuel_intercept_gal_per_hr\": 0.0,\n",
    "            \"fuel_avail_gal\": 12000.0,\n",
    "            \"min_turn_down_pct\": 0.0,\n",
    "            \"existing_kw\": 0.0,\n",
    "            \"generator_only_runs_during_grid_outage\": True,\n",
    "            \"generator_sells_energy_back_to_grid\": False,\n",
    "            \"macrs_option_years\": 0,\n",
    "            \"macrs_bonus_pct\": 0.0,\n",
    "        },      \n",
    "        \"PV\": {\n",
    "            # \"min_kw\": 0.0,\n",
    "            # \"max_kw\": 0.0,\n",
    "            \"installed_cost_us_dollars_per_kw\": 1256.0,  # From Dan's analysis, NOT From Jimmy, ATB 2021\n",
    "            \"om_cost_us_dollars_per_kw\": 22.0,  # From Dan's analysis, NOT REopt default, ATB 2020\n",
    "            \"array_type\": 2,\n",
    "            \"federal_itc_pct\": 0.0,\n",
    "            \"macrs_option_years\": 0,\n",
    "            \"macrs_bonus_pct\": 0.0,\n",
    "            \"macrs_itc_reduction\": 0.0\n",
    "        },\n",
    "        \"Storage\": {\n",
    "            \"max_kw\": 0.0,\n",
    "            \"max_kwh\": 0.0,\n",
    "            \"soc_init_pct\": 0.5,\n",
    "            \"soc_min_pct\": 0.2,\n",
    "            \"installed_cost_us_dollars_per_kw\": 220.0,  # From Dan's analysis, NOT From Jimmy, ATB 2021 UTILITY SCALE SEEMS WAY LOW\n",
    "            \"installed_cost_us_dollars_per_kwh\": 424.0,  # From Dan's analysis, NOT From Jimmy, ATB 2021 UTILITY SCALE\n",
    "            \"replace_cost_us_dollars_per_kw\": 220.0/2.0,  # Assume half cost for inverter replacement\n",
    "            \"replace_cost_us_dollars_per_kwh\": 424.0/2.0,  # Assume half cost for battery pack replacement\n",
    "            \"inverter_replacement_year\": 12,\n",
    "            \"battery_replacement_year\": 12,\n",
    "            \"can_grid_charge\": False,\n",
    "            \"macrs_option_years\": 0,\n",
    "            \"macrs_bonus_pct\": 0.0,\n",
    "            \"macrs_itc_reduction\": 0.0,\n",
    "            \"total_itc_pct\": 0,\n",
    "        },\n",
    "        \"Financial\": {\n",
    "            \"om_cost_escalation_pct\": 0.0,\n",
    "            \"escalation_pct\": 0.0,\n",
    "            \"generator_fuel_escalation_pct\": 0.0,\n",
    "            \"offtaker_tax_pct\": 0.0,\n",
    "            \"offtaker_discount_pct\": 0.03,\n",
    "            \"analysis_years\": 25,\n",
    "            \"co2_cost_us_dollars_per_tonne\": 0.0  # Only used if Site.include_climate_in_objective = True\n",
    "        }\n",
    "}}}\n",
    "post_1[\"Scenario\"][\"Site\"][\"LoadProfile\"][\"loads_kw\"] = list(building_load_profiles_df[\"All\"].values)"
   ]
  },
  {
   "cell_type": "markdown",
   "metadata": {},
   "source": [
    "### Load in EACI (cricital) load data for Kirtland microgrid"
   ]
  },
  {
   "cell_type": "code",
   "execution_count": 5,
   "metadata": {},
   "outputs": [],
   "source": [
    "# New/updated all buildings load profile\n",
    "building_load_profiles_df = pd.read_csv('./load_profiles/building_load_profiles_03082022_JEQ.csv', index_col=0)"
   ]
  },
  {
   "cell_type": "code",
   "execution_count": 6,
   "metadata": {},
   "outputs": [],
   "source": [
    "import matplotlib.pyplot as plt\n",
    "import random"
   ]
  },
  {
   "cell_type": "code",
   "execution_count": 22,
   "metadata": {},
   "outputs": [
    {
     "data": {
      "text/plain": [
       "Text(0.5, 1.0, 'Microgrid Load')"
      ]
     },
     "execution_count": 22,
     "metadata": {},
     "output_type": "execute_result"
    },
    {
     "data": {
      "application/vnd.jupyter.widget-view+json": {
       "model_id": "bcf07f04b95544fbb011dfd81eddd62e",
       "version_major": 2,
       "version_minor": 0
      },
      "text/html": [
       "\n",
       "            <div style=\"display: inline-block;\">\n",
       "                <div class=\"jupyter-widgets widget-label\" style=\"text-align: center;\">\n",
       "                    Figure\n",
       "                </div>\n",
       "                <img src='data:image/png;base64,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' width=640.0/>\n",
       "            </div>\n",
       "        "
      ],
      "text/plain": [
       "Canvas(toolbar=Toolbar(toolitems=[('Home', 'Reset original view', 'home', 'home'), ('Back', 'Back to previous …"
      ]
     },
     "metadata": {},
     "output_type": "display_data"
    }
   ],
   "source": [
    "%matplotlib widget\n",
    "plt.plot(building_load_profiles_df[\"All\"].values)\n",
    "plt.grid()\n",
    "# plt.legend()\n",
    "plt.ylabel(\"Microgrid Load (kW)\")\n",
    "plt.xlabel(\"Hour of the year (hour)\")\n",
    "plt.title(\"Microgrid Load\")"
   ]
  },
  {
   "cell_type": "code",
   "execution_count": 8,
   "metadata": {},
   "outputs": [
    {
     "data": {
      "text/plain": [
       "2319.1"
      ]
     },
     "execution_count": 8,
     "metadata": {},
     "output_type": "execute_result"
    }
   ],
   "source": [
    "np.max(building_load_profiles_df[\"All\"].values)"
   ]
  },
  {
   "cell_type": "code",
   "execution_count": 23,
   "metadata": {},
   "outputs": [],
   "source": [
    "# Determine which load will be used for the electric load profile and critical load\n",
    "post_1[\"Scenario\"][\"Site\"][\"LoadProfile\"][\"loads_kw\"] = list(building_load_profiles_df[\"All\"].values)\n",
    "# From post_1 definition above, critical_load_pct = 1 which is what we want"
   ]
  },
  {
   "cell_type": "markdown",
   "metadata": {},
   "source": [
    "### Load in a custom electric rate generated from https://reopt.nrel.gov/tool/custom_tariffs"
   ]
  },
  {
   "cell_type": "code",
   "execution_count": 6,
   "metadata": {},
   "outputs": [],
   "source": [
    "load_electric_rate = \"PGE_E20\"\n",
    "with open(os.path.join(rates_path, load_electric_rate + \".json\"), 'r') as fp:\n",
    "    rate_1 = json.load(fp)\n",
    "post_1[\"Scenario\"][\"Site\"][\"ElectricTariff\"][\"urdb_response\"] = rate_1"
   ]
  },
  {
   "cell_type": "markdown",
   "metadata": {},
   "source": [
    "## Save the POST to a .json file for sharing or future loading in"
   ]
  },
  {
   "cell_type": "code",
   "execution_count": 7,
   "metadata": {},
   "outputs": [],
   "source": [
    "# Convert python dictionary post into json and save to a .json file\n",
    "post_save = post_1\n",
    "post_name = \"post_1\"\n",
    "with open(os.path.join(inputs_path, post_name + \".json\"), 'w') as fp:\n",
    "    json.dump(post_save, fp)"
   ]
  },
  {
   "cell_type": "markdown",
   "metadata": {},
   "source": [
    "## Or load in a saved .json file for the inputs/POST"
   ]
  },
  {
   "cell_type": "code",
   "execution_count": 4,
   "metadata": {
    "scrolled": true
   },
   "outputs": [],
   "source": [
    "# Load a json into a python dictionary\n",
    "load_post = \"midrise\"\n",
    "with open(os.path.join(inputs_path, load_post + \".json\"), 'r') as fp:\n",
    "    post_1 = json.load(fp)"
   ]
  },
  {
   "cell_type": "markdown",
   "metadata": {},
   "source": [
    "## POST and poll (periodic GET request) the API to GET a new result, if not loading in a previous response. This may take a while!"
   ]
  },
  {
   "cell_type": "markdown",
   "metadata": {},
   "source": [
    "### Note, the `api_url` in the `get_api_results` function below calls the **production server** hosted API (master/main branch/version, publicly accessible)\n",
    "\n",
    "#### For calling a locally-hosted (localhost) API, see:\n",
    "- https://github.com/NREL/REopt_Lite_API/wiki/localhost-URLs-for-calling-locally-hosted-API\n",
    "\n",
    "#### For calling an API hosted on an NREL-internal server (only NREL users can access this), see:\n",
    "- https://github.nrel.gov/REopt/API_scripts/wiki/API-URLs-for-NREL-internal-servers"
   ]
  },
  {
   "cell_type": "markdown",
   "metadata": {},
   "source": [
    "`get_api_results` POST's your inputs to the API `job` endpoint, which provides a `run_uuid` if the input is valid, and then polls the `results` endpoint using the `run_uuid` until the results come back with a status other than `Optimizing...`.\n",
    "\n",
    "`get_api_results` also saves the results (full API response, including inputs) to the `results_file`.\n",
    "\n",
    "A log file is also created in the current working directory."
   ]
  },
  {
   "cell_type": "code",
   "execution_count": 50,
   "metadata": {},
   "outputs": [
    {
     "name": "stderr",
     "output_type": "stream",
     "text": [
      "main         INFO     Response OK from https://developer.nrel.gov/api/reopt/v1/job/?api_key=uiMp56xYMT983T2OikI0RrEKAyAAEDpZHzuC8nTC.\n",
      "main         INFO     Polling https://developer.nrel.gov/api/reopt/v1/job/9d0c4b18-04f0-4209-a718-782ee8b0d0b8/results/?api_key=uiMp56xYMT983T2OikI0RrEKAyAAEDpZHzuC8nTC for results with interval of 5s...\n",
      "main         INFO     Saved results to ./outputs/Latest runs/12_kgal_limit_size_pv_no_battery.json\n"
     ]
    }
   ],
   "source": [
    "root_url = \"https://developer.nrel.gov/api/reopt/v1\"\n",
    "outputs_path = './outputs/Latest runs'\n",
    "outputs_file_name = \"12_kgal_limit_size_pv_no_battery\"\n",
    "api_response = get_api_results(post=post_1,\n",
    "                                   API_KEY=API_KEY,\n",
    "                                   api_url=root_url,\n",
    "                                   results_file=os.path.join(outputs_path, outputs_file_name + \".json\"), \n",
    "                                   run_id=None)"
   ]
  },
  {
   "cell_type": "markdown",
   "metadata": {},
   "source": [
    "### If you get disconnected from the polling function but you think it ran, copy the run_uuid from the log above to manually GET the results:"
   ]
  },
  {
   "cell_type": "code",
   "execution_count": 12,
   "metadata": {},
   "outputs": [
    {
     "name": "stdout",
     "output_type": "stream",
     "text": [
      "run_uuid =  a8b6bca7-8fc7-4f90-9c38-43143c685608\n"
     ]
    }
   ],
   "source": [
    "run_uuid = api_response[\"outputs\"][\"Scenario\"][\"run_uuid\"]\n",
    "print(\"run_uuid = \", api_response[\"outputs\"][\"Scenario\"][\"run_uuid\"])\n",
    "results_url = root_url + '/job/' + run_uuid + '/results/?api_key=' + API_KEY\n",
    "resp = requests.get(url=results_url, verify=False)\n",
    "api_response = json.loads(resp.text)"
   ]
  },
  {
   "cell_type": "markdown",
   "metadata": {},
   "source": [
    "## Get summary of results"
   ]
  },
  {
   "cell_type": "code",
   "execution_count": 51,
   "metadata": {},
   "outputs": [
    {
     "name": "stdout",
     "output_type": "stream",
     "text": [
      "NPV ($) =  -4925149.0\n",
      "Capital Cost, Net ($) =  5501176.66\n",
      "PV size_kw  =  2469.0897\n",
      "Storage size_kw  =  0.0\n",
      "Storage size_kwh  =  0.0\n",
      "Generator size_kw  =  3000.0\n"
     ]
    }
   ],
   "source": [
    "print(\"NPV ($) = \", api_response[\"outputs\"][\"Scenario\"][\"Site\"][\"Financial\"][\"npv_us_dollars\"])\n",
    "print(\"Capital Cost, Net ($) = \", api_response[\"outputs\"][\"Scenario\"][\"Site\"][\"Financial\"][\"net_capital_costs\"])\n",
    "tech_list = [\"PV\", \"Wind\", \"Storage\", \"CHP\", \"Generator\", \"HotTES\", \"ColdTES\", \"AbsorptionChiller\", \"GHP\", \"NewBoiler\", \"SteamTurbine\"]\n",
    "for tech in tech_list:\n",
    "    if tech in post_1[\"Scenario\"][\"Site\"].keys():\n",
    "        if tech == \"GHP\":\n",
    "            print(\"GHX Number of Boreholes = \", api_response[\"outputs\"][\"Scenario\"][\"Site\"][tech][\"ghpghx_chosen_outputs\"].get(\"number_of_boreholes\"))\n",
    "            print(\"GHP Heat Pump Capacity (ton) = \", api_response[\"outputs\"][\"Scenario\"][\"Site\"][tech][\"ghpghx_chosen_outputs\"].get(\"peak_combined_heatpump_thermal_ton\"))\n",
    "        # PV and Storage are considered if the POST does not explicitly make max_[size] == 0\n",
    "        for size_name_value in [(key, val) for key, val in api_response[\"outputs\"][\"Scenario\"][\"Site\"][tech].items() if \"size\" in key]:\n",
    "                print(tech + \" \" + size_name_value[0], \" = \", size_name_value[1])\n",
    "    elif tech in [\"PV\", \"Storage\"]:\n",
    "        for size_name_value in [(key, val) for key, val in api_response[\"outputs\"][\"Scenario\"][\"Site\"][tech].items() if \"size\" in key]:\n",
    "                print(tech + \" \" + size_name_value[0], \" = \", size_name_value[1])                "
   ]
  },
  {
   "cell_type": "code",
   "execution_count": null,
   "metadata": {},
   "outputs": [],
   "source": []
  },
  {
   "cell_type": "code",
   "execution_count": null,
   "metadata": {},
   "outputs": [],
   "source": []
  },
  {
   "cell_type": "code",
   "execution_count": null,
   "metadata": {},
   "outputs": [],
   "source": []
  },
  {
   "cell_type": "markdown",
   "metadata": {},
   "source": [
    "## Save API response into a JSON file for later use"
   ]
  },
  {
   "cell_type": "code",
   "execution_count": 17,
   "metadata": {},
   "outputs": [],
   "source": [
    "response_save = api_response\n",
    "file_name_to_save = \"response_1\"\n",
    "with open(os.path.join(outputs_path, file_name_to_save + \".json\"), 'w') as fp:\n",
    "    json.dump(response_save, fp)"
   ]
  }
 ],
 "metadata": {
  "@webio": {
   "lastCommId": null,
   "lastKernelId": null
  },
  "kernelspec": {
   "display_name": "Python 3 (ipykernel)",
   "language": "python",
   "name": "python3"
  },
  "language_info": {
   "codemirror_mode": {
    "name": "ipython",
    "version": 3
   },
   "file_extension": ".py",
   "mimetype": "text/x-python",
   "name": "python",
   "nbconvert_exporter": "python",
   "pygments_lexer": "ipython3",
   "version": "3.10.5"
  },
  "latex_envs": {
   "LaTeX_envs_menu_present": true,
   "autoclose": false,
   "autocomplete": true,
   "bibliofile": "biblio.bib",
   "cite_by": "apalike",
   "current_citInitial": 1,
   "eqLabelWithNumbers": true,
   "eqNumInitial": 1,
   "hotkeys": {
    "equation": "Ctrl-E",
    "itemize": "Ctrl-I"
   },
   "labels_anchors": false,
   "latex_user_defs": false,
   "report_style_numbering": false,
   "user_envs_cfg": false
  }
 },
 "nbformat": 4,
 "nbformat_minor": 4
}
