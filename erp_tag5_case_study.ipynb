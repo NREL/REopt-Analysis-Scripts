{
 "cells": [
  {
   "cell_type": "markdown",
   "metadata": {},
   "source": [
    "# Case study demonstrating the Energy Resilience and Performance tool"
   ]
  },
  {
   "cell_type": "markdown",
   "metadata": {},
   "source": [
    "## Initialization"
   ]
  },
  {
   "cell_type": "code",
   "execution_count": 9,
   "metadata": {},
   "outputs": [],
   "source": [
    "import pandas as pd\n",
    "import numpy as np\n",
    "import json\n",
    "import requests\n",
    "import copy\n",
    "import os\n",
    "import matplotlib.pyplot as plt\n",
    "import matplotlib.ticker as mtick\n",
    "from src.post_and_poll import get_api_results\n",
    "API_KEY = '30eStqyC1wlaSn5q89nYi4PkNQ6h1veqInY8xJR3'  # REPLACE WITH YOUR API KEY\n",
    "root_url = \"https://developer.nrel.gov/api/reopt/dev\"\n",
    "reopt_results_url = root_url + '/job/{run_uuid}/results/?api_key=' + API_KEY\n",
    "# erp_url = root_url + '/erp/'\n",
    "# erp_results_url = erp_url + '{run_uuid}/results/?api_key=' + API_KEY\n",
    "\n"
   ]
  },
  {
   "cell_type": "code",
   "execution_count": 10,
   "metadata": {},
   "outputs": [],
   "source": [
    "# the following is not necessary but silences warnings:\n",
    "# InsecureRequestWarning: Unverified HTTPS request is being made to host 'developer.nrel.gov'. Adding certificate verification is strongly advised.\n",
    "import urllib3\n",
    "urllib3.disable_warnings()"
   ]
  },
  {
   "cell_type": "code",
   "execution_count": 11,
   "metadata": {},
   "outputs": [],
   "source": [
    "\"\"\"\n",
    "Here are some convenience definitions for using the Multi-scenario capabilities\n",
    "\"\"\"\n",
    "##############################################################################################################\n",
    "inputs_path = os.path.join(\".\", 'inputs')\n",
    "outputs_path = os.path.join(\".\", 'outputs')\n",
    "loads_path = os.path.join(\".\", 'load_profiles')\n",
    "rates_path = os.path.join(\".\", 'electric_rates')\n",
    "##############################################################################################################"
   ]
  },
  {
   "cell_type": "markdown",
   "metadata": {},
   "source": [
    "## Helper functions"
   ]
  },
  {
   "cell_type": "code",
   "execution_count": 12,
   "metadata": {},
   "outputs": [],
   "source": [
    "def summarize_reopt_results(reopt_post, reopt_response):\n",
    "    print(\"NPV ($) = \", reopt_response[\"outputs\"][\"Financial\"][\"npv\"])\n",
    "    print(\"Capital Cost, Net ($) = \", reopt_response[\"outputs\"][\"Financial\"][\"lifecycle_capital_costs\"])\n",
    "    tech_list = [\"PV\", \"Wind\", \"ElectricStorage\", \"CHP\", \"Generator\", \"HotThermalStorage\", \"ColdThermalStorage\", \"AbsorptionChiller\", \"GHP\", \"NewBoiler\", \"SteamTurbine\"]\n",
    "    for tech in tech_list:\n",
    "        if tech in reopt_post.keys():\n",
    "            if tech == \"GHP\":\n",
    "                print(\"GHX Number of Boreholes = \", reopt_response[\"outputs\"][tech][\"ghpghx_chosen_outputs\"].get(\"number_of_boreholes\"))\n",
    "                print(\"GHP Heat Pump Capacity (ton) = \", reopt_response[\"outputs\"][tech][\"ghpghx_chosen_outputs\"].get(\"peak_combined_heatpump_thermal_ton\"))\n",
    "            # PV and Storage are considered if the POST does not explicitly make max_[size] == 0\n",
    "            for size_name_value in [(key, val) for key, val in reopt_response[\"outputs\"][tech].items() if \"size\" in key]:\n",
    "                    print(tech + \" \" + size_name_value[0], \" = \", size_name_value[1])\n",
    "        elif tech in [\"PV\", \"ElectricStorage\"]:\n",
    "            for size_name_value in [(key, val) for key, val in reopt_response[\"outputs\"][tech].items() if \"size\" in key]:\n",
    "                    print(tech + \" \" + size_name_value[0], \" = \", size_name_value[1])"
   ]
  },
  {
   "cell_type": "markdown",
   "metadata": {},
   "source": [
    "## POST inputs and GET results from the REopt API"
   ]
  },
  {
   "cell_type": "markdown",
   "metadata": {},
   "source": [
    "### REopt Inputs"
   ]
  },
  {
   "cell_type": "code",
   "execution_count": 14,
   "metadata": {},
   "outputs": [],
   "source": [
    "# Peak load occurs on 9/28\n",
    "# Model 96 hour outage during 9/26-29\n",
    "outage_start = 269*24+1\n",
    "outage_duration = 96\n",
    "\n",
    "reopt_post_initial = {\n",
    "    \"Settings\": {\n",
    "        \"run_bau\": False\n",
    "    },\n",
    "    \"Site\": {\n",
    "        #San Fransisco\n",
    "        \"latitude\": 37.77,\n",
    "        \"longitude\": -122.42\n",
    "    },\n",
    "    \"ElectricLoad\": {\n",
    "        \"doe_reference_name\": \"LargeOffice\", # annual 6085402.508 kwh, max 1663.026 kw\n",
    "        \"annual_kwh\": 6085402.508*1.2, #makes peak load ~2MW\n",
    "        \"critical_load_percent\": 0.5\n",
    "    },  \n",
    "    \"ElectricTariff\": {\n",
    "        \"urdb_label\": \"62d5b7fc4939f52c862151f9\"\n",
    "    },\n",
    "    \"ElectricUtility\": {\n",
    "        \"outage_start_time_steps\": [outage_start],\n",
    "        \"outage_durations\": [outage_duration]\n",
    "    },\n",
    "    \"Generator\": {\n",
    "        \"installed_cost_per_kw\": 650,\n",
    "        \"om_cost_per_kw\": 30,\n",
    "        \"max_kw\": 1e7,\n",
    "        \"fuel_avail_gal\": 1e9\n",
    "    },  \n",
    "    \"PV\": {\n",
    "        \"max_kw\": 1e7\n",
    "    },    \n",
    "    \"ElectricStorage\": {\n",
    "        \"max_kwh\": 1e7,\n",
    "        \"max_kw\": 1e7\n",
    "    }    \n",
    "}"
   ]
  },
  {
   "cell_type": "markdown",
   "metadata": {},
   "source": [
    "### Run REopt to get optimal tech sizes"
   ]
  },
  {
   "cell_type": "markdown",
   "metadata": {},
   "source": [
    "`get_api_results` POST's your inputs to the API `job` endpoint, which provides a `run_uuid` if the input is valid, and then polls the `results` endpoint using the `run_uuid` until the results come back with a status other than `Optimizing...`.\n",
    "\n",
    "`get_api_results` also saves the results (full API response, including inputs) to the `results_file`.\n",
    "\n",
    "A log file is also created in the current working directory."
   ]
  },
  {
   "cell_type": "code",
   "execution_count": 17,
   "metadata": {},
   "outputs": [
    {
     "name": "stderr",
     "output_type": "stream",
     "text": [
      "main         INFO     Response OK from https://developer.nrel.gov/api/reopt/dev/job/?api_key=30eStqyC1wlaSn5q89nYi4PkNQ6h1veqInY8xJR3.\n",
      "main         INFO     Polling https://developer.nrel.gov/api/reopt/dev/job/602e2d01-3590-4104-9136-3fa5dd39d89b/results/?api_key=30eStqyC1wlaSn5q89nYi4PkNQ6h1veqInY8xJR3 for results with interval of 5s...\n",
      "main         INFO     Saved results to ./outputs/erp_tag5_reopt_results_inital.json\n"
     ]
    }
   ],
   "source": [
    "reopt_initial_outputs_file_name = \"erp_tag5_reopt_results_inital\"\n",
    "reopt_initial_outputs = get_api_results(post=reopt_post_initial, \n",
    "                               API_KEY=API_KEY, \n",
    "                               api_url=root_url, \n",
    "                               results_file=os.path.join(\n",
    "                                   outputs_path, \n",
    "                                   reopt_initial_outputs_file_name+\".json\"\n",
    "                               ), \n",
    "                               run_id=None)"
   ]
  },
  {
   "cell_type": "markdown",
   "metadata": {},
   "source": [
    "### If you get disconnected from the polling function but you think it ran, copy the run_uuid from the log above to manually GET the results:"
   ]
  },
  {
   "cell_type": "code",
   "execution_count": null,
   "metadata": {},
   "outputs": [],
   "source": [
    "run_uuid = \"\"\n",
    "resp = requests.get(url=reopt_results_url.format(run_uuid=run_uuid), verify=False)\n",
    "reopt_initial_outputs = json.loads(resp.text)"
   ]
  },
  {
   "cell_type": "markdown",
   "metadata": {},
   "source": [
    "### Summarize inital REopt optimization results"
   ]
  },
  {
   "cell_type": "code",
   "execution_count": 23,
   "metadata": {},
   "outputs": [
    {
     "name": "stdout",
     "output_type": "stream",
     "text": [
      "dict_keys(['Financial', 'ElectricTariff', 'ElectricUtility', 'ElectricLoad', 'PV'])\n"
     ]
    }
   ],
   "source": [
    "with open(os.path.join(outputs_path,  'erp_tag5_reopt_results_inital.json'), 'rb') as handle:\n",
    "    reopt_initial_outputs = json.load(handle)\n",
    "    print(reopt_initial_outputs[\"outputs\"].keys())\n",
    "#     summarize_reopt_results(reopt_post_initial, reopt_initial_outputs)"
   ]
  },
  {
   "cell_type": "markdown",
   "metadata": {},
   "source": [
    "### Round generator size and run REopt again"
   ]
  },
  {
   "cell_type": "code",
   "execution_count": 10,
   "metadata": {},
   "outputs": [
    {
     "name": "stderr",
     "output_type": "stream",
     "text": [
      "main         INFO     Response OK from http://0.0.0.0:8000/dev/job/?api_key=30eStqyC1wlaSn5q89nYi4PkNQ6h1veqInY8xJR3.\n",
      "main         INFO     Polling http://0.0.0.0:8000/dev/job/4208e813-3eed-40da-8ac8-61b2d9c76b1a/results/?api_key=30eStqyC1wlaSn5q89nYi4PkNQ6h1veqInY8xJR3 for results with interval of 5s...\n",
      "main         INFO     Saved results to ./outputs/erp_tag3_reopt_results_rounded.json\n"
     ]
    }
   ],
   "source": [
    "reopt_post_rounded = reopt_post_initial\n",
    "rounded_gen_size = 350\n",
    "reopt_post_rounded[\"Generator\"][\"max_kw\"] = rounded_gen_size\n",
    "reopt_post_rounded[\"Generator\"][\"min_kw\"] = rounded_gen_size\n",
    "\n",
    "reopt_rounded_outputs_file_name = \"erp_tag5_reopt_results_rounded\"\n",
    "reopt_rounded_outputs = get_api_results(post=reopt_post_rounded, \n",
    "                               API_KEY=API_KEY, \n",
    "                               api_url=root_url, \n",
    "                               results_file=os.path.join(\n",
    "                                   outputs_path, \n",
    "                                   reopt_rounded_outputs_file_name+\".json\"\n",
    "                               ), \n",
    "                               run_id=None)"
   ]
  },
  {
   "cell_type": "markdown",
   "metadata": {},
   "source": [
    "### Summarize rounded generator REopt optimization results"
   ]
  },
  {
   "cell_type": "code",
   "execution_count": 11,
   "metadata": {},
   "outputs": [
    {
     "name": "stdout",
     "output_type": "stream",
     "text": [
      "NPV ($) =  4018120.34\n",
      "Capital Cost, Net ($) =  6223141.8836\n",
      "PV size_kw  =  4071.6388\n",
      "ElectricStorage size_kw  =  773.3\n",
      "ElectricStorage size_kwh  =  4681.54\n",
      "Generator size_kw  =  350.0\n"
     ]
    }
   ],
   "source": [
    "with open(os.path.join(outputs_path, reopt_rounded_outputs_file_name + '.json'), 'rb') as handle:\n",
    "    reopt_rounded_outputs = json.load(handle)\n",
    "    summarize_reopt_results(reopt_post_rounded, reopt_rounded_outputs)"
   ]
  },
  {
   "cell_type": "markdown",
   "metadata": {},
   "source": [
    "## Run the ERP tool with REopt results and inputs"
   ]
  },
  {
   "cell_type": "markdown",
   "metadata": {},
   "source": [
    "### ERP inputs"
   ]
  },
  {
   "cell_type": "code",
   "execution_count": 12,
   "metadata": {},
   "outputs": [],
   "source": [
    "post_erp_all_techs = {\n",
    "        \"reopt_run_uuid\": reopt_rounded_outputs[\"run_uuid\"],\n",
    "        \"generator_operational_availability\": 0.9998, \n",
    "        \"generator_failure_to_start\" : 0.0066, \n",
    "        \"generator_failure_to_run\" : 0.00157,\n",
    "        \"num_generators\" : 1,\n",
    "        \"max_outage_duration\" : reopt_post_rounded[\"ElectricUtility\"][\"outage_end_time_step\"] - reopt_post_rounded[\"ElectricUtility\"][\"outage_start_time_step\"] + 1,\n",
    "    \n",
    "}\n",
    "post_erp_gen_only = post_erp_all_techs.copy()\n",
    "post_erp_gen_only.update({\n",
    "        \"num_generators\": 3,\n",
    "        \"generator_size_kw\" : 500,\n",
    "        \"battery_size_kw\" : 0,\n",
    "        \"battery_size_kwh\" : 0,\n",
    "        \"pv_size_kw\" : 0\n",
    "    }\n",
    ")"
   ]
  },
  {
   "cell_type": "markdown",
   "metadata": {},
   "source": [
    "### POST inputs and GET results from ERP API"
   ]
  },
  {
   "cell_type": "code",
   "execution_count": 13,
   "metadata": {},
   "outputs": [
    {
     "name": "stderr",
     "output_type": "stream",
     "text": [
      "main         INFO     Response OK from http://0.0.0.0:8000/dev/erp/?api_key=30eStqyC1wlaSn5q89nYi4PkNQ6h1veqInY8xJR3.\n",
      "main         INFO     Polling http://0.0.0.0:8000/dev/erp/d89e9f84-350d-4640-840c-121ab53f07cf/results/?api_key=30eStqyC1wlaSn5q89nYi4PkNQ6h1veqInY8xJR3 for results with interval of 5s...\n",
      "main         INFO     Saved results to ./outputs/erp_tag3_erp_results_all_techs.json\n"
     ]
    }
   ],
   "source": [
    "erp_all_techs_outputs_file_name = \"erp_tag5_erp_results_all_techs\"\n",
    "erp_all_techs_outputs = get_api_results(post=post_erp_all_techs, \n",
    "                                API_KEY=API_KEY, \n",
    "                                api_url=root_url, \n",
    "                                results_file=os.path.join(\n",
    "                                   outputs_path, \n",
    "                                   erp_all_techs_outputs_file_name+\".json\"\n",
    "                                ), \n",
    "                                run_id=None,\n",
    "                                ERP=True)"
   ]
  },
  {
   "cell_type": "code",
   "execution_count": 14,
   "metadata": {},
   "outputs": [
    {
     "name": "stderr",
     "output_type": "stream",
     "text": [
      "main         INFO     Response OK from http://0.0.0.0:8000/dev/erp/?api_key=30eStqyC1wlaSn5q89nYi4PkNQ6h1veqInY8xJR3.\n",
      "main         INFO     Polling http://0.0.0.0:8000/dev/erp/8c4f7d7d-bb00-4572-aa83-41f57eaf447e/results/?api_key=30eStqyC1wlaSn5q89nYi4PkNQ6h1veqInY8xJR3 for results with interval of 5s...\n",
      "main         INFO     Saved results to ./outputs/erp_tag3_erp_results_gen_only.json\n"
     ]
    }
   ],
   "source": [
    "erp_gen_only_outputs_file_name = \"erp_tag5_erp_results_gen_only\"\n",
    "erp_gen_only_outputs = get_api_results(post=post_erp_gen_only, \n",
    "                                API_KEY=API_KEY, \n",
    "                                api_url=root_url, \n",
    "                                results_file=os.path.join(\n",
    "                                   outputs_path, \n",
    "                                   erp_gen_only_outputs_file_name+\".json\"\n",
    "                                ), \n",
    "                                run_id=None,\n",
    "                                ERP=True)"
   ]
  },
  {
   "cell_type": "markdown",
   "metadata": {},
   "source": [
    "## Plot ERP results"
   ]
  },
  {
   "cell_type": "code",
   "execution_count": 4,
   "metadata": {},
   "outputs": [],
   "source": []
  },
  {
   "cell_type": "markdown",
   "metadata": {},
   "source": [
    "### All techs"
   ]
  },
  {
   "cell_type": "code",
   "execution_count": 16,
   "metadata": {},
   "outputs": [],
   "source": [
    "cum_survival = erp_all_techs_outputs[\"outputs\"][\"mean_cumulative_survival_by_duration\"]\n",
    "mar_survival = erp_all_techs_outputs[\"outputs\"][\"mean_marginal_survival_by_duration\"]\n",
    "final_survival_by_start = erp_all_techs_outputs[\"outputs\"][\"cumulative_outage_survival_final_time_step\"]\n",
    "max_duration = len(cum_survival)\n",
    "outage_durations = range(1, max_duration + 1)"
   ]
  },
  {
   "cell_type": "markdown",
   "metadata": {},
   "source": [
    "### Plot marginal and cumulative survival on same plot vs outage duration"
   ]
  },
  {
   "cell_type": "code",
   "execution_count": 17,
   "metadata": {},
   "outputs": [
    {
     "data": {
      "image/png": "[encoded data removed]",
      "text/plain": [
       "<Figure size 432x288 with 1 Axes>"
      ]
     },
     "metadata": {
      "needs_background": "light"
     },
     "output_type": "display_data"
    }
   ],
   "source": [
    "plt.plot(outage_durations, mar_survival, linestyle='-', label = \"Marginal survival\", color = \"black\")\n",
    "plt.plot(outage_durations, cum_survival, linestyle='-', label = \"Cumulative survival\", color = \"red\")\n",
    "plt.xlabel(\"Outage duration\")\n",
    "plt.ylabel(\"Survival probability\")\n",
    "plt.gca().yaxis.set_major_formatter(mtick.PercentFormatter(xmax=1.0))\n",
    "plt.ylim([0,1])\n",
    "plt.xlim([1,max_duration])\n",
    "time_list =   [120, 48, 24,  12, 8]\n",
    "time_ticks = [12,   6,  3,   2, 1]\n",
    "\n",
    "tick_mark_step = 24\n",
    "for i in range(len(time_list)):\n",
    "    if max_duration < time_list[i]:\n",
    "        tick_mark_step = time_ticks[i]\n",
    "\n",
    "plt.xticks(range(0, max_duration+1, tick_mark_step))\n",
    "plt.legend()\n",
    "plt.show()"
   ]
  },
  {
   "cell_type": "markdown",
   "metadata": {},
   "source": [
    "### Plot final cumulative survival vs outage start hour"
   ]
  },
  {
   "cell_type": "code",
   "execution_count": 31,
   "metadata": {},
   "outputs": [
    {
     "data": {
      "image/png": "[encoded data removed]",
      "text/plain": [
       "<Figure size 432x288 with 1 Axes>"
      ]
     },
     "metadata": {
      "needs_background": "light"
     },
     "output_type": "display_data"
    }
   ],
   "source": [
    "plt.plot(range(8760), final_survival_by_start, linestyle='-', label = \"{} hour cumulative survival\".format(max_duration), color = \"black\")\n",
    "plt.xlabel(\"Outage start hour\")\n",
    "plt.ylabel(\"Survival probability\")\n",
    "plt.gca().yaxis.set_major_formatter(mtick.PercentFormatter(xmax=1.0))\n",
    "plt.ylim([0,1])\n",
    "plt.legend()\n",
    "plt.show()"
   ]
  },
  {
   "cell_type": "code",
   "execution_count": 30,
   "metadata": {},
   "outputs": [
    {
     "name": "stderr",
     "output_type": "stream",
     "text": [
      "/Users/hdunham/opt/miniconda3/lib/python3.8/site-packages/numpy/core/fromnumeric.py:3474: RuntimeWarning: Mean of empty slice.\n",
      "  return _methods._mean(a, axis=axis, dtype=dtype,\n",
      "/Users/hdunham/opt/miniconda3/lib/python3.8/site-packages/numpy/core/_methods.py:189: RuntimeWarning: invalid value encountered in double_scalars\n",
      "  ret = ret.dtype.type(ret / rcount)\n"
     ]
    },
    {
     "ename": "IndexError",
     "evalue": "list index out of range",
     "output_type": "error",
     "traceback": [
      "\u001b[0;31m---------------------------------------------------------------------------\u001b[0m",
      "\u001b[0;31mIndexError\u001b[0m                                Traceback (most recent call last)",
      "Input \u001b[0;32mIn [30]\u001b[0m, in \u001b[0;36m<cell line: 2>\u001b[0;34m()\u001b[0m\n\u001b[1;32m      1\u001b[0m month_start_time_steps \u001b[38;5;241m=\u001b[39m \u001b[38;5;241m24\u001b[39m\u001b[38;5;241m*\u001b[39m[\u001b[38;5;241m0\u001b[39m, \u001b[38;5;241m31\u001b[39m, \u001b[38;5;241m59\u001b[39m, \u001b[38;5;241m90\u001b[39m, \u001b[38;5;241m120\u001b[39m, \u001b[38;5;241m150\u001b[39m, \u001b[38;5;241m181\u001b[39m, \u001b[38;5;241m212\u001b[39m, \u001b[38;5;241m242\u001b[39m, \u001b[38;5;241m273\u001b[39m, \u001b[38;5;241m303\u001b[39m, \u001b[38;5;241m334\u001b[39m]\n\u001b[0;32m----> 2\u001b[0m final_survival_by_month \u001b[38;5;241m=\u001b[39m [np\u001b[38;5;241m.\u001b[39mmean(final_survival_by_start[month_start_time_steps[ts]:month_start_time_steps[ts\u001b[38;5;241m+\u001b[39m\u001b[38;5;241m1\u001b[39m]]) \u001b[38;5;28;01mfor\u001b[39;00m ts \u001b[38;5;129;01min\u001b[39;00m \u001b[38;5;28mrange\u001b[39m(\u001b[38;5;28mlen\u001b[39m(month_start_time_steps))]\n\u001b[1;32m      4\u001b[0m \u001b[38;5;66;03m#                            np.mean(final_survival_by_start[0:31]),np.mean(final_survival_by_start[31:59]),\u001b[39;00m\n\u001b[1;32m      5\u001b[0m \u001b[38;5;66;03m#                            np.mean(final_survival_by_start[59:90]),np.mean(final_survival_by_start[90:120],\u001b[39;00m\n\u001b[1;32m      6\u001b[0m \u001b[38;5;66;03m#                            np.mean(final_survival_by_start[120:151]),np.mean(final_survival_by_start[151:]\u001b[39;00m\n\u001b[1;32m      7\u001b[0m plt\u001b[38;5;241m.\u001b[39mplot(\u001b[38;5;28mrange\u001b[39m(\u001b[38;5;241m8760\u001b[39m), final_survival_by_month, linestyle\u001b[38;5;241m=\u001b[39m\u001b[38;5;124m'\u001b[39m\u001b[38;5;124m-\u001b[39m\u001b[38;5;124m'\u001b[39m, label \u001b[38;5;241m=\u001b[39m \u001b[38;5;124m\"\u001b[39m\u001b[38;5;132;01m{}\u001b[39;00m\u001b[38;5;124m hour cumulative survival\u001b[39m\u001b[38;5;124m\"\u001b[39m\u001b[38;5;241m.\u001b[39mformat(max_duration), color \u001b[38;5;241m=\u001b[39m \u001b[38;5;124m\"\u001b[39m\u001b[38;5;124mblack\u001b[39m\u001b[38;5;124m\"\u001b[39m)\n",
      "Input \u001b[0;32mIn [30]\u001b[0m, in \u001b[0;36m<listcomp>\u001b[0;34m(.0)\u001b[0m\n\u001b[1;32m      1\u001b[0m month_start_time_steps \u001b[38;5;241m=\u001b[39m \u001b[38;5;241m24\u001b[39m\u001b[38;5;241m*\u001b[39m[\u001b[38;5;241m0\u001b[39m, \u001b[38;5;241m31\u001b[39m, \u001b[38;5;241m59\u001b[39m, \u001b[38;5;241m90\u001b[39m, \u001b[38;5;241m120\u001b[39m, \u001b[38;5;241m150\u001b[39m, \u001b[38;5;241m181\u001b[39m, \u001b[38;5;241m212\u001b[39m, \u001b[38;5;241m242\u001b[39m, \u001b[38;5;241m273\u001b[39m, \u001b[38;5;241m303\u001b[39m, \u001b[38;5;241m334\u001b[39m]\n\u001b[0;32m----> 2\u001b[0m final_survival_by_month \u001b[38;5;241m=\u001b[39m [np\u001b[38;5;241m.\u001b[39mmean(final_survival_by_start[month_start_time_steps[ts]:\u001b[43mmonth_start_time_steps\u001b[49m\u001b[43m[\u001b[49m\u001b[43mts\u001b[49m\u001b[38;5;241;43m+\u001b[39;49m\u001b[38;5;241;43m1\u001b[39;49m\u001b[43m]\u001b[49m]) \u001b[38;5;28;01mfor\u001b[39;00m ts \u001b[38;5;129;01min\u001b[39;00m \u001b[38;5;28mrange\u001b[39m(\u001b[38;5;28mlen\u001b[39m(month_start_time_steps))]\n\u001b[1;32m      4\u001b[0m \u001b[38;5;66;03m#                            np.mean(final_survival_by_start[0:31]),np.mean(final_survival_by_start[31:59]),\u001b[39;00m\n\u001b[1;32m      5\u001b[0m \u001b[38;5;66;03m#                            np.mean(final_survival_by_start[59:90]),np.mean(final_survival_by_start[90:120],\u001b[39;00m\n\u001b[1;32m      6\u001b[0m \u001b[38;5;66;03m#                            np.mean(final_survival_by_start[120:151]),np.mean(final_survival_by_start[151:]\u001b[39;00m\n\u001b[1;32m      7\u001b[0m plt\u001b[38;5;241m.\u001b[39mplot(\u001b[38;5;28mrange\u001b[39m(\u001b[38;5;241m8760\u001b[39m), final_survival_by_month, linestyle\u001b[38;5;241m=\u001b[39m\u001b[38;5;124m'\u001b[39m\u001b[38;5;124m-\u001b[39m\u001b[38;5;124m'\u001b[39m, label \u001b[38;5;241m=\u001b[39m \u001b[38;5;124m\"\u001b[39m\u001b[38;5;132;01m{}\u001b[39;00m\u001b[38;5;124m hour cumulative survival\u001b[39m\u001b[38;5;124m\"\u001b[39m\u001b[38;5;241m.\u001b[39mformat(max_duration), color \u001b[38;5;241m=\u001b[39m \u001b[38;5;124m\"\u001b[39m\u001b[38;5;124mblack\u001b[39m\u001b[38;5;124m\"\u001b[39m)\n",
      "\u001b[0;31mIndexError\u001b[0m: list index out of range"
     ]
    }
   ],
   "source": [
    "month_start_time_steps = 24*[0, 31, 59, 90, 120, 150, 181, 212, 242, 273, 303, 334]\n",
    "final_survival_by_month = [np.mean(final_survival_by_start[month_start_time_steps[ts]:month_start_time_steps[ts+1]]) for ts in range(len(month_start_time_steps))]\n",
    "                           \n",
    "#                            np.mean(final_survival_by_start[0:31]),np.mean(final_survival_by_start[31:59]),\n",
    "#                            np.mean(final_survival_by_start[59:90]),np.mean(final_survival_by_start[90:120],\n",
    "#                            np.mean(final_survival_by_start[120:151]),np.mean(final_survival_by_start[151:]\n",
    "plt.plot(range(8760), final_survival_by_month, linestyle='-', label = \"{} hour cumulative survival\".format(max_duration), color = \"black\")\n",
    "plt.xlabel(\"Outage start hour\")\n",
    "plt.ylabel(\"Survival probability\")\n",
    "plt.gca().yaxis.set_major_formatter(mtick.PercentFormatter(xmax=1.0))\n",
    "plt.ylim([0,1])\n",
    "plt.legend()\n",
    "plt.show()"
   ]
  },
  {
   "cell_type": "markdown",
   "metadata": {},
   "source": [
    "### Generator only"
   ]
  },
  {
   "cell_type": "code",
   "execution_count": 27,
   "metadata": {},
   "outputs": [],
   "source": [
    "cum_survival = erp_gen_only_outputs[\"outputs\"][\"mean_cumulative_survival_by_duration\"]\n",
    "mar_survival = erp_gen_only_outputs[\"outputs\"][\"mean_marginal_survival_by_duration\"]\n",
    "final_survival_by_start = erp_gen_only_outputs[\"outputs\"][\"cumulative_outage_survival_final_time_step\"]\n",
    "max_duration = len(cum_survival)\n",
    "outage_durations = range(1, max_duration + 1)"
   ]
  },
  {
   "cell_type": "markdown",
   "metadata": {},
   "source": [
    "### Plot marginal and cumulative survival on same plot vs outage duration"
   ]
  },
  {
   "cell_type": "code",
   "execution_count": 25,
   "metadata": {},
   "outputs": [
    {
     "data": {
      "image/png": "[encoded data removed]",
      "text/plain": [
       "<Figure size 432x288 with 1 Axes>"
      ]
     },
     "metadata": {
      "needs_background": "light"
     },
     "output_type": "display_data"
    }
   ],
   "source": [
    "plt.plot(outage_durations, mar_survival, linestyle='-', label = \"Marginal survival\", color = \"black\")\n",
    "plt.plot(outage_durations, cum_survival, linestyle='-', label = \"Cumulative survival\", color = \"red\")\n",
    "plt.xlabel(\"Outage duration\")\n",
    "plt.ylabel(\"Survival probability\")\n",
    "plt.gca().yaxis.set_major_formatter(mtick.PercentFormatter(xmax=1.0))\n",
    "plt.ylim([0,1])\n",
    "plt.xlim([1,max_duration])\n",
    "time_list =   [120, 48, 24,  12, 8]\n",
    "time_ticks = [12,   6,  3,   2, 1]\n",
    "\n",
    "tick_mark_step = 24\n",
    "for i in range(len(time_list)):\n",
    "    if max_duration < time_list[i]:\n",
    "        tick_mark_step = time_ticks[i]\n",
    "\n",
    "plt.xticks(range(0, max_duration+1, tick_mark_step))\n",
    "plt.legend()\n",
    "plt.show()"
   ]
  },
  {
   "cell_type": "markdown",
   "metadata": {},
   "source": [
    "### Plot final cumulative survival vs outage start hour"
   ]
  },
  {
   "cell_type": "code",
   "execution_count": 29,
   "metadata": {},
   "outputs": [
    {
     "data": {
      "image/png": "[encoded data removed]",
      "text/plain": [
       "<Figure size 432x288 with 1 Axes>"
      ]
     },
     "metadata": {
      "needs_background": "light"
     },
     "output_type": "display_data"
    }
   ],
   "source": [
    "plt.plot(range(8760), final_survival_by_start, linestyle='-', label = \"{} hour cumulative survival\".format(max_duration), color = \"black\")\n",
    "plt.xlabel(\"Outage start hour\")\n",
    "plt.ylabel(\"Survival probability\")\n",
    "plt.gca().yaxis.set_major_formatter(mtick.PercentFormatter(xmax=1.0))\n",
    "plt.ylim([.9,1])\n",
    "plt.legend()\n",
    "plt.show()"
   ]
  },
  {
   "cell_type": "code",
   "execution_count": 9,
   "metadata": {},
   "outputs": [
    {
     "data": {
      "image/png": "[encoded data removed]",
      "text/plain": [
       "<Figure size 432x288 with 1 Axes>"
      ]
     },
     "metadata": {
      "needs_background": "light"
     },
     "output_type": "display_data"
    }
   ],
   "source": [
    "plt.plot(range(1,13), [1,0.9,0.8,0.9,0.7,0.8,0.8,0.7,0.9,0.9,1,0.9])\n",
    "plt.xlabel(\"Month\")\n",
    "plt.ylabel(\"Survival probability\")\n",
    "plt.gca().yaxis.set_major_formatter(mtick.PercentFormatter(xmax=1.0))\n",
    "plt.xticks(range(1, 13))\n",
    "plt.title(\"96 hour cumulative survival by month\")\n",
    "plt.show()"
   ]
  },
  {
   "cell_type": "code",
   "execution_count": null,
   "metadata": {},
   "outputs": [],
   "source": []
  }
 ],
 "metadata": {
  "@webio": {
   "lastCommId": null,
   "lastKernelId": null
  },
  "kernelspec": {
   "display_name": "Python 3 (ipykernel)",
   "language": "python",
   "name": "python3"
  },
  "language_info": {
   "codemirror_mode": {
    "name": "ipython",
    "version": 3
   },
   "file_extension": ".py",
   "mimetype": "text/x-python",
   "name": "python",
   "nbconvert_exporter": "python",
   "pygments_lexer": "ipython3",
   "version": "3.8.3"
  },
  "latex_envs": {
   "LaTeX_envs_menu_present": true,
   "autoclose": false,
   "autocomplete": true,
   "bibliofile": "biblio.bib",
   "cite_by": "apalike",
   "current_citInitial": 1,
   "eqLabelWithNumbers": true,
   "eqNumInitial": 1,
   "hotkeys": {
    "equation": "Ctrl-E",
    "itemize": "Ctrl-I"
   },
   "labels_anchors": false,
   "latex_user_defs": false,
   "report_style_numbering": false,
   "user_envs_cfg": false
  }
 },
 "nbformat": 4,
 "nbformat_minor": 4
}
