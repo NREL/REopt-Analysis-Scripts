{
 "cells": [
  {
   "cell_type": "markdown",
   "metadata": {},
   "source": [
    "# Case study demonstrating the Energy Resilience and Performance tool"
   ]
  },
  {
   "cell_type": "markdown",
   "metadata": {},
   "source": [
    "## Initialization"
   ]
  },
  {
   "cell_type": "code",
   "execution_count": 20,
   "metadata": {},
   "outputs": [],
   "source": [
    "import pandas as pd\n",
    "import numpy as np\n",
    "import json\n",
    "import requests\n",
    "import copy\n",
    "import os\n",
    "import matplotlib.pyplot as plt\n",
    "import matplotlib.ticker as mtick\n",
    "from src.post_and_poll import get_api_results\n",
    "API_KEY = '30eStqyC1wlaSn5q89nYi4PkNQ6h1veqInY8xJR3'  # REPLACE WITH YOUR API KEY\n",
    "root_url = \"https://developer.nrel.gov/api/reopt/dev\"\n",
    "reopt_results_url = root_url + '/job/{run_uuid}/results/?api_key=' + API_KEY\n",
    "# erp_url = root_url + '/erp/'\n",
    "# erp_results_url = erp_url + '{run_uuid}/results/?api_key=' + API_KEY\n",
    "\n"
   ]
  },
  {
   "cell_type": "code",
   "execution_count": 21,
   "metadata": {},
   "outputs": [],
   "source": [
    "# the following is not necessary but silences warnings:\n",
    "# InsecureRequestWarning: Unverified HTTPS request is being made to host 'developer.nrel.gov'. Adding certificate verification is strongly advised.\n",
    "import urllib3\n",
    "urllib3.disable_warnings()"
   ]
  },
  {
   "cell_type": "code",
   "execution_count": 22,
   "metadata": {},
   "outputs": [],
   "source": [
    "\"\"\"\n",
    "Here are some convenience definitions for using the Multi-scenario capabilities\n",
    "\"\"\"\n",
    "##############################################################################################################\n",
    "inputs_path = os.path.join(\".\", 'inputs')\n",
    "outputs_path = os.path.join(\".\", 'outputs')\n",
    "loads_path = os.path.join(\".\", 'load_profiles')\n",
    "rates_path = os.path.join(\".\", 'electric_rates')\n",
    "##############################################################################################################"
   ]
  },
  {
   "cell_type": "markdown",
   "metadata": {},
   "source": [
    "## Helper functions"
   ]
  },
  {
   "cell_type": "code",
   "execution_count": 39,
   "metadata": {},
   "outputs": [],
   "source": [
    "def summarize_reopt_results(reopt_post, reopt_response):\n",
    "    print(\"LCC ($) = \", reopt_response[\"outputs\"][\"Financial\"][\"lcc\"])\n",
    "    print(\"Capital Cost, Net ($) = \", reopt_response[\"outputs\"][\"Financial\"][\"lifecycle_capital_costs\"])\n",
    "    tech_list = [\"PV\", \"Wind\", \"ElectricStorage\", \"CHP\", \"Generator\", \"HotThermalStorage\", \"ColdThermalStorage\", \"AbsorptionChiller\", \"GHP\", \"NewBoiler\", \"SteamTurbine\"]\n",
    "    for tech in tech_list:\n",
    "        if tech in reopt_post.keys():\n",
    "            if tech == \"GHP\":\n",
    "                print(\"GHX Number of Boreholes = \", reopt_response[\"outputs\"][tech][\"ghpghx_chosen_outputs\"].get(\"number_of_boreholes\"))\n",
    "                print(\"GHP Heat Pump Capacity (ton) = \", reopt_response[\"outputs\"][tech][\"ghpghx_chosen_outputs\"].get(\"peak_combined_heatpump_thermal_ton\"))\n",
    "            # PV and Storage are considered if the POST does not explicitly make max_[size] == 0\n",
    "            for size_name_value in [(key, val) for key, val in reopt_response[\"outputs\"][tech].items() if \"size\" in key]:\n",
    "                    print(tech + \" \" + size_name_value[0], \" = \", size_name_value[1])\n",
    "        elif tech in [\"PV\", \"ElectricStorage\"]:\n",
    "            for size_name_value in [(key, val) for key, val in reopt_response[\"outputs\"][tech].items() if \"size\" in key]:\n",
    "                    print(tech + \" \" + size_name_value[0], \" = \", size_name_value[1])"
   ]
  },
  {
   "cell_type": "markdown",
   "metadata": {},
   "source": [
    "## POST inputs and GET results from the REopt API"
   ]
  },
  {
   "cell_type": "markdown",
   "metadata": {},
   "source": [
    "### REopt Inputs"
   ]
  },
  {
   "cell_type": "code",
   "execution_count": 26,
   "metadata": {},
   "outputs": [],
   "source": [
    "# Peak load occurs on 9/28\n",
    "# Model 96 hour outage during 9/26-29\n",
    "outage_start = 269*24+1\n",
    "outage_duration = 96\n",
    "\n",
    "reopt_post_initial = {\n",
    "    \"Settings\": {\n",
    "        \"run_bau\": False\n",
    "    },\n",
    "    \"Site\": {\n",
    "        #San Fransisco\n",
    "        \"latitude\": 37.77,\n",
    "        \"longitude\": -122.42\n",
    "    },\n",
    "    \"ElectricLoad\": {\n",
    "        \"doe_reference_name\": \"LargeOffice\", # annual 6085402.508 kwh, max 1663.026 kw\n",
    "        \"annual_kwh\": 6085402.508,#*1.2, #makes peak load ~2MW\n",
    "        \"critical_load_percent\": 0.5\n",
    "    },  \n",
    "    \"ElectricTariff\": {\n",
    "        \"urdb_label\": \"62d5b7fc4939f52c862151f9\"\n",
    "    },\n",
    "    \"ElectricUtility\": {\n",
    "        \"outage_start_time_steps\": [\n",
    "            1084,\n",
    "            3459,\n",
    "            4395,\n",
    "            6483\n",
    "        ],\n",
    "        \"outage_durations\": 24\n",
    "    },\n",
    "    \"Generator\": {\n",
    "        \"max_kw\": 1e7\n",
    "    },  \n",
    "    \"PV\": {\n",
    "        \"max_kw\": 1e7\n",
    "    },    \n",
    "    \"ElectricStorage\": {\n",
    "        \"max_kwh\": 1e7,\n",
    "        \"max_kw\": 1e7\n",
    "    }    \n",
    "}"
   ]
  },
  {
   "cell_type": "markdown",
   "metadata": {},
   "source": [
    "### Run REopt to get optimal tech sizes"
   ]
  },
  {
   "cell_type": "markdown",
   "metadata": {},
   "source": [
    "`get_api_results` POST's your inputs to the API `job` endpoint, which provides a `run_uuid` if the input is valid, and then polls the `results` endpoint using the `run_uuid` until the results come back with a status other than `Optimizing...`.\n",
    "\n",
    "`get_api_results` also saves the results (full API response, including inputs) to the `results_file`.\n",
    "\n",
    "A log file is also created in the current working directory."
   ]
  },
  {
   "cell_type": "code",
   "execution_count": 27,
   "metadata": {},
   "outputs": [
    {
     "name": "stderr",
     "output_type": "stream",
     "text": [
      "main         INFO     Response OK from https://developer.nrel.gov/api/reopt/dev/job/?api_key=30eStqyC1wlaSn5q89nYi4PkNQ6h1veqInY8xJR3.\n",
      "main         INFO     Polling https://developer.nrel.gov/api/reopt/dev/job/80d96b30-2e6c-485d-aa7a-f50983b2af3c/results/?api_key=30eStqyC1wlaSn5q89nYi4PkNQ6h1veqInY8xJR3 for results with interval of 5s...\n",
      "main         INFO     Saved results to ./outputs/erp_tag5_reopt_results_inital.json\n"
     ]
    }
   ],
   "source": [
    "reopt_initial_outputs_file_name = \"erp_tag5_reopt_results_inital\"\n",
    "reopt_initial_outputs = get_api_results(post=reopt_post_initial, \n",
    "                               API_KEY=API_KEY, \n",
    "                               api_url=root_url, \n",
    "                               results_file=os.path.join(\n",
    "                                   outputs_path, \n",
    "                                   reopt_initial_outputs_file_name+\".json\"\n",
    "                               ), \n",
    "                               run_id=None)"
   ]
  },
  {
   "cell_type": "markdown",
   "metadata": {},
   "source": [
    "### If you get disconnected from the polling function but you think it ran, copy the run_uuid from the log above to manually GET the results:"
   ]
  },
  {
   "cell_type": "code",
   "execution_count": null,
   "metadata": {},
   "outputs": [],
   "source": [
    "run_uuid = \"\"\n",
    "resp = requests.get(url=reopt_results_url.format(run_uuid=run_uuid), verify=False)\n",
    "reopt_initial_outputs = json.loads(resp.text)"
   ]
  },
  {
   "cell_type": "markdown",
   "metadata": {},
   "source": [
    "### Summarize inital REopt optimization results"
   ]
  },
  {
   "cell_type": "code",
   "execution_count": 41,
   "metadata": {},
   "outputs": [
    {
     "name": "stdout",
     "output_type": "stream",
     "text": [
      "LCC ($) =  12275584.0346\n",
      "Capital Cost, Net ($) =  6048744.9186\n",
      "PV size_kw  =  4049.6685\n",
      "ElectricStorage size_kw  =  1001.21\n",
      "ElectricStorage size_kwh  =  7418.92\n",
      "Generator size_kw  =  0.0\n"
     ]
    }
   ],
   "source": [
    "with open(os.path.join(outputs_path, reopt_initial_outputs_file_name + '.json'), 'rb') as handle:\n",
    "    reopt_initial_outputs = json.load(handle)\n",
    "    summarize_reopt_results(reopt_post_initial, reopt_initial_outputs)"
   ]
  },
  {
   "cell_type": "markdown",
   "metadata": {},
   "source": [
    "## Run the ERP tool with REopt results and inputs"
   ]
  },
  {
   "cell_type": "markdown",
   "metadata": {},
   "source": [
    "### ERP inputs"
   ]
  },
  {
   "cell_type": "code",
   "execution_count": 29,
   "metadata": {},
   "outputs": [],
   "source": [
    "post_erp_opt_techs = {\n",
    "    \"reopt_run_uuid\": reopt_initial_outputs[\"run_uuid\"]    \n",
    "}\n",
    "post_erp_add_gen = post_erp_opt_techs.copy()\n",
    "post_erp_add_gen[\"Generator\"] = {\n",
    "    \"num_generators\": 2,\n",
    "    \"size_kw\" : 1600\n",
    "}"
   ]
  },
  {
   "cell_type": "markdown",
   "metadata": {},
   "source": [
    "### POST inputs and GET results from ERP API"
   ]
  },
  {
   "cell_type": "code",
   "execution_count": 30,
   "metadata": {},
   "outputs": [
    {
     "name": "stderr",
     "output_type": "stream",
     "text": [
      "main         INFO     Response OK from https://developer.nrel.gov/api/reopt/dev/erp/?api_key=30eStqyC1wlaSn5q89nYi4PkNQ6h1veqInY8xJR3.\n",
      "main         INFO     Polling https://developer.nrel.gov/api/reopt/dev/erp/31cfb2d0-f38f-4bd7-b364-1b8e5f25bdcb/results/?api_key=30eStqyC1wlaSn5q89nYi4PkNQ6h1veqInY8xJR3 for results with interval of 5s...\n",
      "main         INFO     Saved results to ./outputs/erp_tag5_erp_results_opt_techs.json\n"
     ]
    }
   ],
   "source": [
    "erp_opt_techs_outputs_file_name = \"erp_tag5_erp_results_opt_techs\"\n",
    "erp_opt_techs_outputs = get_api_results(post=post_erp_opt_techs, \n",
    "                                API_KEY=API_KEY, \n",
    "                                api_url=root_url, \n",
    "                                results_file=os.path.join(\n",
    "                                   outputs_path, \n",
    "                                   erp_opt_techs_outputs_file_name+\".json\"\n",
    "                                ), \n",
    "                                run_id=None,\n",
    "                                ERP=True)"
   ]
  },
  {
   "cell_type": "code",
   "execution_count": 31,
   "metadata": {},
   "outputs": [
    {
     "name": "stderr",
     "output_type": "stream",
     "text": [
      "main         INFO     Response OK from https://developer.nrel.gov/api/reopt/dev/erp/?api_key=30eStqyC1wlaSn5q89nYi4PkNQ6h1veqInY8xJR3.\n",
      "main         INFO     Polling https://developer.nrel.gov/api/reopt/dev/erp/0d42790a-0b79-4c61-8a6b-a33e1b5869ee/results/?api_key=30eStqyC1wlaSn5q89nYi4PkNQ6h1veqInY8xJR3 for results with interval of 5s...\n",
      "main         INFO     Saved results to ./outputs/erp_tag5_erp_results_add_gen.json\n"
     ]
    }
   ],
   "source": [
    "erp_add_gen_outputs_file_name = \"erp_tag5_erp_results_add_gen\"\n",
    "erp_add_gen_outputs = get_api_results(post=post_erp_add_gen, \n",
    "                                API_KEY=API_KEY, \n",
    "                                api_url=root_url, \n",
    "                                results_file=os.path.join(\n",
    "                                   outputs_path, \n",
    "                                   erp_add_gen_outputs_file_name+\".json\"\n",
    "                                ), \n",
    "                                run_id=None,\n",
    "                                ERP=True)"
   ]
  },
  {
   "cell_type": "markdown",
   "metadata": {},
   "source": [
    "## Plot ERP results"
   ]
  },
  {
   "cell_type": "markdown",
   "metadata": {},
   "source": [
    "### Optimal techs"
   ]
  },
  {
   "cell_type": "code",
   "execution_count": 32,
   "metadata": {},
   "outputs": [],
   "source": [
    "cum_survival = erp_opt_techs_outputs[\"outputs\"][\"mean_cumulative_survival_by_duration\"]\n",
    "final_survival_by_start = erp_opt_techs_outputs[\"outputs\"][\"cumulative_survival_final_time_step\"]\n",
    "max_duration = len(cum_survival)\n",
    "outage_durations = range(1, max_duration + 1)"
   ]
  },
  {
   "cell_type": "markdown",
   "metadata": {},
   "source": [
    "### Plot cumulative survival vs outage duration"
   ]
  },
  {
   "cell_type": "code",
   "execution_count": 33,
   "metadata": {},
   "outputs": [
    {
     "data": {
      "image/png": "[encoded data removed]",
      "text/plain": [
       "<Figure size 432x288 with 1 Axes>"
      ]
     },
     "metadata": {
      "needs_background": "light"
     },
     "output_type": "display_data"
    }
   ],
   "source": [
    "plt.plot(outage_durations, cum_survival, linestyle='-', label = \"Cumulative survival\", color = \"red\")\n",
    "plt.xlabel(\"Outage duration\")\n",
    "plt.ylabel(\"Survival probability\")\n",
    "plt.gca().yaxis.set_major_formatter(mtick.PercentFormatter(xmax=1.0))\n",
    "plt.ylim([0,1])\n",
    "plt.xlim([1,max_duration])\n",
    "time_list =   [120, 48, 24,  12, 8]\n",
    "time_ticks = [12,   6,  3,   2, 1]\n",
    "\n",
    "tick_mark_step = 24\n",
    "for i in range(len(time_list)):\n",
    "    if max_duration < time_list[i]:\n",
    "        tick_mark_step = time_ticks[i]\n",
    "\n",
    "plt.xticks(range(0, max_duration+1, tick_mark_step))\n",
    "plt.legend()\n",
    "plt.show()"
   ]
  },
  {
   "cell_type": "markdown",
   "metadata": {},
   "source": [
    "### Generator added"
   ]
  },
  {
   "cell_type": "code",
   "execution_count": 34,
   "metadata": {},
   "outputs": [],
   "source": [
    "cum_survival = erp_add_gen_outputs[\"outputs\"][\"mean_cumulative_survival_by_duration\"]\n",
    "final_survival_by_start = erp_add_gen_outputs[\"outputs\"][\"cumulative_survival_final_time_step\"]\n",
    "max_duration = len(cum_survival)\n",
    "outage_durations = range(1, max_duration + 1)"
   ]
  },
  {
   "cell_type": "markdown",
   "metadata": {},
   "source": [
    "### Plot marginal and cumulative survival on same plot vs outage duration"
   ]
  },
  {
   "cell_type": "code",
   "execution_count": 35,
   "metadata": {},
   "outputs": [
    {
     "data": {
      "image/png": "[encoded data removed]",
      "text/plain": [
       "<Figure size 432x288 with 1 Axes>"
      ]
     },
     "metadata": {
      "needs_background": "light"
     },
     "output_type": "display_data"
    }
   ],
   "source": [
    "plt.plot(outage_durations, cum_survival, linestyle='-', label = \"Cumulative survival\", color = \"red\")\n",
    "plt.xlabel(\"Outage duration\")\n",
    "plt.ylabel(\"Survival probability\")\n",
    "plt.gca().yaxis.set_major_formatter(mtick.PercentFormatter(xmax=1.0))\n",
    "plt.ylim([0,1])\n",
    "plt.xlim([1,max_duration])\n",
    "time_list =   [120, 48, 24,  12, 8]\n",
    "time_ticks = [12,   6,  3,   2, 1]\n",
    "\n",
    "tick_mark_step = 24\n",
    "for i in range(len(time_list)):\n",
    "    if max_duration < time_list[i]:\n",
    "        tick_mark_step = time_ticks[i]\n",
    "\n",
    "plt.xticks(range(0, max_duration+1, tick_mark_step))\n",
    "plt.legend()\n",
    "plt.show()"
   ]
  },
  {
   "cell_type": "markdown",
   "metadata": {},
   "source": [
    "## Force in modified sizes and rerun REopt"
   ]
  },
  {
   "cell_type": "code",
   "execution_count": 37,
   "metadata": {},
   "outputs": [],
   "source": [
    "reopt_post_revised = reopt_post_initial\n",
    "reopt_post_revised[\"Generator\"][\"min_kw\"] = post_erp_add_gen[\"Generator\"][\"num_generators\"]*post_erp_add_gen[\"Generator\"][\"size_kw\"]\n",
    "reopt_post_revised[\"Generator\"][\"max_kw\"] = post_erp_add_gen[\"Generator\"][\"num_generators\"]*post_erp_add_gen[\"Generator\"][\"size_kw\"]\n",
    "reopt_post_revised[\"PV\"][\"min_kw\"] = reopt_initial_outputs[\"outputs\"][\"PV\"][\"size_kw\"]\n",
    "reopt_post_revised[\"PV\"][\"max_kw\"] = reopt_initial_outputs[\"outputs\"][\"PV\"][\"size_kw\"]\n",
    "reopt_post_revised[\"ElectricStorage\"][\"min_kw\"] = reopt_initial_outputs[\"outputs\"][\"ElectricStorage\"][\"size_kw\"]\n",
    "reopt_post_revised[\"ElectricStorage\"][\"max_kw\"] = reopt_initial_outputs[\"outputs\"][\"ElectricStorage\"][\"size_kw\"]\n",
    "reopt_post_revised[\"ElectricStorage\"][\"min_kwh\"] = reopt_initial_outputs[\"outputs\"][\"ElectricStorage\"][\"size_kwh\"]\n",
    "reopt_post_revised[\"ElectricStorage\"][\"max_kwh\"] = reopt_initial_outputs[\"outputs\"][\"ElectricStorage\"][\"size_kwh\"]"
   ]
  },
  {
   "cell_type": "code",
   "execution_count": 38,
   "metadata": {},
   "outputs": [
    {
     "name": "stderr",
     "output_type": "stream",
     "text": [
      "main         INFO     Response OK from https://developer.nrel.gov/api/reopt/dev/job/?api_key=30eStqyC1wlaSn5q89nYi4PkNQ6h1veqInY8xJR3.\n",
      "main         INFO     Polling https://developer.nrel.gov/api/reopt/dev/job/ba4b82f8-f2bc-4560-966d-bc495bf25358/results/?api_key=30eStqyC1wlaSn5q89nYi4PkNQ6h1veqInY8xJR3 for results with interval of 5s...\n",
      "main         INFO     Saved results to ./outputs/erp_tag5_reopt_results_with_gen.json\n"
     ]
    }
   ],
   "source": [
    "reopt_revised_outputs_file_name = \"erp_tag5_reopt_results_revised\"\n",
    "reopt_revised_outputs = get_api_results(post=reopt_post_revised, \n",
    "                               API_KEY=API_KEY, \n",
    "                               api_url=root_url, \n",
    "                               results_file=os.path.join(\n",
    "                                   outputs_path, \n",
    "                                   reopt_revised_outputs_file_name+\".json\"\n",
    "                               ), \n",
    "                               run_id=None)"
   ]
  },
  {
   "cell_type": "markdown",
   "metadata": {},
   "source": [
    "### Summarize inital REopt optimization results"
   ]
  },
  {
   "cell_type": "code",
   "execution_count": 40,
   "metadata": {},
   "outputs": [
    {
     "name": "stdout",
     "output_type": "stream",
     "text": [
      "LCC ($) =  14285028.7681\n",
      "Capital Cost, Net ($) =  7648745.9036\n",
      "PV size_kw  =  4049.6685\n",
      "ElectricStorage size_kw  =  1001.21\n",
      "ElectricStorage size_kwh  =  7418.92\n",
      "Generator size_kw  =  3200.0\n"
     ]
    }
   ],
   "source": [
    "with open(os.path.join(outputs_path, reopt_revised_outputs_file_name + '.json'), 'rb') as handle:\n",
    "    reopt_revised_outputs = json.load(handle)\n",
    "    summarize_reopt_results(reopt_post_revised, reopt_revised_outputs)"
   ]
  },
  {
   "cell_type": "code",
   "execution_count": null,
   "metadata": {},
   "outputs": [],
   "source": []
  }
 ],
 "metadata": {
  "@webio": {
   "lastCommId": null,
   "lastKernelId": null
  },
  "kernelspec": {
   "display_name": "Python 3 (ipykernel)",
   "language": "python",
   "name": "python3"
  },
  "language_info": {
   "codemirror_mode": {
    "name": "ipython",
    "version": 3
   },
   "file_extension": ".py",
   "mimetype": "text/x-python",
   "name": "python",
   "nbconvert_exporter": "python",
   "pygments_lexer": "ipython3",
   "version": "3.8.3"
  },
  "latex_envs": {
   "LaTeX_envs_menu_present": true,
   "autoclose": false,
   "autocomplete": true,
   "bibliofile": "biblio.bib",
   "cite_by": "apalike",
   "current_citInitial": 1,
   "eqLabelWithNumbers": true,
   "eqNumInitial": 1,
   "hotkeys": {
    "equation": "Ctrl-E",
    "itemize": "Ctrl-I"
   },
   "labels_anchors": false,
   "latex_user_defs": false,
   "report_style_numbering": false,
   "user_envs_cfg": false
  }
 },
 "nbformat": 4,
 "nbformat_minor": 4
}
